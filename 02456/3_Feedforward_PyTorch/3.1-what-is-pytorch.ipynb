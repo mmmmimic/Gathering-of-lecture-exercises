{
 "cells": [
  {
   "cell_type": "markdown",
   "metadata": {},
   "source": [
    "# Credits\n",
    "\n",
    "This is heavily influenced or copied from https://github.com/pytorch/tutorials"
   ]
  },
  {
   "cell_type": "markdown",
   "metadata": {},
   "source": [
    "# What is PyTorch?\n",
    "\n",
    "> **NOTE** In the last part of this lab cuda is used. If you have a cuda enabled machine, read the README.md in the root of this repo on how to use nvidia-docker.\n",
    "\n",
    "\n",
    "It’s a Python based scientific computing package targeted at two sets of\n",
    "audiences:\n",
    "-  A replacement for numpy to use the power of GPUs\n",
    "-  a deep learning research platform that provides maximum flexibility\n",
    "   and speed\n"
   ]
  },
  {
   "cell_type": "markdown",
   "metadata": {},
   "source": [
    "# Getting Started\n",
    "\n",
    "In this lab you will get a quick start on what pytorch is and how to use it.\n",
    "\n",
    "## 1. Tensors\n",
    "\n",
    "Tensors are similar to numpy’s ndarrays, with the addition being that\n",
    "Tensors can also be used on a GPU to accelerate computing."
   ]
  },
  {
   "cell_type": "code",
   "execution_count": 1,
   "metadata": {},
   "outputs": [],
   "source": [
    "import torch"
   ]
  },
  {
   "cell_type": "markdown",
   "metadata": {},
   "source": [
    "Construct a 5x3 matrix, uninitialized"
   ]
  },
  {
   "cell_type": "code",
   "execution_count": 29,
   "metadata": {
    "scrolled": false,
    "tags": []
   },
   "outputs": [
    {
     "output_type": "stream",
     "name": "stdout",
     "text": "tensor([[9.6429e-39, 8.4490e-39, 9.6429e-39],\n        [9.2755e-39, 1.0286e-38, 9.0919e-39],\n        [8.9082e-39, 9.2755e-39, 8.4490e-39],\n        [7.3469e-39, 1.0653e-38, 1.0194e-38],\n        [8.4490e-39, 1.0194e-38, 9.2755e-39]])\n"
    }
   ],
   "source": [
    "x = torch.Tensor(5, 3)\n",
    "print(x)"
   ]
  },
  {
   "cell_type": "markdown",
   "metadata": {},
   "source": [
    "Construct a randomly initialized matrix"
   ]
  },
  {
   "cell_type": "code",
   "execution_count": 30,
   "metadata": {
    "tags": []
   },
   "outputs": [
    {
     "output_type": "stream",
     "name": "stdout",
     "text": "tensor([[0.8645, 0.9769, 0.6420],\n        [0.1100, 0.0849, 0.9601],\n        [0.8162, 0.9104, 0.6295],\n        [0.5500, 0.1133, 0.1077],\n        [0.9539, 0.0676, 0.6598]])\n"
    }
   ],
   "source": [
    "x = torch.rand(5, 3)\n",
    "print(x)"
   ]
  },
  {
   "cell_type": "markdown",
   "metadata": {},
   "source": [
    "Get its size"
   ]
  },
  {
   "cell_type": "code",
   "execution_count": 19,
   "metadata": {
    "tags": []
   },
   "outputs": [
    {
     "output_type": "stream",
     "name": "stdout",
     "text": "torch.Size([5, 3])\n"
    }
   ],
   "source": [
    "print(x.size())"
   ]
  },
  {
   "cell_type": "markdown",
   "metadata": {},
   "source": [
    "**NOTE** `torch.Size` is in fact a tuple, so it supports the same operations"
   ]
  },
  {
   "cell_type": "code",
   "execution_count": 20,
   "metadata": {
    "tags": []
   },
   "outputs": [
    {
     "output_type": "stream",
     "name": "stdout",
     "text": "tensor([[0.7357, 0.5867, 0.6405],\n        [2.0000, 2.0000, 2.0000],\n        [2.0000, 2.0000, 2.0000],\n        [0.2150, 0.4766, 0.3476],\n        [0.0736, 0.9668, 0.1317]])\n"
    }
   ],
   "source": [
    "x[1:3] = 2\n",
    "print(x)"
   ]
  },
  {
   "cell_type": "markdown",
   "metadata": {},
   "source": [
    "# Assignment\n",
    "\n",
    "Make use of the pytorch docs <http://pytorch.org/docs/torch>\n",
    "1. Make a tensor of size (2, 17)\n",
    "2. Make a torch.FloatTensor of size (3, 1)\n",
    "3. Make a torch.LongTensor of size (5, 2, 1)\n",
    "  - fill the entire tensor with 7s\n",
    "4. Make a torch.ByteTensor of size (5,)\n",
    "  - fill the middle 3 indices with ones such that it records [0, 1, 1, 1, 0]"
   ]
  },
  {
   "cell_type": "code",
   "execution_count": 15,
   "metadata": {
    "tags": []
   },
   "outputs": [
    {
     "output_type": "stream",
     "name": "stdout",
     "text": "tensor([[[7],\n         [7]],\n\n        [[7],\n         [7]],\n\n        [[7],\n         [7]],\n\n        [[7],\n         [7]],\n\n        [[7],\n         [7]]])\ntensor([0, 1, 1, 1, 0], dtype=torch.uint8)\n"
    }
   ],
   "source": [
    "# 1\n",
    "t1 = torch.Tensor(2,17)\n",
    "# 2\n",
    "t2 = torch.FloatTensor(3,1)\n",
    "# 3\n",
    "t3 = torch.ones(5,2,1,dtype=torch.long)*7\n",
    "print(t3)\n",
    "# 4\n",
    "t4 = torch.ByteTensor(5,)*0\n",
    "t4[1:4] = 1\n",
    "print(t4)"
   ]
  },
  {
   "cell_type": "markdown",
   "metadata": {},
   "source": [
    "## 2. Operations\n",
    "There are multiple syntaxes for operations. Let's see addition as an example:\n",
    "\n",
    "### 2.1 Addition: syntax 1"
   ]
  },
  {
   "cell_type": "code",
   "execution_count": 31,
   "metadata": {
    "tags": []
   },
   "outputs": [
    {
     "output_type": "stream",
     "name": "stdout",
     "text": "tensor([[1.5681, 1.1725, 1.1679],\n        [0.1364, 0.4686, 1.0960],\n        [1.5526, 1.2265, 0.9158],\n        [1.0390, 0.8675, 0.2107],\n        [1.5799, 0.7635, 0.7573]])\n"
    }
   ],
   "source": [
    "y = torch.rand(5, 3)\n",
    "print(x + y)"
   ]
  },
  {
   "cell_type": "markdown",
   "metadata": {},
   "source": [
    "### 2.2 Addition: syntax 2"
   ]
  },
  {
   "cell_type": "code",
   "execution_count": 32,
   "metadata": {
    "tags": []
   },
   "outputs": [
    {
     "output_type": "stream",
     "name": "stdout",
     "text": "tensor([[1.5681, 1.1725, 1.1679],\n        [0.1364, 0.4686, 1.0960],\n        [1.5526, 1.2265, 0.9158],\n        [1.0390, 0.8675, 0.2107],\n        [1.5799, 0.7635, 0.7573]])\n"
    }
   ],
   "source": [
    "print(torch.add(x, y))"
   ]
  },
  {
   "cell_type": "markdown",
   "metadata": {},
   "source": [
    "### 2.3 Addition: giving an output tensor"
   ]
  },
  {
   "cell_type": "code",
   "execution_count": 33,
   "metadata": {
    "tags": []
   },
   "outputs": [
    {
     "output_type": "stream",
     "name": "stdout",
     "text": "tensor([[1.5681, 1.1725, 1.1679],\n        [0.1364, 0.4686, 1.0960],\n        [1.5526, 1.2265, 0.9158],\n        [1.0390, 0.8675, 0.2107],\n        [1.5799, 0.7635, 0.7573]])\n"
    }
   ],
   "source": [
    "result = torch.Tensor(5, 3)\n",
    "torch.add(x, y, out=result)\n",
    "print(result)"
   ]
  },
  {
   "cell_type": "markdown",
   "metadata": {},
   "source": [
    "### 2.4 Addition: in-place\n",
    "\n",
    "adds `x` to `y`"
   ]
  },
  {
   "cell_type": "code",
   "execution_count": 34,
   "metadata": {
    "tags": []
   },
   "outputs": [
    {
     "output_type": "stream",
     "name": "stdout",
     "text": "tensor([[1.5681, 1.1725, 1.1679],\n        [0.1364, 0.4686, 1.0960],\n        [1.5526, 1.2265, 0.9158],\n        [1.0390, 0.8675, 0.2107],\n        [1.5799, 0.7635, 0.7573]])\n"
    }
   ],
   "source": [
    "y.add_(x)\n",
    "print(y)"
   ]
  },
  {
   "cell_type": "markdown",
   "metadata": {},
   "source": [
    "**NOTE** Any operation that mutates a tensor in-place is post-fixed with an `_`. For example: `x.copy_(y)`, `x.t_()`, will change `x`."
   ]
  },
  {
   "cell_type": "markdown",
   "metadata": {},
   "source": [
    "You can use standard numpy-like indexing with all bells and whistles!"
   ]
  },
  {
   "cell_type": "code",
   "execution_count": 35,
   "metadata": {
    "tags": []
   },
   "outputs": [
    {
     "output_type": "stream",
     "name": "stdout",
     "text": "tensor([0.9769, 0.0849, 0.9104, 0.1133, 0.0676])\n"
    }
   ],
   "source": [
    "print(x[:, 1])"
   ]
  },
  {
   "cell_type": "markdown",
   "metadata": {},
   "source": [
    "**Read later** 100+ Tensor operations, including transposing, indexing, slicing, mathematical operations, linear algebra, random numbers, etc are described here <http://pytorch.org/docs/torch>"
   ]
  },
  {
   "cell_type": "markdown",
   "metadata": {},
   "source": [
    "# Assignment\n",
    "\n",
    "1. multiplication of two tensors (see [torch.Tensor.mul](http://pytorch.org/docs/master/tensors.html#torch.Tensor.mul))\n",
    "2. do the same, but inplace\n",
    "3. division of two tensors (see [torch.Tensor.div](http://pytorch.org/docs/master/tensors.html#torch.Tensor.div))\n",
    "4. perform a matrix multiplication of two tensors of size (2, 4) and (4, 2)"
   ]
  },
  {
   "cell_type": "code",
   "execution_count": 36,
   "metadata": {
    "tags": []
   },
   "outputs": [
    {
     "output_type": "stream",
     "name": "stdout",
     "text": "x= tensor([[0.8645, 0.9769, 0.6420],\n        [0.1100, 0.0849, 0.9601],\n        [0.8162, 0.9104, 0.6295],\n        [0.5500, 0.1133, 0.1077],\n        [0.9539, 0.0676, 0.6598]])\ny= tensor([[1.5681, 1.1725, 1.1679],\n        [0.1364, 0.4686, 1.0960],\n        [1.5526, 1.2265, 0.9158],\n        [1.0390, 0.8675, 0.2107],\n        [1.5799, 0.7635, 0.7573]])\ntensor([[1.3556, 1.1454, 0.7498],\n        [0.0150, 0.0398, 1.0523],\n        [1.2672, 1.1166, 0.5765],\n        [0.5715, 0.0983, 0.0227],\n        [1.5070, 0.0516, 0.4997]])\ntensor([[1.3556, 1.1454, 0.7498],\n        [0.0150, 0.0398, 1.0523],\n        [1.2672, 1.1166, 0.5765],\n        [0.5715, 0.0983, 0.0227],\n        [1.5070, 0.0516, 0.4997]])\ntensor([[1.3556, 1.1454, 0.7498],\n        [0.0150, 0.0398, 1.0523],\n        [1.2672, 1.1166, 0.5765],\n        [0.5715, 0.0983, 0.0227],\n        [1.5070, 0.0516, 0.4997]])\n"
    }
   ],
   "source": [
    "print('x=',x)\n",
    "print('y=',y)\n",
    "# 1\n",
    "print(x*y)\n",
    "print(torch.mul(x,y))\n",
    "print(x.mul(y))"
   ]
  },
  {
   "cell_type": "code",
   "execution_count": 37,
   "metadata": {
    "tags": []
   },
   "outputs": [
    {
     "output_type": "stream",
     "name": "stdout",
     "text": "tensor([[1.3556, 1.1454, 0.7498],\n        [0.0150, 0.0398, 1.0523],\n        [1.2672, 1.1166, 0.5765],\n        [0.5715, 0.0983, 0.0227],\n        [1.5070, 0.0516, 0.4997]])\n"
    }
   ],
   "source": [
    "# 2\n",
    "x.mul_(y)\n",
    "print(x)"
   ]
  },
  {
   "cell_type": "code",
   "execution_count": 39,
   "metadata": {
    "tags": []
   },
   "outputs": [
    {
     "output_type": "stream",
     "name": "stdout",
     "text": "x= tensor([[1.3556, 1.1454, 0.7498],\n        [0.0150, 0.0398, 1.0523],\n        [1.2672, 1.1166, 0.5765],\n        [0.5715, 0.0983, 0.0227],\n        [1.5070, 0.0516, 0.4997]])\ny= tensor([[1.5681, 1.1725, 1.1679],\n        [0.1364, 0.4686, 1.0960],\n        [1.5526, 1.2265, 0.9158],\n        [1.0390, 0.8675, 0.2107],\n        [1.5799, 0.7635, 0.7573]])\ntensor([[0.8645, 0.9769, 0.6420],\n        [0.1100, 0.0849, 0.9601],\n        [0.8162, 0.9104, 0.6295],\n        [0.5500, 0.1133, 0.1077],\n        [0.9539, 0.0676, 0.6598]])\ntensor([[0.8645, 0.9769, 0.6420],\n        [0.1100, 0.0849, 0.9601],\n        [0.8162, 0.9104, 0.6295],\n        [0.5500, 0.1133, 0.1077],\n        [0.9539, 0.0676, 0.6598]])\ntensor([[0.8645, 0.9769, 0.6420],\n        [0.1100, 0.0849, 0.9601],\n        [0.8162, 0.9104, 0.6295],\n        [0.5500, 0.1133, 0.1077],\n        [0.9539, 0.0676, 0.6598]])\ntensor([[0.8645, 0.9769, 0.6420],\n        [0.1100, 0.0849, 0.9601],\n        [0.8162, 0.9104, 0.6295],\n        [0.5500, 0.1133, 0.1077],\n        [0.9539, 0.0676, 0.6598]])\n"
    }
   ],
   "source": [
    "# 3\n",
    "print('x=',x)\n",
    "print('y=',y)\n",
    "print(x/y)\n",
    "print(torch.div(x,y))\n",
    "print(x.div(y))\n",
    "x.div_(y)\n",
    "print(x)"
   ]
  },
  {
   "cell_type": "code",
   "execution_count": 44,
   "metadata": {
    "tags": []
   },
   "outputs": [
    {
     "output_type": "stream",
     "name": "stdout",
     "text": "t1 tensor([[0.1858, 0.1562, 0.3729, 0.9179],\n        [0.1159, 0.8790, 0.0766, 0.1232]])\nt2 tensor([[0.7598, 0.0657],\n        [0.7537, 0.1035],\n        [0.8555, 0.7637],\n        [0.7103, 0.5534]])\ntensor([[1.2299, 0.8211],\n        [0.9036, 0.2253]])\ntensor([[1.2299, 0.8211],\n        [0.9036, 0.2253]])\n"
    }
   ],
   "source": [
    "t1 = torch.rand(2,4)\n",
    "t2 = torch.rand(4,2)\n",
    "print('t1', t1)\n",
    "print('t2', t2)\n",
    "print(t1.matmul(t2)) # 2x4x4x2->2x2\n",
    "print(torch.matmul(t1, t2))"
   ]
  },
  {
   "cell_type": "markdown",
   "metadata": {},
   "source": [
    "## 3. Numpy Bridge\n",
    "\n",
    "Converting a torch Tensor to a numpy array and vice versa is a breeze.\n",
    "\n",
    "The torch Tensor and numpy array will share their underlying memory locations, and changing one will change the other.\n",
    "\n",
    "### 3.1 Converting torch Tensor to numpy Array"
   ]
  },
  {
   "cell_type": "code",
   "execution_count": 45,
   "metadata": {
    "tags": []
   },
   "outputs": [
    {
     "output_type": "stream",
     "name": "stdout",
     "text": "tensor([1., 1., 1., 1., 1.])\n"
    }
   ],
   "source": [
    "a = torch.ones(5)\n",
    "print(a)"
   ]
  },
  {
   "cell_type": "code",
   "execution_count": 46,
   "metadata": {
    "tags": []
   },
   "outputs": [
    {
     "output_type": "stream",
     "name": "stdout",
     "text": "[1. 1. 1. 1. 1.]\n"
    }
   ],
   "source": [
    "b = a.numpy()\n",
    "print(b)"
   ]
  },
  {
   "cell_type": "markdown",
   "metadata": {},
   "source": [
    "See how the numpy array changed in value."
   ]
  },
  {
   "cell_type": "code",
   "execution_count": 47,
   "metadata": {
    "tags": []
   },
   "outputs": [
    {
     "output_type": "stream",
     "name": "stdout",
     "text": "tensor([2., 2., 2., 2., 2.])\n[2. 2. 2. 2. 2.]\n"
    }
   ],
   "source": [
    "a.add_(1)\n",
    "print(a)\n",
    "print(b)\n",
    "# shallow copy here"
   ]
  },
  {
   "cell_type": "markdown",
   "metadata": {},
   "source": [
    "### 3.2 Converting numpy Array to torch Tensor\n",
    "\n",
    "See how changing the np array changed the torch Tensor automatically"
   ]
  },
  {
   "cell_type": "code",
   "execution_count": 48,
   "metadata": {
    "tags": []
   },
   "outputs": [
    {
     "output_type": "stream",
     "name": "stdout",
     "text": "[2. 2. 2. 2. 2.]\ntensor([2., 2., 2., 2., 2.], dtype=torch.float64)\n"
    }
   ],
   "source": [
    "import numpy as np\n",
    "a = np.ones(5)\n",
    "b = torch.from_numpy(a)\n",
    "np.add(a, 1, out=a)\n",
    "print(a)\n",
    "print(b)\n",
    "# shallow copy"
   ]
  },
  {
   "cell_type": "markdown",
   "metadata": {},
   "source": [
    "# Assignment\n",
    "\n",
    "1. create a tensor of size (5, 2) containing ones\n",
    "2. now convert it to a numpy array\n",
    "3. now convert it back to a torch tensor"
   ]
  },
  {
   "cell_type": "code",
   "execution_count": 50,
   "metadata": {
    "tags": []
   },
   "outputs": [
    {
     "output_type": "stream",
     "name": "stdout",
     "text": "tensor:  tensor([[1., 1.],\n        [1., 1.],\n        [1., 1.],\n        [1., 1.],\n        [1., 1.]])\n<class 'torch.Tensor'>\nnumpy:  [[1. 1.]\n [1. 1.]\n [1. 1.]\n [1. 1.]\n [1. 1.]]\n<class 'numpy.ndarray'>\ntensor:  tensor([[1., 1.],\n        [1., 1.],\n        [1., 1.],\n        [1., 1.],\n        [1., 1.]])\n<class 'torch.Tensor'>\n"
    }
   ],
   "source": [
    "# 1\n",
    "import numpy as np\n",
    "t1 = torch.ones(5,2)\n",
    "print('tensor: ', t1)\n",
    "print(type(t1))\n",
    "# 2\n",
    "np_t1 = t1.numpy()\n",
    "print('numpy: ', np_t1)\n",
    "print(type(np_t1))\n",
    "# 3\n",
    "t1 = torch.from_numpy(np_t1)\n",
    "print('tensor: ', t1)\n",
    "print(type(t1))"
   ]
  },
  {
   "cell_type": "markdown",
   "metadata": {},
   "source": [
    "All the Tensors on the CPU except a CharTensor support converting to NumPy and back.\n",
    "\n",
    "## 4 CUDA Tensors\n",
    "\n",
    "Tensors can be moved onto GPU using the `.cuda` function.\n",
    "This is not necessary, but check the `README.md` for details on how to use a GPU with docker."
   ]
  },
  {
   "cell_type": "code",
   "execution_count": 51,
   "metadata": {
    "tags": []
   },
   "outputs": [
    {
     "output_type": "stream",
     "name": "stdout",
     "text": "tensor([[0.8645, 0.9769, 0.6420],\n        [0.1100, 0.0849, 0.9601],\n        [0.8162, 0.9104, 0.6295],\n        [0.5500, 0.1133, 0.1077],\n        [0.9539, 0.0676, 0.6598]], device='cuda:0')\ntensor([[1.5681, 1.1725, 1.1679],\n        [0.1364, 0.4686, 1.0960],\n        [1.5526, 1.2265, 0.9158],\n        [1.0390, 0.8675, 0.2107],\n        [1.5799, 0.7635, 0.7573]], device='cuda:0')\ntensor([[2.4326, 2.1494, 1.8099],\n        [0.2463, 0.5534, 2.0561],\n        [2.3688, 2.1369, 1.5453],\n        [1.5890, 0.9808, 0.3184],\n        [2.5338, 0.8311, 1.4171]], device='cuda:0')\n"
    }
   ],
   "source": [
    "# let us run this cell only if CUDA is available\n",
    "if torch.cuda.is_available():\n",
    "    x = x.cuda()\n",
    "    y = y.cuda()\n",
    "    z = x + y\n",
    "    # notice that the tensors are now of type torch.cuda.FloatTensor (notice the cuda in there)\n",
    "    # this is meant as a tensor to be run on the GPU.\n",
    "    # the .cuda() does this to any parameter it is applied to\n",
    "    print(x)\n",
    "    print(y)\n",
    "    print(z)\n",
    "else:\n",
    "    print(\"CUDA not available on your machine.\")"
   ]
  },
  {
   "cell_type": "code",
   "execution_count": null,
   "metadata": {},
   "outputs": [],
   "source": []
  }
 ],
 "metadata": {
  "kernelspec": {
   "display_name": "Python 3",
   "language": "python",
   "name": "python3"
  },
  "language_info": {
   "codemirror_mode": {
    "name": "ipython",
    "version": 3
   },
   "file_extension": ".py",
   "mimetype": "text/x-python",
   "name": "python",
   "nbconvert_exporter": "python",
   "pygments_lexer": "ipython3",
   "version": "3.8.3-final"
  }
 },
 "nbformat": 4,
 "nbformat_minor": 2
}