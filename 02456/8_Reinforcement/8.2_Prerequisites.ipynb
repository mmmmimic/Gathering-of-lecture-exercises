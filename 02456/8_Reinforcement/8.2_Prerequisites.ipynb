{
 "cells": [
  {
   "cell_type": "markdown",
   "metadata": {},
   "source": [
    "# Prerequisites\n",
    "\n",
    "> By Jonas Busk ([jbusk@dtu.dk](mailto:jbusk@dtu.dk))\n",
    "\n",
    "**2019 update:** Changes have been made to the display of environments due to the previous `viewer` being incompatible with newer versions of Gym.\n",
    "\n",
    "In this lab we will create neural network reinforcement learning agents with [PyTorch](https://pytorch.org/) to navigate various environments from [OpenAI Gym](https://gym.openai.com/) developed by [OpenAI](https://openai.com/).\n",
    "\n",
    "Please refer to the [docs](https://gym.openai.com/docs/) on how to get started with Gym. You are also encouraged to take a look at this short [post on the OpenAI blog](https://blog.openai.com/openai-gym-beta/)."
   ]
  },
  {
   "cell_type": "markdown",
   "metadata": {},
   "source": [
    "## Installation\n",
    "\n",
    "Below is a brief guide on how to install OpenAI Gym. For more details, please refer to the repository on [GitHub](https://github.com/openai/gym) and the [docs](https://gym.openai.com/docs).\n",
    "\n",
    "You can do a minimal install of the packaged version of Gym directly from PyPI:\n",
    "\n",
    "```\n",
    "pip install gym\n",
    "```\n",
    "\n",
    "Or you can perform a minimal install from GitHub:\n",
    "\n",
    "```\n",
    "git clone https://github.com/openai/gym.git\n",
    "cd gym\n",
    "pip install -e .\n",
    "```\n",
    "\n",
    "If you like, you can do a quick pip install of Gym in the cell below:"
   ]
  },
  {
   "cell_type": "code",
   "execution_count": 1,
   "metadata": {},
   "outputs": [
    {
     "name": "stdout",
     "output_type": "stream",
     "text": [
      "Collecting gym\n",
      "  Downloading gym-0.17.3.tar.gz (1.6 MB)\n",
      "Requirement already satisfied: scipy in f:\\anaconda\\lib\\site-packages (from gym) (1.5.2)\n",
      "Requirement already satisfied: numpy>=1.10.4 in f:\\anaconda\\lib\\site-packages (from gym) (1.19.2)\n",
      "Collecting pyglet<=1.5.0,>=1.4.0\n",
      "  Downloading pyglet-1.5.0-py2.py3-none-any.whl (1.0 MB)\n",
      "Collecting cloudpickle<1.7.0,>=1.2.0\n",
      "  Downloading cloudpickle-1.6.0-py3-none-any.whl (23 kB)\n",
      "Requirement already satisfied: future in f:\\anaconda\\lib\\site-packages (from pyglet<=1.5.0,>=1.4.0->gym) (0.18.2)\n",
      "Building wheels for collected packages: gym\n",
      "  Building wheel for gym (setup.py): started\n",
      "  Building wheel for gym (setup.py): finished with status 'done'\n",
      "  Created wheel for gym: filename=gym-0.17.3-py3-none-any.whl size=1654657 sha256=3d06dad8166edd8ee5018fcbe971d0f5607dc18a965d0bc4c4e46d9ecf21c959\n",
      "  Stored in directory: c:\\users\\matth\\appdata\\local\\pip\\cache\\wheels\\84\\40\\e7\\14efb9870cfc92ac236d78cb721dce614ddec9666c8a5e0a35\n",
      "Successfully built gym\n",
      "Installing collected packages: pyglet, cloudpickle, gym\n",
      "Successfully installed cloudpickle-1.6.0 gym-0.17.3 pyglet-1.5.0\n"
     ]
    }
   ],
   "source": [
    "!pip install gym"
   ]
  },
  {
   "cell_type": "markdown",
   "metadata": {},
   "source": [
    "You will also need an installation of `ffmpeg` locally. If you do not have it installed already, you can install it by one of the following commands depending on your system:\n",
    "\n",
    "```sudo apt-get install ffmpeg``` (Linux)\n",
    "\n",
    "```conda install -c conda-forge ffmpeg``` (Anaconda)"
   ]
  },
  {
   "cell_type": "markdown",
   "metadata": {},
   "source": [
    "## Running an environment\n",
    "\n",
    "Here is a bare minimum example of running a Gym environment. This creates an instance of the [CartPole-v0](https://gym.openai.com/envs/CartPole-v0) environment and runs until the rollout is done, taking random actions and rendering the environment at each step. With Gym installed, you should be able to see a small animation of the environment below.\n",
    "\n",
    "**Note:** you will likely not be able to render environments in a Google Colab instance. Therefore, it may be beneficial for you to run this week's notebooks locally and/or team up with another student if you do not have a local environment."
   ]
  },
  {
   "cell_type": "code",
   "execution_count": 2,
   "metadata": {},
   "outputs": [
    {
     "data": {
      "text/html": [
       "\n",
       "        <video width=\"360\" height=\"auto\" alt=\"test\" controls><source src=\"data:video/mp4;base64,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\" type=\"video/mp4\" /></video>"
      ],
      "text/plain": [
       "<IPython.core.display.HTML object>"
      ]
     },
     "execution_count": 2,
     "metadata": {},
     "output_type": "execute_result"
    }
   ],
   "source": [
    "import gym\n",
    "from gym import wrappers\n",
    "\n",
    "env = gym.make('CartPole-v0') # Create environment\n",
    "env = wrappers.Monitor(env, \"./gym-results\", force=True) # Create wrapper to display environment\n",
    "env.reset() # Reset environment\n",
    "\n",
    "# Run environment\n",
    "while True:\n",
    "    env.render() # Render environment\n",
    "    action = env.action_space.sample() # Get a random action\n",
    "    _, _, done, _ = env.step(action) # Take a step\n",
    "    if done: break # Break if environment is done\n",
    "\n",
    "env.close() # Close environment\n",
    "\n",
    "def show_replay():\n",
    "    \"\"\"\n",
    "    Not-so-elegant way to display the MP4 file generated by the Monitor wrapper inside a notebook.\n",
    "    The Monitor wrapper dumps the replay to a local file that we then display as a HTML video object.\n",
    "    \"\"\"\n",
    "    import io\n",
    "    import base64\n",
    "    from IPython.display import HTML\n",
    "    video = io.open('./gym-results/openaigym.video.%s.video000000.mp4' % env.file_infix, 'r+b').read()\n",
    "    encoded = base64.b64encode(video)\n",
    "    return HTML(data='''\n",
    "        <video width=\"360\" height=\"auto\" alt=\"test\" controls><source src=\"data:video/mp4;base64,{0}\" type=\"video/mp4\" /></video>'''\n",
    "    .format(encoded.decode('ascii')))\n",
    "    \n",
    "show_replay()"
   ]
  },
  {
   "cell_type": "markdown",
   "metadata": {},
   "source": [
    "Hooray! You now have a working `Gym` environment that we can take actions in and render."
   ]
  }
 ],
 "metadata": {
  "kernelspec": {
   "display_name": "Python 3",
   "language": "python",
   "name": "python3"
  },
  "language_info": {
   "codemirror_mode": {
    "name": "ipython",
    "version": 3
   },
   "file_extension": ".py",
   "mimetype": "text/x-python",
   "name": "python",
   "nbconvert_exporter": "python",
   "pygments_lexer": "ipython3",
   "version": "3.8.3"
  }
 },
 "nbformat": 4,
 "nbformat_minor": 2
}
