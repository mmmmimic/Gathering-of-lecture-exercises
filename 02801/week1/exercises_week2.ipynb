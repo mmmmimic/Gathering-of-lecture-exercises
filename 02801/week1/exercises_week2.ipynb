{
 "cells": [
  {
   "cell_type": "markdown",
   "metadata": {
    "colab_type": "text",
    "id": "vlMcbNUbMqnF"
   },
   "source": [
    "# 02807 - Week 2 Exercises: Intro to Colab and NumPy\n"
   ]
  },
  {
   "cell_type": "markdown",
   "metadata": {
    "colab_type": "text",
    "id": "asspwlX7zDcT"
   },
   "source": [
    "## Learning objectives:\n",
    "\n",
    "* Run Python code in Colab notebooks\n",
    "* Get hands-on experience storing, manipulating and extracting data efficiently with NumPy.\n",
    "* Perform optimised computations on arrays using NumPy’s vectorised functions. \n",
    "* Compare the performance of simple non-vectorised operations to vectorised one. \n"
   ]
  },
  {
   "cell_type": "markdown",
   "metadata": {
    "colab_type": "text",
    "id": "kR68hOwCMyib"
   },
   "source": [
    "## Readings:\n",
    "\n",
    "####**Colab**:\n",
    "\n",
    "* [Welcome to Colaboratory](https://colab.research.google.com/notebooks/intro.ipynb#)\n",
    "\n",
    "####**Numpy**:\n",
    "\n",
    "Main reading:\n",
    "\n",
    "* [Chapter 2: Introduction to Numpy](https://jakevdp.github.io/PythonDataScienceHandbook/02.00-introduction-to-numpy.html). Python Data Science Handbook.\n",
    "\n",
    "Recommended readings:\n",
    "\n",
    "* [A Visual Intro to NumPy and Data Representation](https://jalammar.github.io/visual-numpy/)\n",
    "* [Guide to NumPy resources: beginner, intermediate and advanced](https://e2eml.school/numpy_resources.html)\n",
    "\n"
   ]
  },
  {
   "cell_type": "markdown",
   "metadata": {
    "colab_type": "text",
    "id": "QnCb5dwYn2kp"
   },
   "source": [
    "## Solutions to the Exercises:\n",
    "\n",
    "* Solutions are provided for each exercise below. \n",
    "\n",
    "* The solutions are hidden in cells marked with the text \"SHOW CODE\". Double-clicking the cell will display the solution.\n",
    "\n",
    "* Of course, you should try to find your own solution before looking at the given one. Otherwise, you won't learn much.\n",
    "\n",
    "* Enjoy and good luck!\n",
    "\n",
    "\n",
    "\n",
    "---\n",
    "\n",
    "\n"
   ]
  },
  {
   "cell_type": "markdown",
   "metadata": {
    "colab_type": "text",
    "id": "eGU4JSS2_Eqt"
   },
   "source": [
    "## Exercise 1: importing NumPy"
   ]
  },
  {
   "cell_type": "markdown",
   "metadata": {
    "colab_type": "text",
    "id": "6J0G_P33MqnM"
   },
   "source": [
    "**1. Import numpy as np and print the version number**\n"
   ]
  },
  {
   "cell_type": "code",
   "execution_count": 9,
   "metadata": {
    "colab": {},
    "colab_type": "code",
    "id": "hDe2CpdbN8NJ"
   },
   "outputs": [
    {
     "name": "stdout",
     "output_type": "stream",
     "text": [
      "Solution\n",
      "1.18.5\n"
     ]
    }
   ],
   "source": [
    "print(\"Solution\")\n",
    "import numpy as np\n",
    "print(np.__version__)\n",
    "# your solution goes here"
   ]
  },
  {
   "cell_type": "code",
   "execution_count": 8,
   "metadata": {
    "cellView": "form",
    "colab": {},
    "colab_type": "code",
    "id": "WvcxldwpMqnM"
   },
   "outputs": [
    {
     "name": "stdout",
     "output_type": "stream",
     "text": [
      "Solution\n",
      "1.18.5\n"
     ]
    }
   ],
   "source": [
    "#@title\n",
    "# Solution\n",
    "print(\"Solution\")\n",
    "import numpy as np\n",
    "print(np.__version__)"
   ]
  },
  {
   "cell_type": "markdown",
   "metadata": {
    "colab_type": "text",
    "id": "iBFzmeuMMqnL"
   },
   "source": [
    "## Exercise 2: creating arrays"
   ]
  },
  {
   "cell_type": "markdown",
   "metadata": {
    "colab_type": "text",
    "id": "j91-Dm6pMqnP"
   },
   "source": [
    "1a. Create a 1D array of numbers from 0 to 9\n",
    "\n",
    "Desired output: \n",
    "```\n",
    "Solution\n",
    "array([0, 1, 2, 3, 4, 5, 6, 7, 8, 9])\n",
    "```"
   ]
  },
  {
   "cell_type": "code",
   "execution_count": 6,
   "metadata": {
    "colab": {},
    "colab_type": "code",
    "id": "1G1W82myN8px"
   },
   "outputs": [
    {
     "name": "stdout",
     "output_type": "stream",
     "text": [
      "Solution\n",
      "[0. 1. 2. 3. 4. 5. 6. 7. 8. 9.]\n",
      "[0 1 2 3 4 5 6 7 8 9]\n"
     ]
    }
   ],
   "source": [
    "print(\"Solution\")\n",
    "print(np.linspace(0,9,10))\n",
    "print(np.arange(10))\n",
    "# your solution goes here"
   ]
  },
  {
   "cell_type": "markdown",
   "metadata": {
    "colab_type": "text",
    "id": "epf6XXA2mi3q"
   },
   "source": [
    "SOLUTION"
   ]
  },
  {
   "cell_type": "code",
   "execution_count": 7,
   "metadata": {
    "cellView": "form",
    "colab": {},
    "colab_type": "code",
    "id": "eVm6JytZMqnP"
   },
   "outputs": [
    {
     "name": "stdout",
     "output_type": "stream",
     "text": [
      "Solution\n"
     ]
    },
    {
     "data": {
      "text/plain": [
       "array([0, 1, 2, 3, 4, 5, 6, 7, 8, 9])"
      ]
     },
     "execution_count": 7,
     "metadata": {},
     "output_type": "execute_result"
    }
   ],
   "source": [
    "#@title\n",
    "# Solution\n",
    "print(\"Solution\")\n",
    "arr = np.arange(10)\n",
    "arr"
   ]
  },
  {
   "cell_type": "markdown",
   "metadata": {
    "colab_type": "text",
    "id": "IsLn7jBRMqnS"
   },
   "source": [
    "1b. Create a 3×3 Boolean array of all `True`’s\n",
    "\n",
    "Desired output: \n",
    "\n",
    "```\n",
    "array([[ True,  True,  True],\n",
    "       [ True,  True,  True],\n",
    "       [ True,  True,  True]])\n",
    "```"
   ]
  },
  {
   "cell_type": "code",
   "execution_count": 16,
   "metadata": {
    "colab": {},
    "colab_type": "code",
    "id": "U5LmrBkVN9OS"
   },
   "outputs": [
    {
     "name": "stdout",
     "output_type": "stream",
     "text": [
      "Solution\n",
      "[[ True  True  True]\n",
      " [ True  True  True]\n",
      " [ True  True  True]]\n"
     ]
    }
   ],
   "source": [
    "print(\"Solution\")\n",
    "print(np.full((3,3),True))\n",
    "# you solution goes here"
   ]
  },
  {
   "cell_type": "markdown",
   "metadata": {
    "colab_type": "text",
    "id": "wqrPgOYCm2ZE"
   },
   "source": [
    "SOLUTION"
   ]
  },
  {
   "cell_type": "code",
   "execution_count": 17,
   "metadata": {
    "cellView": "form",
    "colab": {},
    "colab_type": "code",
    "id": "SF30jtAmMqnS"
   },
   "outputs": [
    {
     "name": "stdout",
     "output_type": "stream",
     "text": [
      "Solution\n"
     ]
    },
    {
     "data": {
      "text/plain": [
       "array([[ True,  True,  True],\n",
       "       [ True,  True,  True],\n",
       "       [ True,  True,  True]])"
      ]
     },
     "execution_count": 17,
     "metadata": {},
     "output_type": "execute_result"
    }
   ],
   "source": [
    "#@title\n",
    "# Solution\n",
    "print(\"Solution\")\n",
    "arr = np.full((3, 3), True)\n",
    "arr"
   ]
  },
  {
   "cell_type": "markdown",
   "metadata": {
    "colab_type": "text",
    "id": "bBRYaurHQCr_"
   },
   "source": [
    "1c. Create a 5 x 3 x 4 array randomly filled with integers between 0 and 4, inclusive:\n",
    "\n",
    "hint: ``np.random.randint``\n",
    "\n",
    "Example of desired output:\n",
    "\n",
    "```\n",
    "array([[[3, 4, 0, 4],\n",
    "        [2, 3, 4, 4],\n",
    "        [0, 2, 4, 2]],\n",
    "\n",
    "       [[2, 1, 3, 0],\n",
    "        [4, 3, 2, 2],\n",
    "        [2, 1, 2, 4]],\n",
    "\n",
    "       [[3, 1, 1, 1],\n",
    "        [4, 4, 0, 1],\n",
    "        [0, 2, 3, 0]],\n",
    "\n",
    "       [[3, 0, 3, 3],\n",
    "        [4, 0, 3, 3],\n",
    "        [3, 3, 0, 1]],\n",
    "\n",
    "       [[3, 2, 2, 2],\n",
    "        [0, 1, 1, 4],\n",
    "        [4, 2, 1, 0]]])\n",
    "\n",
    "```"
   ]
  },
  {
   "cell_type": "code",
   "execution_count": 30,
   "metadata": {
    "colab": {},
    "colab_type": "code",
    "id": "NhxjWetqRGA7"
   },
   "outputs": [
    {
     "name": "stdout",
     "output_type": "stream",
     "text": [
      "Solution\n",
      "[[[3 4 4 2]\n",
      "  [0 1 3 2]\n",
      "  [1 2 0 0]]\n",
      "\n",
      " [[1 4 3 1]\n",
      "  [0 4 0 1]\n",
      "  [4 2 4 0]]\n",
      "\n",
      " [[0 2 4 0]\n",
      "  [3 2 3 2]\n",
      "  [3 2 0 0]]\n",
      "\n",
      " [[4 4 3 1]\n",
      "  [1 3 0 2]\n",
      "  [2 4 4 0]]\n",
      "\n",
      " [[1 2 3 1]\n",
      "  [1 4 1 1]\n",
      "  [0 4 4 2]]]\n"
     ]
    }
   ],
   "source": [
    "print(\"Solution\")\n",
    "print(np.random.randint(0,5,(5,3,4)))\n",
    "# your solution goes here"
   ]
  },
  {
   "cell_type": "markdown",
   "metadata": {
    "colab_type": "text",
    "id": "XCGpdpD4nEyi"
   },
   "source": [
    "SOLUTION"
   ]
  },
  {
   "cell_type": "code",
   "execution_count": 31,
   "metadata": {
    "cellView": "form",
    "colab": {},
    "colab_type": "code",
    "id": "6AblhwYrRFky"
   },
   "outputs": [
    {
     "name": "stdout",
     "output_type": "stream",
     "text": [
      "Solution\n"
     ]
    },
    {
     "data": {
      "text/plain": [
       "array([[[3, 4, 4, 0],\n",
       "        [3, 2, 2, 0],\n",
       "        [2, 2, 4, 1]],\n",
       "\n",
       "       [[3, 1, 3, 1],\n",
       "        [0, 0, 1, 1],\n",
       "        [3, 3, 3, 2]],\n",
       "\n",
       "       [[4, 2, 0, 4],\n",
       "        [0, 2, 0, 0],\n",
       "        [0, 4, 0, 4]],\n",
       "\n",
       "       [[2, 3, 2, 1],\n",
       "        [1, 4, 1, 3],\n",
       "        [3, 2, 1, 0]],\n",
       "\n",
       "       [[0, 3, 1, 2],\n",
       "        [4, 3, 1, 4],\n",
       "        [1, 0, 3, 1]]])"
      ]
     },
     "execution_count": 31,
     "metadata": {},
     "output_type": "execute_result"
    }
   ],
   "source": [
    "#@title\n",
    "# Solution\n",
    "print(\"Solution\")\n",
    "arr = np.random.randint(5, size=(5,3,4))\n",
    "arr"
   ]
  },
  {
   "cell_type": "markdown",
   "metadata": {
    "colab_type": "text",
    "id": "1NqSPwusPkXm"
   },
   "source": [
    "## Exercise 3: universal functions and vectorisation (part 1). Faster dot product."
   ]
  },
  {
   "cell_type": "markdown",
   "metadata": {
    "colab_type": "text",
    "id": "S74ns2pqcR5m"
   },
   "source": [
    "The dot product is an algebraic operation which takes two equal-sized vectors and returns a single scalar. For two vectors $\\mathbf{x}$ and $\\mathbf{y}$, their dot product is defined as:\n",
    "\n",
    "$$\\mathbf{x} \\cdot \\mathbf{y} = \\sum_{i=1}^{n}x_iy_i = x_1y_1 + x_2y_2 + … + x_ny_n$$\n",
    "\n",
    "Let's consider the following vectors."
   ]
  },
  {
   "cell_type": "code",
   "execution_count": 32,
   "metadata": {
    "colab": {},
    "colab_type": "code",
    "id": "wSYQkN_5dmGN"
   },
   "outputs": [],
   "source": [
    "X = np.random.rand(100000)\n",
    "Y = np.random.rand(100000)"
   ]
  },
  {
   "cell_type": "markdown",
   "metadata": {
    "colab_type": "text",
    "id": "lOg95GI1c-4j"
   },
   "source": [
    "In Python, one way to calulate the dot product is to iterate over the number of elements in the vectors, multiplying their $i$-th elements, and accumulating the result:"
   ]
  },
  {
   "cell_type": "code",
   "execution_count": 33,
   "metadata": {
    "colab": {},
    "colab_type": "code",
    "id": "XRFw_OUhc9td"
   },
   "outputs": [],
   "source": [
    "def dot_slow_1(x,y):\n",
    "  \"\"\"\"Dot product by looping over elements and multiplying them\"\"\"\n",
    "  s = 0 \n",
    "  for i in range(x.size):\n",
    "    s += x[i] * y[i]\n",
    "  return s"
   ]
  },
  {
   "cell_type": "markdown",
   "metadata": {
    "colab_type": "text",
    "id": "BlJhCbEAeL4F"
   },
   "source": [
    "A more succinct and pythonic way to do this would be to use list comprehension:"
   ]
  },
  {
   "cell_type": "code",
   "execution_count": 34,
   "metadata": {
    "colab": {},
    "colab_type": "code",
    "id": "2y8021OCeV4B"
   },
   "outputs": [],
   "source": [
    "def dot_slow_2(x, y):\n",
    "    \"\"\"Dot product as sum of list comprehension doing element-wise multiplication\"\"\"\n",
    "    return sum(x_i*y_i for x_i, y_i in zip(x, y))"
   ]
  },
  {
   "cell_type": "markdown",
   "metadata": {
    "colab_type": "text",
    "id": "kZWDHlQ0eoER"
   },
   "source": [
    "Let's look at the performance we get computing dot products in this way."
   ]
  },
  {
   "cell_type": "code",
   "execution_count": 35,
   "metadata": {
    "colab": {},
    "colab_type": "code",
    "id": "w-44zBdxe0o8"
   },
   "outputs": [
    {
     "name": "stdout",
     "output_type": "stream",
     "text": [
      "Time and memory use of dot_slow_1:\n",
      "46.5 ms ± 2.24 ms per loop (mean ± std. dev. of 7 runs, 10 loops each)\n",
      "Time and memory use of dot_slow_2:\n",
      "39.3 ms ± 794 µs per loop (mean ± std. dev. of 7 runs, 10 loops each)\n"
     ]
    }
   ],
   "source": [
    "print(\"Time and memory use of dot_slow_1:\")\n",
    "%timeit dot_slow_1(X,Y)\n",
    "\n",
    "print(\"Time and memory use of dot_slow_2:\")\n",
    "%timeit dot_slow_2(X,Y)"
   ]
  },
  {
   "cell_type": "markdown",
   "metadata": {
    "colab_type": "text",
    "id": "cTWBbszTgQSo"
   },
   "source": [
    "Use NumPy's vectorised operations to define a function that computes the dot product."
   ]
  },
  {
   "cell_type": "code",
   "execution_count": 41,
   "metadata": {
    "colab": {},
    "colab_type": "code",
    "id": "uBV7WCWSkv9p"
   },
   "outputs": [],
   "source": [
    "def my_dot(x,y):\n",
    "  # your solution goes here\n",
    "    return np.dot(x,y)\n",
    "  #raise NotImplementedError"
   ]
  },
  {
   "cell_type": "markdown",
   "metadata": {
    "colab_type": "text",
    "id": "4GMC7t0znJ9X"
   },
   "source": [
    "SOLUTION"
   ]
  },
  {
   "cell_type": "code",
   "execution_count": null,
   "metadata": {
    "cellView": "form",
    "colab": {},
    "colab_type": "code",
    "id": "5ZrVQbPwgoYQ"
   },
   "outputs": [],
   "source": [
    "#@title\n",
    "# Solution\n",
    "def my_dot(x,y):\n",
    "  return np.dot(x,y)"
   ]
  },
  {
   "cell_type": "markdown",
   "metadata": {
    "colab_type": "text",
    "id": "ZgvRT9D-g7O-"
   },
   "source": [
    "Use `%timeit` to check the performance of your function. How much faster did we get with vectorisation? If you did things right, your solution should run in *µs*, running around 1000x faster per loop than the non-vectorised `dot_slow` functions."
   ]
  },
  {
   "cell_type": "code",
   "execution_count": 42,
   "metadata": {
    "colab": {},
    "colab_type": "code",
    "id": "DW8F7wXlhDks"
   },
   "outputs": [
    {
     "name": "stdout",
     "output_type": "stream",
     "text": [
      "14.4 µs ± 499 ns per loop (mean ± std. dev. of 7 runs, 100000 loops each)\n"
     ]
    }
   ],
   "source": [
    "%timeit my_dot(X,Y)"
   ]
  },
  {
   "cell_type": "markdown",
   "metadata": {
    "colab_type": "text",
    "id": "dl5qy_6_D7C7"
   },
   "source": [
    "## Exercise 4: universal functions and vectorisation (part 2). Buying low, selling high."
   ]
  },
  {
   "cell_type": "markdown",
   "metadata": {
    "colab_type": "text",
    "id": "ky6Ry2xaD_7c"
   },
   "source": [
    "Let's look at a more interesting problem. Here's a classic technical interview problem:\n",
    "\n",
    "> Given a stock’s price history as a sequence, and assuming that you are only allowed to make one purchase and one sale, what is the maximum profit that can be obtained? For example, given prices = (20, 18, 14, 17, 20, 21, 15), the max profit would be 7, from buying at 14 and selling at 21.\n",
    "\n"
   ]
  },
  {
   "cell_type": "markdown",
   "metadata": {
    "colab_type": "text",
    "id": "PUL_QFBYEZaL"
   },
   "source": [
    "The straighforward solution, with $O(n^2)$ [time complexity](https://www.hackerearth.com/practice/basic-programming/complexity-analysis/time-and-space-complexity/tutorial/), consists of taking every combination of two consecutive prices and determining the maximum difference.\n",
    "\n",
    "However, there's also an $O(n)$ solution that consists of iterating through the sequence just once and finding the difference between each price and a running minimum. Here's an non-vectorised implementation:\n"
   ]
  },
  {
   "cell_type": "code",
   "execution_count": 43,
   "metadata": {
    "colab": {},
    "colab_type": "code",
    "id": "I2VvDQXcFFm6"
   },
   "outputs": [
    {
     "data": {
      "text/plain": [
       "7"
      ]
     },
     "execution_count": 43,
     "metadata": {},
     "output_type": "execute_result"
    }
   ],
   "source": [
    "def profit(prices):\n",
    "     max_px = 0\n",
    "     min_px = prices[0]\n",
    "     for px in prices[1:]:\n",
    "         min_px = min(min_px, px)\n",
    "         max_px = max(px - min_px, max_px)\n",
    "     return max_px\n",
    "# 只搜索一次\n",
    "prices = (20, 18, 14, 17, 20, 21, 15)\n",
    "profit(prices)"
   ]
  },
  {
   "cell_type": "markdown",
   "metadata": {
    "colab_type": "text",
    "id": "_F33tzMjKodD"
   },
   "source": [
    "Can this be done faster in NumPy? Certainly. But first, let’s create a more realistic example (using, of course, some trusty NumPy functions!):"
   ]
  },
  {
   "cell_type": "code",
   "execution_count": 44,
   "metadata": {
    "colab": {},
    "colab_type": "code",
    "id": "UCCJp1BcK8te"
   },
   "outputs": [],
   "source": [
    "import numpy as np\n",
    "# Create mostly NaN array with a few 'turning points' (local min/max).\n",
    "prices = np.full(100, fill_value=np.nan)\n",
    "prices[[0, 10, 50, 80, -1]] = [80., 30., 50., 70., 40.] #给定几个值\n",
    "\n",
    "# Linearly interpolate the missing values and add some noise.\n",
    "x = np.arange(len(prices))\n",
    "is_valid = ~np.isnan(prices)\n",
    "prices = np.interp(x=x, xp=x[is_valid], fp=prices[is_valid]) #剩下的插值\n",
    "prices += np.random.randn(len(prices)) * 2 # 加入噪声"
   ]
  },
  {
   "cell_type": "markdown",
   "metadata": {
    "colab_type": "text",
    "id": "fZa147G9LYuo"
   },
   "source": [
    "Let's look at the data with `matplotlib`. Don't worry if you don't get what goes on here. We'll learn how to use `matplotlib` for data visualisation in the coming weeks.\n",
    "\n",
    "The idea is to buy low (green) and sell high (red):"
   ]
  },
  {
   "cell_type": "code",
   "execution_count": 45,
   "metadata": {
    "colab": {},
    "colab_type": "code",
    "id": "44Yr3lwrLyO4"
   },
   "outputs": [
    {
     "data": {
      "image/png": "[encoded data removed]",
      "text/plain": [
       "<Figure size 640x480 with 1 Axes>"
      ]
     },
     "metadata": {},
     "output_type": "display_data"
    }
   ],
   "source": [
    "import matplotlib.pyplot as plt\n",
    "%matplotlib inline\n",
    "plt.style.use('classic')\n",
    "\n",
    "# Warning! This isn't a fully correct solution, but it works for now.\n",
    "# If the absolute min came after the absolute max, you'd have trouble.\n",
    "mn = np.argmin(prices)\n",
    "mx = mn + np.argmax(prices[mn:])\n",
    "kwargs = {'markersize': 8, 'linestyle': ''}\n",
    "\n",
    "fig, ax = plt.subplots()\n",
    "ax.plot(prices)\n",
    "ax.set_title('Price History')\n",
    "ax.set_xlabel('Time')\n",
    "ax.set_ylabel('Price')\n",
    "ax.plot(mn, prices[mn], marker='o', color='g', **kwargs)\n",
    "ax.plot(mx, prices[mx], marker='o', color='r', **kwargs)\n",
    "plt.show()"
   ]
  },
  {
   "cell_type": "markdown",
   "metadata": {
    "colab_type": "text",
    "id": "OiHo8XSmN6Vq"
   },
   "source": [
    "What does a NumPy implementation look like? There is no `np.runmin()` that computes the running (or cumulative) minimum. However, NumPy’s universal functions (`ufunc`'s) all have an `accumulate()` method that does what its name implies:\n",
    "\n"
   ]
  },
  {
   "cell_type": "code",
   "execution_count": 46,
   "metadata": {
    "colab": {},
    "colab_type": "code",
    "id": "RlkpelVvN52x"
   },
   "outputs": [
    {
     "data": {
      "text/plain": [
       "array([10,  2,  2,  2,  2,  1,  1,  1], dtype=int32)"
      ]
     },
     "execution_count": 46,
     "metadata": {},
     "output_type": "execute_result"
    }
   ],
   "source": [
    "x = np.array([10,2,4,7,9,1,11,3])\n",
    "runmin = np.minimum.accumulate\n",
    "runmin(x)"
   ]
  },
  {
   "cell_type": "markdown",
   "metadata": {
    "colab_type": "text",
    "id": "pldx1-_dO0o5"
   },
   "source": [
    "Use `runmin` and other NumPy functions to define your own version of the `profit` function. Keeping the logic from the pure-Python example, you can find the difference between each price and a running minimum (element-wise), and then take the max of this sequence:"
   ]
  },
  {
   "cell_type": "code",
   "execution_count": 58,
   "metadata": {
    "colab": {},
    "colab_type": "code",
    "id": "I7XT66pHPVoX"
   },
   "outputs": [],
   "source": [
    "def my_profit(prices):\n",
    "    \"\"\"Price minus cumulative minimum price, element-wise.\"\"\"\n",
    "     # your solution goes here\n",
    "    min_price = np.minimum.accumulate(prices)\n",
    "    return max(prices - min_price)\n",
    "     #raise NotImplementedError"
   ]
  },
  {
   "cell_type": "markdown",
   "metadata": {
    "colab_type": "text",
    "id": "WQUEbfM1nRsX"
   },
   "source": [
    "SOLUTION"
   ]
  },
  {
   "cell_type": "code",
   "execution_count": 59,
   "metadata": {
    "cellView": "form",
    "colab": {},
    "colab_type": "code",
    "id": "RTYGvVoEPVRV"
   },
   "outputs": [],
   "source": [
    "#@title\n",
    "# Solution\n",
    "def my_profit(prices):\n",
    "     \"\"\"Price minus cumulative minimum price, element-wise.\"\"\"\n",
    "     return np.max(prices - runmin(prices))"
   ]
  },
  {
   "cell_type": "markdown",
   "metadata": {
    "colab_type": "text",
    "id": "_INGV7hhPjR-"
   },
   "source": [
    "Let's see the time performance of the original `profit` function on our dataset."
   ]
  },
  {
   "cell_type": "code",
   "execution_count": 60,
   "metadata": {
    "colab": {},
    "colab_type": "code",
    "id": "3_O06vi6Pi8o"
   },
   "outputs": [
    {
     "name": "stdout",
     "output_type": "stream",
     "text": [
      "The maximum profit is 42.988881997571504\n",
      "48.3 µs ± 1.52 µs per loop (mean ± std. dev. of 7 runs, 10000 loops each)\n"
     ]
    }
   ],
   "source": [
    "print(\"The maximum profit is\", profit(prices))\n",
    "%timeit profit(prices)"
   ]
  },
  {
   "cell_type": "markdown",
   "metadata": {
    "colab_type": "text",
    "id": "E4sxZBf8Q8_M"
   },
   "source": [
    "How does `my_profit` compare? Your NumPy solution should do at least as well as the pure-Python solution over this small dataset (we're working with 100 data points). "
   ]
  },
  {
   "cell_type": "code",
   "execution_count": 61,
   "metadata": {
    "colab": {},
    "colab_type": "code",
    "id": "eN0pJf-fRHAv"
   },
   "outputs": [
    {
     "name": "stdout",
     "output_type": "stream",
     "text": [
      "The maximum profit is 42.988881997571504\n",
      "48.8 µs ± 2.29 µs per loop (mean ± std. dev. of 7 runs, 10000 loops each)\n"
     ]
    }
   ],
   "source": [
    "print(\"The maximum profit is\", my_profit(prices))\n",
    "%timeit profit(prices)"
   ]
  },
  {
   "cell_type": "markdown",
   "metadata": {
    "colab_type": "text",
    "id": "nWt829s7UynP"
   },
   "source": [
    "\n",
    "\n",
    "Over a large dataset, you'll normally see significant performance differences. Our implementation of `my_profit` typically runs about 80x faster than `profit` over a random dataset with 1.000.000 datapoints. Do you get comparable results?"
   ]
  },
  {
   "cell_type": "code",
   "execution_count": 62,
   "metadata": {
    "colab": {},
    "colab_type": "code",
    "id": "E22QwoY_T75p"
   },
   "outputs": [
    {
     "name": "stdout",
     "output_type": "stream",
     "text": [
      "454 ms ± 20.3 ms per loop (mean ± std. dev. of 7 runs, 1 loop each)\n",
      "4.88 ms ± 68.6 µs per loop (mean ± std. dev. of 7 runs, 100 loops each)\n"
     ]
    }
   ],
   "source": [
    "rand_seq = np.random.randint(0, 100, size=1000000)\n",
    "%timeit profit(rand_seq)\n",
    "%timeit my_profit(rand_seq)"
   ]
  },
  {
   "cell_type": "markdown",
   "metadata": {
    "colab_type": "text",
    "id": "bdGwuCD4WHoo"
   },
   "source": [
    "Here's what we got:\n",
    "\n",
    "```\n",
    "1 loop, best of 3: 499 ms per loop\n",
    "100 loops, best of 3: 6.11 ms per loop\n",
    "# 81 times faster\n",
    "```"
   ]
  },
  {
   "cell_type": "markdown",
   "metadata": {
    "colab_type": "text",
    "id": "DoQANtj0zb-K"
   },
   "source": [
    "## Exercise 5: extracting information from arrays"
   ]
  },
  {
   "cell_type": "markdown",
   "metadata": {
    "colab_type": "text",
    "id": "ICjxUjGPbWGY"
   },
   "source": [
    "Let's extract some potentially useful information from our `prices` dataset.\n"
   ]
  },
  {
   "cell_type": "markdown",
   "metadata": {
    "colab_type": "text",
    "id": "KzmBoMA6MqnV"
   },
   "source": [
    "\n",
    "\n",
    "\n",
    "5.1. First, let's find all values in a given range. Extract all prices with values between 45 and 65 from the first 10 prices in `prices`.\n"
   ]
  },
  {
   "cell_type": "code",
   "execution_count": 63,
   "metadata": {
    "colab": {},
    "colab_type": "code",
    "id": "WNRXvalvMqnW"
   },
   "outputs": [
    {
     "name": "stdout",
     "output_type": "stream",
     "text": [
      "First 20 prices\n"
     ]
    },
    {
     "data": {
      "text/plain": [
       "array([80.28384098, 76.54650458, 68.75204766, 69.82172864, 60.16313633,\n",
       "       50.4838844 , 51.09337409, 44.68460046, 38.14486259, 35.82106274])"
      ]
     },
     "execution_count": 63,
     "metadata": {},
     "output_type": "execute_result"
    }
   ],
   "source": [
    "print(\"First 20 prices\")\n",
    "prices_small = prices[:10]\n",
    "prices_small"
   ]
  },
  {
   "cell_type": "markdown",
   "metadata": {
    "colab_type": "text",
    "id": "wYFP7pnyXEiq"
   },
   "source": [
    "The desired output is \n",
    "```\n",
    "array([1, 3, 5, 7, 9])\n",
    "```"
   ]
  },
  {
   "cell_type": "code",
   "execution_count": 64,
   "metadata": {
    "colab": {},
    "colab_type": "code",
    "id": "9zunr4MgXNeN"
   },
   "outputs": [
    {
     "name": "stdout",
     "output_type": "stream",
     "text": [
      "Solution\n",
      "[60.16313633 50.4838844  51.09337409]\n"
     ]
    }
   ],
   "source": [
    "print(\"Solution\")\n",
    "print(prices_small[(prices_small>45) & (prices_small<65)] )\n",
    "# your solution goes here"
   ]
  },
  {
   "cell_type": "markdown",
   "metadata": {
    "colab_type": "text",
    "id": "RkRTushfnat8"
   },
   "source": [
    "SOLUTION"
   ]
  },
  {
   "cell_type": "code",
   "execution_count": 65,
   "metadata": {
    "cellView": "form",
    "colab": {},
    "colab_type": "code",
    "id": "pwjGj2vJXDAQ"
   },
   "outputs": [
    {
     "name": "stdout",
     "output_type": "stream",
     "text": [
      "Solution\n"
     ]
    },
    {
     "data": {
      "text/plain": [
       "array([60.16313633, 50.4838844 , 51.09337409])"
      ]
     },
     "execution_count": 65,
     "metadata": {},
     "output_type": "execute_result"
    }
   ],
   "source": [
    "#@title\n",
    "# Solution\n",
    "print(\"Solution\")\n",
    "range_45_65 = prices_small[(prices_small > 45.0) & (prices_small < 65.0)]\n",
    "range_45_65"
   ]
  },
  {
   "cell_type": "markdown",
   "metadata": {
    "colab_type": "text",
    "id": "zXoWSEVHMqnZ"
   },
   "source": [
    "5.2. Let's say that you want to buy in the first time the price drops below 30. Let's find the first occurence of a value meeting a condition. \n",
    "\n",
    "This happens for the first time at the 11th time-step of `prices`, so the desired output is:\n",
    "\n",
    "```\n",
    "array([[11]])\n",
    "```\n",
    "Hint: use `np.argwhere`."
   ]
  },
  {
   "cell_type": "code",
   "execution_count": 71,
   "metadata": {
    "colab": {},
    "colab_type": "code",
    "id": "TvvC6AXHco4w"
   },
   "outputs": [
    {
     "name": "stdout",
     "output_type": "stream",
     "text": [
      "Solution\n",
      "[12]\n"
     ]
    }
   ],
   "source": [
    "# Solution\n",
    "print(\"Solution\")\n",
    "print(np.argwhere(prices<30)[0])\n",
    "# your solution goes here"
   ]
  },
  {
   "cell_type": "markdown",
   "metadata": {
    "colab_type": "text",
    "id": "l0y8bjFXnf8B"
   },
   "source": [
    "SOLUTION"
   ]
  },
  {
   "cell_type": "code",
   "execution_count": 67,
   "metadata": {
    "cellView": "form",
    "colab": {},
    "colab_type": "code",
    "id": "93JTKnt4Mqna"
   },
   "outputs": [
    {
     "name": "stdout",
     "output_type": "stream",
     "text": [
      "Solution\n"
     ]
    },
    {
     "data": {
      "text/plain": [
       "array([[12],\n",
       "       [14],\n",
       "       [15]], dtype=int64)"
      ]
     },
     "execution_count": 67,
     "metadata": {},
     "output_type": "execute_result"
    }
   ],
   "source": [
    "#@title\n",
    "# Solution\n",
    "print(\"Solution\")\n",
    "np.argwhere(prices < 30.0)"
   ]
  },
  {
   "cell_type": "markdown",
   "metadata": {
    "colab_type": "text",
    "id": "LZ4E40E5eDuo"
   },
   "source": [
    "5.3. Let's get the *positions* and *values* of the top 10 prices overall. Use NumPy only to extract this information."
   ]
  },
  {
   "cell_type": "code",
   "execution_count": 73,
   "metadata": {
    "colab": {},
    "colab_type": "code",
    "id": "uQrGQdS5ezMb"
   },
   "outputs": [
    {
     "name": "stdout",
     "output_type": "stream",
     "text": [
      "Positions of the top 5 prices\n",
      "[75 78 79  1  0]\n",
      "Values of the top 5 prices\n",
      "[70.39619074 70.49446463 70.84643653 76.54650458 80.28384098]\n"
     ]
    }
   ],
   "source": [
    "# Solution\n",
    "print(\"Positions of the top 5 prices\")  \n",
    "print(prices.argsort()[-5:])\n",
    "# your solution goes here\n",
    "print(\"Values of the top 5 prices\")\n",
    "print(np.sort(prices)[-5:])\n",
    "# your solution goes here"
   ]
  },
  {
   "cell_type": "markdown",
   "metadata": {
    "colab_type": "text",
    "id": "dUvj6G23f0EH"
   },
   "source": [
    "The desired output is:\n",
    "\n",
    "```\n",
    "Positions of the top 5 prices\n",
    "[76  3  2  1  0]\n",
    "Values of the top 5 prices\n",
    "[68.76396525 68.86095992 71.9640294  78.07067979 80.08716953]\n",
    "```"
   ]
  },
  {
   "cell_type": "markdown",
   "metadata": {
    "colab_type": "text",
    "id": "RqKAOiJBnkFj"
   },
   "source": [
    "SOLUTION"
   ]
  },
  {
   "cell_type": "code",
   "execution_count": 74,
   "metadata": {
    "cellView": "form",
    "colab": {},
    "colab_type": "code",
    "id": "jc4ZdR6beZfN"
   },
   "outputs": [
    {
     "name": "stdout",
     "output_type": "stream",
     "text": [
      "Positions of the top 5 prices\n",
      "[75 78 79  1  0]\n",
      "Values of the top 5 prices\n",
      "[70.39619074 70.49446463 70.84643653 76.54650458 80.28384098]\n"
     ]
    }
   ],
   "source": [
    "#@title\n",
    "# Solution\n",
    "print(\"Positions of the top 5 prices\")  \n",
    "top_positions = prices.argsort()[-5:]\n",
    "print(top_positions)\n",
    "print(\"Values of the top 5 prices\")\n",
    "top_values = np.sort(prices)[-5:]\n",
    "print(top_values)"
   ]
  },
  {
   "cell_type": "markdown",
   "metadata": {
    "colab_type": "text",
    "id": "-4SR8lt-gNzV"
   },
   "source": [
    "5.4. Let's get some summary statistics. Print the mean, median and standard deviation of the list of prices.\n",
    "\n",
    "The desired output is:\n",
    "\n",
    "```\n",
    "Mean, median and standard deviation: 50.770589574397285 50.45810666998631 12.125291517615116\n",
    "```"
   ]
  },
  {
   "cell_type": "code",
   "execution_count": 80,
   "metadata": {
    "colab": {},
    "colab_type": "code",
    "id": "02D7NUS1gqKe"
   },
   "outputs": [
    {
     "name": "stdout",
     "output_type": "stream",
     "text": [
      "Mean, median and standard deviation: 50.360802\t50.835525\t12.308632\n"
     ]
    }
   ],
   "source": [
    "# Solution\n",
    "mean = np.mean(prices)\n",
    "med  = np.median(prices)\n",
    "std = np.std(prices)\n",
    "print('Mean, median and standard deviation: %f\\t%f\\t%f'%(mean, med, std))\n",
    "# your solution goes here."
   ]
  },
  {
   "cell_type": "markdown",
   "metadata": {
    "colab_type": "text",
    "id": "IeXBRFgUnoEl"
   },
   "source": [
    "SOLUTION"
   ]
  },
  {
   "cell_type": "code",
   "execution_count": 76,
   "metadata": {
    "cellView": "form",
    "colab": {},
    "colab_type": "code",
    "id": "Dtnnr9vWMqoj"
   },
   "outputs": [
    {
     "name": "stdout",
     "output_type": "stream",
     "text": [
      "Mean, median and standard deviation: 50.36080225671085 50.83552466884751 12.308631846054094\n"
     ]
    }
   ],
   "source": [
    "#@title\n",
    "# Solution\n",
    "mu, med, sd = np.mean(prices), np.median(prices), np.std(prices)\n",
    "print(\"Mean, median and standard deviation:\", mu, med, sd)"
   ]
  },
  {
   "cell_type": "markdown",
   "metadata": {
    "colab_type": "text",
    "id": "ZaaJ9NL4MqqC"
   },
   "source": [
    "5.5 Finally, let's find all the local maxima in the `prices` array. If you are up for the challenge, you can try to use NumPy functions only. Otherwise, the package `scipy.signal` offers a nice function called `find_peaks`."
   ]
  },
  {
   "cell_type": "code",
   "execution_count": 81,
   "metadata": {
    "colab": {},
    "colab_type": "code",
    "id": "c3QgjgrihvXB"
   },
   "outputs": [
    {
     "name": "stdout",
     "output_type": "stream",
     "text": [
      "Local maxima\n",
      "(array([ 3,  6, 13, 16, 19, 22, 24, 26, 29, 32, 35, 37, 41, 43, 45, 48, 51,\n",
      "       53, 57, 62, 68, 70, 72, 75, 79, 82, 84, 87, 90, 93, 97],\n",
      "      dtype=int64), {})\n"
     ]
    }
   ],
   "source": [
    "# Solution\n",
    "print(\"Local maxima\")\n",
    "from scipy import signal\n",
    "print(signal.find_peaks(prices))\n",
    "# your solution goes here"
   ]
  },
  {
   "cell_type": "markdown",
   "metadata": {
    "colab_type": "text",
    "id": "aUWXvoDxnwDm"
   },
   "source": [
    "SOLUTION"
   ]
  },
  {
   "cell_type": "code",
   "execution_count": 88,
   "metadata": {
    "cellView": "form",
    "colab": {},
    "colab_type": "code",
    "id": "w4kde5zQMqqC"
   },
   "outputs": [
    {
     "name": "stdout",
     "output_type": "stream",
     "text": [
      "Local maxima\n"
     ]
    },
    {
     "data": {
      "text/plain": [
       "array([ 3,  6, 13, 16, 19, 22, 24, 26, 29, 32, 35, 37, 41, 43, 45, 48, 51,\n",
       "       53, 57, 62, 68, 70, 72, 75, 79, 82, 84, 87, 90, 93, 97],\n",
       "      dtype=int64)"
      ]
     },
     "execution_count": 88,
     "metadata": {},
     "output_type": "execute_result"
    }
   ],
   "source": [
    "#@title\n",
    "# Solution\n",
    "print(\"Local maxima\")\n",
    "peaks = np.where((prices[1:-1] > prices[0:-2]) * (prices[1:-1] > prices[2:]))[0] + 1 # +1是由于是从1开始算起的序号\n",
    "# 用nonzero\n",
    "peaks = np.nonzero((prices[1:-1] > prices[0:-2]) * (prices[1:-1] > prices[2:]))[0]+1 # 效果是一样的\n",
    "peaks"
   ]
  },
  {
   "cell_type": "markdown",
   "metadata": {
    "colab_type": "text",
    "id": "byvmRmyqkvnj"
   },
   "source": [
    "Here are the maxima found with `scipy`."
   ]
  },
  {
   "cell_type": "code",
   "execution_count": 90,
   "metadata": {
    "colab": {},
    "colab_type": "code",
    "id": "4GwaVTACkzoV"
   },
   "outputs": [
    {
     "data": {
      "text/plain": [
       "array([ 3,  6, 13, 16, 19, 22, 24, 26, 29, 32, 35, 37, 41, 43, 45, 48, 51,\n",
       "       53, 57, 62, 68, 70, 72, 75, 79, 82, 84, 87, 90, 93, 97],\n",
       "      dtype=int64)"
      ]
     },
     "execution_count": 90,
     "metadata": {},
     "output_type": "execute_result"
    }
   ],
   "source": [
    "from scipy.signal import find_peaks\n",
    "\n",
    "peaks, _ = find_peaks(prices, height=0)\n",
    "peaks"
   ]
  },
  {
   "cell_type": "markdown",
   "metadata": {
    "colab_type": "text",
    "id": "hD2-stM7iPLv"
   },
   "source": [
    "If you store the local maxima in a variable called `peaks`, the following plot will mark them in green."
   ]
  },
  {
   "cell_type": "code",
   "execution_count": 91,
   "metadata": {
    "colab": {},
    "colab_type": "code",
    "id": "2WJOpihHiEsK"
   },
   "outputs": [
    {
     "data": {
      "image/png": "[encoded data removed]",
      "text/plain": [
       "<Figure size 640x480 with 1 Axes>"
      ]
     },
     "metadata": {},
     "output_type": "display_data"
    }
   ],
   "source": [
    "kwargs = {'markersize': 8, 'linestyle': ''}\n",
    "\n",
    "fig, ax = plt.subplots()\n",
    "ax.plot(prices)\n",
    "ax.set_title('Price History')\n",
    "ax.set_xlabel('Time')\n",
    "ax.set_ylabel('Price')\n",
    "ax.plot(peaks, prices[peaks], marker='o', color='g', **kwargs)\n",
    "plt.show()"
   ]
  }
 ],
 "metadata": {
  "colab": {
   "collapsed_sections": [],
   "name": "exercises_week2.ipynb",
   "provenance": []
  },
  "kernelspec": {
   "display_name": "Python 3",
   "language": "python",
   "name": "python3"
  },
  "language_info": {
   "codemirror_mode": {
    "name": "ipython",
    "version": 3
   },
   "file_extension": ".py",
   "mimetype": "text/x-python",
   "name": "python",
   "nbconvert_exporter": "python",
   "pygments_lexer": "ipython3",
   "version": "3.8.3"
  }
 },
 "nbformat": 4,
 "nbformat_minor": 1
}
