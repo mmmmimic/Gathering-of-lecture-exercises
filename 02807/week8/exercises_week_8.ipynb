{
  "nbformat": 4,
  "nbformat_minor": 0,
  "metadata": {
    "colab": {
      "name": "exercises_week_8.ipynb",
      "provenance": [],
      "collapsed_sections": []
    },
    "kernelspec": {
      "display_name": "Python 3",
      "name": "python3"
    }
  },
  "cells": [
    {
      "cell_type": "markdown",
      "metadata": {
        "id": "vlMcbNUbMqnF"
      },
      "source": [
        "# 02807 - Week 8 Exercises:  Getting started with Spark\n"
      ]
    },
    {
      "cell_type": "markdown",
      "metadata": {
        "id": "asspwlX7zDcT"
      },
      "source": [
        "# Learning objectives:\n",
        "\n",
        "* Getting hands-on experience manipulating DataFrames with built-in Spark functions\n",
        "* Distinguishing actions and transformations\n",
        "* Writing your own UDFs\n"
      ]
    },
    {
      "cell_type": "markdown",
      "metadata": {
        "id": "wsEltdQrKqcI"
      },
      "source": [
        "# Readings:\n",
        "\n",
        "\n",
        "* [*Learning Spark*, Chapters 1-3](https://pages.databricks.com/rs/094-YMS-629/images/LearningSpark2.0.pdf). A nicely structured and detailed introduction to Spark.\n",
        "* [A Neanderthal’s Guide to Apache Spark in Python](https://towardsdatascience.com/a-neanderthals-guide-to-apache-spark-in-python-9ef1f156d427). A brief, fun and gentle introduction to Spark for complete beginners.\n"
      ]
    },
    {
      "cell_type": "markdown",
      "metadata": {
        "id": "P3D6xQ8JHpU6"
      },
      "source": [
        "# Setup\n",
        "\n",
        "You'll need to get pyspark and make some imports. The following cells will get you started."
      ]
    },
    {
      "cell_type": "code",
      "metadata": {
        "id": "VeB1RqD6Epce",
        "outputId": "362b1ce1-ba0b-4508-fa75-9bc7fc495ace",
        "colab": {
          "base_uri": "https://localhost:8080/",
          "height": 251
        }
      },
      "source": [
        "!pip install pyspark"
      ],
      "execution_count": null,
      "outputs": [
        {
          "output_type": "stream",
          "text": [
            "Collecting pyspark\n",
            "\u001b[?25l  Downloading https://files.pythonhosted.org/packages/f0/26/198fc8c0b98580f617cb03cb298c6056587b8f0447e20fa40c5b634ced77/pyspark-3.0.1.tar.gz (204.2MB)\n",
            "\u001b[K     |████████████████████████████████| 204.2MB 55kB/s \n",
            "\u001b[?25hCollecting py4j==0.10.9\n",
            "\u001b[?25l  Downloading https://files.pythonhosted.org/packages/9e/b6/6a4fb90cd235dc8e265a6a2067f2a2c99f0d91787f06aca4bcf7c23f3f80/py4j-0.10.9-py2.py3-none-any.whl (198kB)\n",
            "\u001b[K     |████████████████████████████████| 204kB 34.8MB/s \n",
            "\u001b[?25hBuilding wheels for collected packages: pyspark\n",
            "  Building wheel for pyspark (setup.py) ... \u001b[?25l\u001b[?25hdone\n",
            "  Created wheel for pyspark: filename=pyspark-3.0.1-py2.py3-none-any.whl size=204612243 sha256=bf98ad098c64b8ae132f03214b29ffe3741f48fa5ba50e4d3840017d1d5997ac\n",
            "  Stored in directory: /root/.cache/pip/wheels/5e/bd/07/031766ca628adec8435bb40f0bd83bb676ce65ff4007f8e73f\n",
            "Successfully built pyspark\n",
            "Installing collected packages: py4j, pyspark\n",
            "Successfully installed py4j-0.10.9 pyspark-3.0.1\n"
          ],
          "name": "stdout"
        }
      ]
    },
    {
      "cell_type": "code",
      "metadata": {
        "id": "zhJLQ3doEzrx",
        "outputId": "bea4372b-6b47-41c3-edea-3a47eef57767",
        "colab": {
          "base_uri": "https://localhost:8080/",
          "height": 71
        }
      },
      "source": [
        "import pyspark\n",
        "from pyspark.sql import *\n",
        "from pyspark.sql.functions import *\n",
        "spark = SparkSession.builder.getOrCreate()\n",
        "import os\n",
        "import urllib.request\n",
        "tit=urllib.request.urlretrieve('https://raw.githubusercontent.com/plotly/datasets/master/titanic.csv','/content/sample_data/titanic.csv')\n",
        "\n",
        "!ls '/content/sample_data'"
      ],
      "execution_count": null,
      "outputs": [
        {
          "output_type": "stream",
          "text": [
            "anscombe.json\t\t      mnist_test.csv\t     titanic.csv\n",
            "california_housing_test.csv   mnist_train_small.csv\n",
            "california_housing_train.csv  README.md\n"
          ],
          "name": "stdout"
        }
      ]
    },
    {
      "cell_type": "markdown",
      "metadata": {
        "id": "2ectQxRreAvJ"
      },
      "source": [
        "# Exercise 1: age bracketing for the Titanic Dataset\n",
        "\n",
        "In this exercise you should use Spark to count the number of Titanic passengers in different age brackets. More specifically, you need to count the number of people age 0 to 9, 10 to 19, and so on.\n"
      ]
    },
    {
      "cell_type": "markdown",
      "metadata": {
        "id": "0r1CJbUdeygx"
      },
      "source": [
        "## Loading the data\n",
        "\n",
        "Load the Titanic data used in the lecture slides into a Spark dataframe (use schema inference)."
      ]
    },
    {
      "cell_type": "code",
      "metadata": {
        "id": "my6Awbl-e4AO",
        "outputId": "917a9bf8-b9f7-46a4-feb3-9678b70250d3",
        "colab": {
          "base_uri": "https://localhost:8080/",
          "height": 269
        }
      },
      "source": [
        "# Your code goes here\n",
        "df = spark.read.option('header', True).option('inferSchema', True).csv('/content/sample_data/titanic.csv')\n",
        "df.printSchema()"
      ],
      "execution_count": null,
      "outputs": [
        {
          "output_type": "stream",
          "text": [
            "root\n",
            " |-- PassengerId: integer (nullable = true)\n",
            " |-- Survived: integer (nullable = true)\n",
            " |-- Pclass: integer (nullable = true)\n",
            " |-- Name: string (nullable = true)\n",
            " |-- Sex: string (nullable = true)\n",
            " |-- Age: double (nullable = true)\n",
            " |-- SibSp: integer (nullable = true)\n",
            " |-- Parch: integer (nullable = true)\n",
            " |-- Ticket: string (nullable = true)\n",
            " |-- Fare: double (nullable = true)\n",
            " |-- Cabin: string (nullable = true)\n",
            " |-- Embarked: string (nullable = true)\n",
            "\n"
          ],
          "name": "stdout"
        }
      ]
    },
    {
      "cell_type": "markdown",
      "metadata": {
        "id": "kSZvg7eOe7ok"
      },
      "source": [
        "## Cleaning the data\n",
        "\n",
        "Remove the rows that do not have an age \n"
      ]
    },
    {
      "cell_type": "code",
      "metadata": {
        "id": "OJrRTjQLfTsq",
        "outputId": "f43bdb6d-be4c-4b1a-a487-f7a12a6cc2a6",
        "colab": {
          "base_uri": "https://localhost:8080/",
          "height": 485
        }
      },
      "source": [
        "# Your code goes here\n",
        "filtered_df = df.filter(col('Age').isNotNull())\n",
        "filtered_df.show()"
      ],
      "execution_count": null,
      "outputs": [
        {
          "output_type": "stream",
          "text": [
            "+-----------+--------+------+--------------------+------+----+-----+-----+----------------+-------+-----+--------+\n",
            "|PassengerId|Survived|Pclass|                Name|   Sex| Age|SibSp|Parch|          Ticket|   Fare|Cabin|Embarked|\n",
            "+-----------+--------+------+--------------------+------+----+-----+-----+----------------+-------+-----+--------+\n",
            "|          1|       0|     3|Braund, Mr. Owen ...|  male|22.0|    1|    0|       A/5 21171|   7.25| null|       S|\n",
            "|          2|       1|     1|Cumings, Mrs. Joh...|female|38.0|    1|    0|        PC 17599|71.2833|  C85|       C|\n",
            "|          3|       1|     3|Heikkinen, Miss. ...|female|26.0|    0|    0|STON/O2. 3101282|  7.925| null|       S|\n",
            "|          4|       1|     1|Futrelle, Mrs. Ja...|female|35.0|    1|    0|          113803|   53.1| C123|       S|\n",
            "|          5|       0|     3|Allen, Mr. Willia...|  male|35.0|    0|    0|          373450|   8.05| null|       S|\n",
            "|          7|       0|     1|McCarthy, Mr. Tim...|  male|54.0|    0|    0|           17463|51.8625|  E46|       S|\n",
            "|          8|       0|     3|Palsson, Master. ...|  male| 2.0|    3|    1|          349909| 21.075| null|       S|\n",
            "|          9|       1|     3|Johnson, Mrs. Osc...|female|27.0|    0|    2|          347742|11.1333| null|       S|\n",
            "|         10|       1|     2|Nasser, Mrs. Nich...|female|14.0|    1|    0|          237736|30.0708| null|       C|\n",
            "|         11|       1|     3|Sandstrom, Miss. ...|female| 4.0|    1|    1|         PP 9549|   16.7|   G6|       S|\n",
            "|         12|       1|     1|Bonnell, Miss. El...|female|58.0|    0|    0|          113783|  26.55| C103|       S|\n",
            "|         13|       0|     3|Saundercock, Mr. ...|  male|20.0|    0|    0|       A/5. 2151|   8.05| null|       S|\n",
            "|         14|       0|     3|Andersson, Mr. An...|  male|39.0|    1|    5|          347082| 31.275| null|       S|\n",
            "|         15|       0|     3|Vestrom, Miss. Hu...|female|14.0|    0|    0|          350406| 7.8542| null|       S|\n",
            "|         16|       1|     2|Hewlett, Mrs. (Ma...|female|55.0|    0|    0|          248706|   16.0| null|       S|\n",
            "|         17|       0|     3|Rice, Master. Eugene|  male| 2.0|    4|    1|          382652| 29.125| null|       Q|\n",
            "|         19|       0|     3|Vander Planke, Mr...|female|31.0|    1|    0|          345763|   18.0| null|       S|\n",
            "|         21|       0|     2|Fynney, Mr. Joseph J|  male|35.0|    0|    0|          239865|   26.0| null|       S|\n",
            "|         22|       1|     2|Beesley, Mr. Lawr...|  male|34.0|    0|    0|          248698|   13.0|  D56|       S|\n",
            "|         23|       1|     3|\"McGowan, Miss. A...|female|15.0|    0|    0|          330923| 8.0292| null|       Q|\n",
            "+-----------+--------+------+--------------------+------+----+-----+-----+----------------+-------+-----+--------+\n",
            "only showing top 20 rows\n",
            "\n"
          ],
          "name": "stdout"
        }
      ]
    },
    {
      "cell_type": "markdown",
      "metadata": {
        "id": "0jzO0ggSfAFs"
      },
      "source": [
        "## Adding age brackets \n",
        "\n",
        "Create a new column with a value that identifies the bracket that passengers are in"
      ]
    },
    {
      "cell_type": "code",
      "metadata": {
        "id": "S2bOTGcpfIES",
        "outputId": "8669f454-4ff8-4733-974a-90d16facd3c1",
        "colab": {
          "base_uri": "https://localhost:8080/",
          "height": 485
        }
      },
      "source": [
        "# Your code goes here\n",
        "filtered_df = filtered_df.withColumn('bracket', (col('Age') / 10).cast('integer')*10)\n",
        "filtered_df.show()"
      ],
      "execution_count": null,
      "outputs": [
        {
          "output_type": "stream",
          "text": [
            "+-----------+--------+------+--------------------+------+----+-----+-----+----------------+-------+-----+--------+-------+\n",
            "|PassengerId|Survived|Pclass|                Name|   Sex| Age|SibSp|Parch|          Ticket|   Fare|Cabin|Embarked|bracket|\n",
            "+-----------+--------+------+--------------------+------+----+-----+-----+----------------+-------+-----+--------+-------+\n",
            "|          1|       0|     3|Braund, Mr. Owen ...|  male|22.0|    1|    0|       A/5 21171|   7.25| null|       S|     20|\n",
            "|          2|       1|     1|Cumings, Mrs. Joh...|female|38.0|    1|    0|        PC 17599|71.2833|  C85|       C|     30|\n",
            "|          3|       1|     3|Heikkinen, Miss. ...|female|26.0|    0|    0|STON/O2. 3101282|  7.925| null|       S|     20|\n",
            "|          4|       1|     1|Futrelle, Mrs. Ja...|female|35.0|    1|    0|          113803|   53.1| C123|       S|     30|\n",
            "|          5|       0|     3|Allen, Mr. Willia...|  male|35.0|    0|    0|          373450|   8.05| null|       S|     30|\n",
            "|          7|       0|     1|McCarthy, Mr. Tim...|  male|54.0|    0|    0|           17463|51.8625|  E46|       S|     50|\n",
            "|          8|       0|     3|Palsson, Master. ...|  male| 2.0|    3|    1|          349909| 21.075| null|       S|      0|\n",
            "|          9|       1|     3|Johnson, Mrs. Osc...|female|27.0|    0|    2|          347742|11.1333| null|       S|     20|\n",
            "|         10|       1|     2|Nasser, Mrs. Nich...|female|14.0|    1|    0|          237736|30.0708| null|       C|     10|\n",
            "|         11|       1|     3|Sandstrom, Miss. ...|female| 4.0|    1|    1|         PP 9549|   16.7|   G6|       S|      0|\n",
            "|         12|       1|     1|Bonnell, Miss. El...|female|58.0|    0|    0|          113783|  26.55| C103|       S|     50|\n",
            "|         13|       0|     3|Saundercock, Mr. ...|  male|20.0|    0|    0|       A/5. 2151|   8.05| null|       S|     20|\n",
            "|         14|       0|     3|Andersson, Mr. An...|  male|39.0|    1|    5|          347082| 31.275| null|       S|     30|\n",
            "|         15|       0|     3|Vestrom, Miss. Hu...|female|14.0|    0|    0|          350406| 7.8542| null|       S|     10|\n",
            "|         16|       1|     2|Hewlett, Mrs. (Ma...|female|55.0|    0|    0|          248706|   16.0| null|       S|     50|\n",
            "|         17|       0|     3|Rice, Master. Eugene|  male| 2.0|    4|    1|          382652| 29.125| null|       Q|      0|\n",
            "|         19|       0|     3|Vander Planke, Mr...|female|31.0|    1|    0|          345763|   18.0| null|       S|     30|\n",
            "|         21|       0|     2|Fynney, Mr. Joseph J|  male|35.0|    0|    0|          239865|   26.0| null|       S|     30|\n",
            "|         22|       1|     2|Beesley, Mr. Lawr...|  male|34.0|    0|    0|          248698|   13.0|  D56|       S|     30|\n",
            "|         23|       1|     3|\"McGowan, Miss. A...|female|15.0|    0|    0|          330923| 8.0292| null|       Q|     10|\n",
            "+-----------+--------+------+--------------------+------+----+-----+-----+----------------+-------+-----+--------+-------+\n",
            "only showing top 20 rows\n",
            "\n"
          ],
          "name": "stdout"
        }
      ]
    },
    {
      "cell_type": "markdown",
      "metadata": {
        "id": "qCLsqtqVfKwb"
      },
      "source": [
        "## Age bracket counts\n",
        "\n",
        "Create a Spark dataframe with the sum of passengers in each bracket"
      ]
    },
    {
      "cell_type": "code",
      "metadata": {
        "id": "wm9fldBlfVmK",
        "outputId": "444e7fd0-90a5-4c5a-b0e1-48d8eccd6184",
        "colab": {
          "base_uri": "https://localhost:8080/",
          "height": 251
        }
      },
      "source": [
        "# Your code goes here\n",
        "counts = filtered_df.groupby('bracket').agg(count('PassengerId').alias('Number')).show() "
      ],
      "execution_count": null,
      "outputs": [
        {
          "output_type": "stream",
          "text": [
            "+-------+------+\n",
            "|bracket|Number|\n",
            "+-------+------+\n",
            "|     20|    47|\n",
            "|     40|    11|\n",
            "|     10|    22|\n",
            "|     50|     8|\n",
            "|     70|     2|\n",
            "|     60|     2|\n",
            "|     30|    23|\n",
            "|      0|    11|\n",
            "+-------+------+\n",
            "\n"
          ],
          "name": "stdout"
        }
      ]
    },
    {
      "cell_type": "markdown",
      "metadata": {
        "id": "hvB1CeqSfYXP"
      },
      "source": [
        "# Exercise 2: understanding actions and transformations\n",
        "\n",
        "For each of the following Spark operations, decide if they are transformations or actions. If they are transformations, determine if they are wide or narrow.\n",
        "\n",
        "* ``select()``\n",
        "* `groupBy()`\n",
        "* `filter()`\n",
        "* `where()`\n",
        "* `count()`\n",
        "* `show()`\n",
        "* `agg()`\n",
        "* `write()`"
      ]
    },
    {
      "cell_type": "markdown",
      "metadata": {
        "id": "4MQ2mtJLfu5_"
      },
      "source": [
        "*Your answers go here*\n",
        "\n",
        "select(): transformation, narrow\n",
        "\n",
        "groupBy(): transformation, wide\n",
        "\n",
        "filter(): transformation, narrow\n",
        "\n",
        "where(): transformation, narrow\n",
        "\n",
        "count(): action\n",
        "\n",
        "show(): action\n",
        "\n",
        "agg(): transformation, wide\n",
        "\n",
        "write(): action\n"
      ]
    },
    {
      "cell_type": "markdown",
      "metadata": {
        "id": "wztxj5t_6m-h"
      },
      "source": [
        "# Exercise 3: exploratory data analysis for the Chicago crime dataset\n",
        "\n",
        "\n",
        "The Chicago Crime dataset contains a summary of the reported crimes occurred in the City of Chicago from 2001 to 2017. \n",
        "\n",
        "It is a fairly large dataset. You'll work with a sample of it. Execute the following cells to load it into a dataframe.\n",
        "\n"
      ]
    },
    {
      "cell_type": "code",
      "metadata": {
        "id": "uI_uHpru67uN",
        "outputId": "40e5f39c-03fe-44e1-bbaf-685221fe6f4e",
        "colab": {
          "base_uri": "https://localhost:8080/",
          "height": 487
        }
      },
      "source": [
        "# to get the full dataset, run: !wget https://data.cityofchicago.org/api/views/ijzp-q8t2/rows.csv?accessType=DOWNLOAD\n",
        "!wget https://ibm.box.com/shared/static/svflyugsr9zbqy5bmowgswqemfpm1x7f.csv"
      ],
      "execution_count": null,
      "outputs": [
        {
          "output_type": "stream",
          "text": [
            "--2020-10-24 15:12:29--  https://ibm.box.com/shared/static/svflyugsr9zbqy5bmowgswqemfpm1x7f.csv\n",
            "Resolving ibm.box.com (ibm.box.com)... 107.152.24.197\n",
            "Connecting to ibm.box.com (ibm.box.com)|107.152.24.197|:443... connected.\n",
            "HTTP request sent, awaiting response... 301 Moved Permanently\n",
            "Location: /public/static/svflyugsr9zbqy5bmowgswqemfpm1x7f.csv [following]\n",
            "--2020-10-24 15:12:29--  https://ibm.box.com/public/static/svflyugsr9zbqy5bmowgswqemfpm1x7f.csv\n",
            "Reusing existing connection to ibm.box.com:443.\n",
            "HTTP request sent, awaiting response... 301 Moved Permanently\n",
            "Location: https://ibm.ent.box.com/public/static/svflyugsr9zbqy5bmowgswqemfpm1x7f.csv [following]\n",
            "--2020-10-24 15:12:29--  https://ibm.ent.box.com/public/static/svflyugsr9zbqy5bmowgswqemfpm1x7f.csv\n",
            "Resolving ibm.ent.box.com (ibm.ent.box.com)... 107.152.24.201\n",
            "Connecting to ibm.ent.box.com (ibm.ent.box.com)|107.152.24.201|:443... connected.\n",
            "HTTP request sent, awaiting response... 302 Found\n",
            "Location: https://public.boxcloud.com/d/1/b1!Bz1SeMpYv4Z9WTIEXGTxck7P1niGjzKGXryD6eaS5_c4p36lkQH3FjMMSP9uIAK84tuvKUjGx_ymCMSHAoCkilqcpwEVISJUnVHq4xlvJf7Xsc8uwUBYiuh0ye6nBRT3PzHUBY2MDvOYRr8QBrjdXAdeG9zsqV8ZRfotgz9OJsa1RazdM0rbvAMP301UrkEWYy2RCWUH78oMZXvaxU80ZYsye-PDPsGlHyje6KnsQf0CjChIqlIq46-LBLaElxK_E1YxMAgQZLgHVdiHlAknx9oD6M2YKQjbnAU-AKIhzB-hztkP4ZammVzWeoxZ2yvnJEfxzPyd7v83RJWCoYKf9IgJogLhybFk0fyqo8hUuTf0b2Ex-rIJcZLks1HUov74_3RXVeQwUts49bilkirZASF4kAWxl41Sv42ifFb3bL2B53VuqEOmUtPpQvQqjnxeQ-6Z9y6XtIuxYiTH2EQanyFwg6uQgfHgKbi5qKat7jKk4HRfk4W6-X7RgOJLC7JQQMpQUCO9I-bT22FLYZ8--xbFzLxQ_PqbEIoRp5NI_EOv2Mt1BpOYvhc98jwjVcghOMCnK8Je3Oktbe6Dq35b_Kjw8nh0dZTHApfVtx6MHPhsncbqe_GRNOWhwc6KGX8zaQC4cZbimGprPH6J3x05vrLB2DytgkSWC7065-ZRdnemVL50EvkDTk6eus83EGIcYYh8ue9gK5PqQL6PLkVF5f4km9JOLbeCoam1dTEgY0loyR4dwQz5nbShZYM3k1SaTzDneXSnQPJsCKDwOHq5WYtsv4azops8kuk8HGDuSLgW4GS-rdXKGZFUjMgiycWjnXJ_qYpuZwKI7OkMjSz0ng9PGhX_GkbXK4XEvsfOCHdkBKaFj-DRxm9wcIekwaS46NAgbS_SGeCEmPIBruqGOmq3R-nQdzYQNU9u1qV_75_hj8uJCnEQ21QZEcj8X8q1VfZTczJGy8nlH1MYNTBtoCUicaeYIOSbCqvI7z1ylqM2ZyZ8VulsvFlpKnPA2V1heri5XAWuwH2Prjo9RqeYH6_yVLKWuMBD55JfhhC_TNRPjH1zuI7rgH2uf_of--IYs3bk0UPaIOFtbJKaGcgfwZcI59b4ZzJ_P3EprVoy-IivFd-2QLgq-HTdM5x1oEQcOkefR2xIayMVoHOoDotmvM-njS-vfW5GT6Or-QBFNw_RswY6Zjp0J8C5pMdVOZpsZGHBMMviVrmQbgZF4WOm7vVdEGxU-Yoxx70rYLhx27OfA1RtquVTgjqMiKyiRtDaPFnozAjoLCVgJsVoqbMKx52JSCKp2sKnVTa_XF_guFtkefrZd0ITS3hTw65kHnuRiv6kXpKKE7OkUNoihvKTBYV8_kTWLich5y6cgTgTspFVqWxWKvbgUpEps8UnucUCANA1Y0JV_uhVfWfDmdGYi2rearZMkauynBWtJfr5QLU0/download [following]\n",
            "--2020-10-24 15:12:30--  https://public.boxcloud.com/d/1/b1!Bz1SeMpYv4Z9WTIEXGTxck7P1niGjzKGXryD6eaS5_c4p36lkQH3FjMMSP9uIAK84tuvKUjGx_ymCMSHAoCkilqcpwEVISJUnVHq4xlvJf7Xsc8uwUBYiuh0ye6nBRT3PzHUBY2MDvOYRr8QBrjdXAdeG9zsqV8ZRfotgz9OJsa1RazdM0rbvAMP301UrkEWYy2RCWUH78oMZXvaxU80ZYsye-PDPsGlHyje6KnsQf0CjChIqlIq46-LBLaElxK_E1YxMAgQZLgHVdiHlAknx9oD6M2YKQjbnAU-AKIhzB-hztkP4ZammVzWeoxZ2yvnJEfxzPyd7v83RJWCoYKf9IgJogLhybFk0fyqo8hUuTf0b2Ex-rIJcZLks1HUov74_3RXVeQwUts49bilkirZASF4kAWxl41Sv42ifFb3bL2B53VuqEOmUtPpQvQqjnxeQ-6Z9y6XtIuxYiTH2EQanyFwg6uQgfHgKbi5qKat7jKk4HRfk4W6-X7RgOJLC7JQQMpQUCO9I-bT22FLYZ8--xbFzLxQ_PqbEIoRp5NI_EOv2Mt1BpOYvhc98jwjVcghOMCnK8Je3Oktbe6Dq35b_Kjw8nh0dZTHApfVtx6MHPhsncbqe_GRNOWhwc6KGX8zaQC4cZbimGprPH6J3x05vrLB2DytgkSWC7065-ZRdnemVL50EvkDTk6eus83EGIcYYh8ue9gK5PqQL6PLkVF5f4km9JOLbeCoam1dTEgY0loyR4dwQz5nbShZYM3k1SaTzDneXSnQPJsCKDwOHq5WYtsv4azops8kuk8HGDuSLgW4GS-rdXKGZFUjMgiycWjnXJ_qYpuZwKI7OkMjSz0ng9PGhX_GkbXK4XEvsfOCHdkBKaFj-DRxm9wcIekwaS46NAgbS_SGeCEmPIBruqGOmq3R-nQdzYQNU9u1qV_75_hj8uJCnEQ21QZEcj8X8q1VfZTczJGy8nlH1MYNTBtoCUicaeYIOSbCqvI7z1ylqM2ZyZ8VulsvFlpKnPA2V1heri5XAWuwH2Prjo9RqeYH6_yVLKWuMBD55JfhhC_TNRPjH1zuI7rgH2uf_of--IYs3bk0UPaIOFtbJKaGcgfwZcI59b4ZzJ_P3EprVoy-IivFd-2QLgq-HTdM5x1oEQcOkefR2xIayMVoHOoDotmvM-njS-vfW5GT6Or-QBFNw_RswY6Zjp0J8C5pMdVOZpsZGHBMMviVrmQbgZF4WOm7vVdEGxU-Yoxx70rYLhx27OfA1RtquVTgjqMiKyiRtDaPFnozAjoLCVgJsVoqbMKx52JSCKp2sKnVTa_XF_guFtkefrZd0ITS3hTw65kHnuRiv6kXpKKE7OkUNoihvKTBYV8_kTWLich5y6cgTgTspFVqWxWKvbgUpEps8UnucUCANA1Y0JV_uhVfWfDmdGYi2rearZMkauynBWtJfr5QLU0/download\n",
            "Resolving public.boxcloud.com (public.boxcloud.com)... 107.152.24.200\n",
            "Connecting to public.boxcloud.com (public.boxcloud.com)|107.152.24.200|:443... connected.\n",
            "HTTP request sent, awaiting response... 200 OK\n",
            "Length: 124158 (121K) [text/csv]\n",
            "Saving to: ‘svflyugsr9zbqy5bmowgswqemfpm1x7f.csv’\n",
            "\n",
            "svflyugsr9zbqy5bmow 100%[===================>] 121.25K  --.-KB/s    in 0.05s   \n",
            "\n",
            "2020-10-24 15:12:30 (2.15 MB/s) - ‘svflyugsr9zbqy5bmowgswqemfpm1x7f.csv’ saved [124158/124158]\n",
            "\n"
          ],
          "name": "stdout"
        }
      ]
    },
    {
      "cell_type": "code",
      "metadata": {
        "id": "ZF3lGIMr-1ku",
        "outputId": "1fd62fc9-8193-45f8-9f80-01227de7a9e6",
        "colab": {
          "base_uri": "https://localhost:8080/",
          "height": 107
        }
      },
      "source": [
        "!ls -1\n",
        "!mv svflyugsr9zbqy5bmowgswqemfpm1x7f.csv reported-crimes.csv\n",
        "!ls -l"
      ],
      "execution_count": null,
      "outputs": [
        {
          "output_type": "stream",
          "text": [
            "sample_data\n",
            "svflyugsr9zbqy5bmowgswqemfpm1x7f.csv\n",
            "total 128\n",
            "-rw-r--r-- 1 root root 124158 Oct 24 15:12 reported-crimes.csv\n",
            "drwxr-xr-x 1 root root   4096 Oct 24 14:51 sample_data\n"
          ],
          "name": "stdout"
        }
      ]
    },
    {
      "cell_type": "code",
      "metadata": {
        "id": "EfnqE8Jx_Eve",
        "outputId": "ccfe1271-f8fc-4d07-c754-8152e1776b43",
        "colab": {
          "base_uri": "https://localhost:8080/",
          "height": 937
        }
      },
      "source": [
        "rc = spark.read.csv('reported-crimes.csv',header=True)\n",
        "rc.show()\n",
        "rc.printSchema()"
      ],
      "execution_count": null,
      "outputs": [
        {
          "output_type": "stream",
          "text": [
            "+--------+-----------+--------------------+--------------------+----+------------+--------------------+--------------------+------+--------+----+--------+----+---------------------+-------+------------+------------+----+--------------------+-----------+------------+--------------------+\n",
            "|      ID|CASE_NUMBER|                DATE|               BLOCK|IUCR|PRIMARY_TYPE|         DESCRIPTION|LOCATION_DESCRIPTION|ARREST|DOMESTIC|BEAT|DISTRICT|WARD|COMMUNITY_AREA_NUMBER|FBICODE|X_COORDINATE|Y_COORDINATE|YEAR|           UPDATEDON|   LATITUDE|   LONGITUDE|            LOCATION|\n",
            "+--------+-----------+--------------------+--------------------+----+------------+--------------------+--------------------+------+--------+----+--------+----+---------------------+-------+------------+------------+----+--------------------+-----------+------------+--------------------+\n",
            "| 3512276|   HK587712|08/28/2004 05:50:...|  047XX S KEDZIE AVE| 890|       THEFT|       FROM BUILDING|  SMALL RETAIL STORE| FALSE|   FALSE| 911|       9|  14|                   58|      6|     1155838|     1873050|2004|02/10/2018 03:50:...| 41.8074405|-87.70395585|(41.8074405, -87....|\n",
            "| 3406613|   HK456306|06/26/2004 12:40:...|009XX N CENTRAL P...| 820|       THEFT|      $500 AND UNDER|               OTHER| FALSE|   FALSE|1112|      11|  27|                   23|      6|     1152206|     1906127|2004|02/28/2018 03:56:...|41.89827996|-87.71640551|(41.898279962, -8...|\n",
            "| 8002131|   HT233595|04/04/2011 05:45:...|  043XX S WABASH AVE| 820|       THEFT|      $500 AND UNDER|NURSING HOME/RETI...| FALSE|   FALSE| 221|       2|   3|                   38|      6|     1177436|     1876313|2011|02/10/2018 03:50:...|41.81593313|-87.62464213|(41.815933131, -8...|\n",
            "| 7903289|   HT133522|12/30/2010 04:30:...|083XX S KINGSTON AVE| 840|       THEFT|FINANCIAL ID THEF...|           RESIDENCE| FALSE|   FALSE| 423|       4|   7|                   46|      6|     1194622|     1850125|2010|02/10/2018 03:50:...|41.74366532|-87.56246276|(41.743665322, -8...|\n",
            "|10402076|   HZ138551|02/02/2016 07:30:...|     033XX W 66TH ST| 820|       THEFT|      $500 AND UNDER|               ALLEY| FALSE|   FALSE| 831|       8|  15|                   66|      6|     1155240|     1860661|2016|02/10/2018 03:50:...| 41.7734553|-87.70648047|(41.773455295, -8...|\n",
            "| 7732712|   HS540106|09/29/2010 07:59:...| 006XX W CHICAGO AVE| 810|       THEFT|           OVER $500|PARKING LOT/GARAG...| FALSE|   FALSE|1323|      12|  27|                   24|      6|     1171668|     1905607|2010|02/10/2018 03:50:...|41.89644677|-87.64493868|(41.896446772, -8...|\n",
            "|10769475|   HZ534771|11/30/2016 01:15:...|  050XX N KEDZIE AVE| 810|       THEFT|           OVER $500|              STREET| FALSE|   FALSE|1713|      17|  33|                   14|      6|     1154133|     1933314|2016|02/10/2018 03:50:...|41.97284491|-87.70860008|(41.972844913, -8...|\n",
            "| 4494340|   HL793243|12/16/2005 04:45:...| 005XX E PERSHING RD| 860|       THEFT|        RETAIL THEFT|  GROCERY FOOD STORE|  TRUE|   FALSE| 213|       2|   3|                   38|      6|     1180448|     1879234|2005|02/28/2018 03:56:...|41.82387989|-87.61350386|(41.823879885, -8...|\n",
            "| 3778925|   HL149610|01/28/2005 05:00:...|100XX S WASHTENAW...| 810|       THEFT|           OVER $500|              STREET| FALSE|   FALSE|2211|      22|  19|                   72|      6|     1160129|     1838040|2005|02/28/2018 03:56:...|41.71128051| -87.6891791|(41.711280513, -8...|\n",
            "| 3324217|   HK361551|05/13/2004 02:15:...| 033XX W BELMONT AVE| 820|       THEFT|      $500 AND UNDER|  SMALL RETAIL STORE| FALSE|   FALSE|1733|      17|  35|                   21|      6|     1153590|     1921084|2004|02/28/2018 03:56:...|41.93929582|-87.71092344|(41.939295821, -8...|\n",
            "| 9902691|   HX552797|12/23/2014 02:15:...|  076XX S CICERO AVE| 860|       THEFT|        RETAIL THEFT|    DEPARTMENT STORE|  TRUE|   FALSE| 833|       8|  13|                   65|      6|     1145727|     1853720|2014|02/10/2018 03:50:...|41.75459296|-87.74152854|(41.754592961, -8...|\n",
            "| 7947964|   HT180228|02/26/2011 04:00:...|  012XX S HALSTED ST| 820|       THEFT|      $500 AND UNDER|       BAR OR TAVERN| FALSE|   FALSE|1232|      12|  25|                   28|      6|     1171230|     1894421|2011|02/10/2018 03:50:...|41.86576126|-87.64687598|(41.865761261, -8...|\n",
            "| 8568365|   HV243612|04/15/2012 07:30:...| 108XX S EMERALD AVE| 820|       THEFT|      $500 AND UNDER|RESIDENTIAL YARD ...| FALSE|   FALSE|2233|      22|  34|                   49|      6|     1173239|     1832994|2012|02/04/2016 06:33:...|41.69715437|-87.64131567|(41.697154372, -8...|\n",
            "| 5343947|   HN200365|02/26/2007 04:00:...|    011XX S CANAL ST| 842|       THEFT|AGG: FINANCIAL ID...|               OTHER| FALSE|   FALSE| 131|       1|   2|                   28|      6|     1173307|     1895342|2007|02/28/2018 03:56:...|41.86824272|-87.63922391|(41.868242722, -8...|\n",
            "| 3121541|   HK108680|01/05/2003 06:30:...| 038XX W FLOURNOY ST| 890|       THEFT|       FROM BUILDING|RESIDENCE PORCH/H...| FALSE|   FALSE|1133|      11|  24|                   26|      6|     1150808|     1896753|2003|02/28/2018 03:56:...|41.87258418|-87.72178565|(41.872584178, -8...|\n",
            "|10209850|   HY396729|08/24/2015 07:30:...|  026XX N ELSTON AVE| 820|       THEFT|      $500 AND UNDER|PARKING LOT/GARAG...| FALSE|   FALSE|1432|      14|   1|                   22|      6|     1160867|     1917657|2015|02/10/2018 03:50:...|41.92974382|-87.68427378|(41.929743818, -8...|\n",
            "| 6866556|   HR271603|04/16/2009 05:30:...|089XX S STONY ISL...| 860|       THEFT|        RETAIL THEFT|               OTHER|  TRUE|   FALSE| 413|       4|   8|                   48|      6|     1188475|     1846086|2009|02/28/2018 03:56:...|41.73273081|-87.58511413|(41.732730806, -8...|\n",
            "| 9681782|   HX332132|07/04/2014 09:45:...|    079XX S STATE ST| 820|       THEFT|      $500 AND UNDER|        CTA PLATFORM| FALSE|   FALSE| 623|       6|   6|                   44|      6|     1177660|     1852569|2014|02/10/2018 03:50:...|41.75077211|-87.62453842|(41.750772111, -8...|\n",
            "| 9166453|   HW303994|06/04/2013 09:00:...|  055XX W GLADYS AVE| 810|       THEFT|           OVER $500|     VACANT LOT/LAND| FALSE|   FALSE|1522|      15|  29|                   25|      6|     1139693|     1897797|2013|02/10/2018 03:50:...|41.87565911|-87.76256886|(41.875659108, -8...|\n",
            "| 7762423|   HS569246|10/17/2010 06:00:...|058XX W ARTHINGTO...| 880|       THEFT|     PURSE-SNATCHING|            SIDEWALK| FALSE|   FALSE|1513|      15|  29|                   25|      6|     1137635|     1895420|2010|02/10/2018 03:50:...| 41.8691736|-87.77018245|(41.869173601, -8...|\n",
            "+--------+-----------+--------------------+--------------------+----+------------+--------------------+--------------------+------+--------+----+--------+----+---------------------+-------+------------+------------+----+--------------------+-----------+------------+--------------------+\n",
            "only showing top 20 rows\n",
            "\n",
            "root\n",
            " |-- ID: string (nullable = true)\n",
            " |-- CASE_NUMBER: string (nullable = true)\n",
            " |-- DATE: string (nullable = true)\n",
            " |-- BLOCK: string (nullable = true)\n",
            " |-- IUCR: string (nullable = true)\n",
            " |-- PRIMARY_TYPE: string (nullable = true)\n",
            " |-- DESCRIPTION: string (nullable = true)\n",
            " |-- LOCATION_DESCRIPTION: string (nullable = true)\n",
            " |-- ARREST: string (nullable = true)\n",
            " |-- DOMESTIC: string (nullable = true)\n",
            " |-- BEAT: string (nullable = true)\n",
            " |-- DISTRICT: string (nullable = true)\n",
            " |-- WARD: string (nullable = true)\n",
            " |-- COMMUNITY_AREA_NUMBER: string (nullable = true)\n",
            " |-- FBICODE: string (nullable = true)\n",
            " |-- X_COORDINATE: string (nullable = true)\n",
            " |-- Y_COORDINATE: string (nullable = true)\n",
            " |-- YEAR: string (nullable = true)\n",
            " |-- UPDATEDON: string (nullable = true)\n",
            " |-- LATITUDE: string (nullable = true)\n",
            " |-- LONGITUDE: string (nullable = true)\n",
            " |-- LOCATION: string (nullable = true)\n",
            "\n"
          ],
          "name": "stdout"
        }
      ]
    },
    {
      "cell_type": "markdown",
      "metadata": {
        "id": "hxVWqtnaILqj"
      },
      "source": [
        "Let's do some EDA. Answer the following questions."
      ]
    },
    {
      "cell_type": "markdown",
      "metadata": {
        "id": "DknyPxfkFFVz"
      },
      "source": [
        "**What percentage of reported crimes resulted in an arrest?**"
      ]
    },
    {
      "cell_type": "code",
      "metadata": {
        "id": "d9S4hZanFPCf",
        "outputId": "55dc080a-5830-4a59-972b-7e30c887726b",
        "colab": {
          "base_uri": "https://localhost:8080/",
          "height": 35
        }
      },
      "source": [
        "# Your code goes here\n",
        "print('{}% reported crimes resulted in an arrest. '.format('%.2f'%(100*rc.filter(col('ARREST')==True).count()/rc.count())))"
      ],
      "execution_count": null,
      "outputs": [
        {
          "output_type": "stream",
          "text": [
            "30.58% reported crimes resulted in an arrest. \n"
          ],
          "name": "stdout"
        }
      ]
    },
    {
      "cell_type": "markdown",
      "metadata": {
        "id": "uToZfa01Fqi9"
      },
      "source": [
        "**What are the top 3 locations for reported crimes?**"
      ]
    },
    {
      "cell_type": "code",
      "metadata": {
        "id": "B3bxfL6wFvjJ",
        "outputId": "1b7407ce-bd98-4fd5-cf66-59c77a1855bd",
        "colab": {
          "base_uri": "https://localhost:8080/",
          "height": 179
        }
      },
      "source": [
        "# Your code goes here\n",
        "rc.groupBy('LOCATION_DESCRIPTION').agg(count('ID').alias('count')).orderBy(desc(\"count\")).show(3)"
      ],
      "execution_count": null,
      "outputs": [
        {
          "output_type": "stream",
          "text": [
            "+--------------------+-----+\n",
            "|LOCATION_DESCRIPTION|count|\n",
            "+--------------------+-----+\n",
            "|              STREET|  136|\n",
            "|           RESIDENCE|   84|\n",
            "|            SIDEWALK|   64|\n",
            "+--------------------+-----+\n",
            "only showing top 3 rows\n",
            "\n"
          ],
          "name": "stdout"
        }
      ]
    },
    {
      "cell_type": "markdown",
      "metadata": {
        "id": "vI6uPOV7GCAH"
      },
      "source": [
        "**What is the most common primary type of crime in district 022?**\n"
      ]
    },
    {
      "cell_type": "code",
      "metadata": {
        "id": "ojh8eHFUGNG9",
        "outputId": "f633c6a4-a3e4-4469-b672-fd6511437b0e",
        "colab": {
          "base_uri": "https://localhost:8080/",
          "height": 143
        }
      },
      "source": [
        "# Your code goes here\n",
        "rc.filter(col('DISTRICT') == '22').groupBy('PRIMARY_TYPE').agg(count('ID').alias('count')).orderBy(desc(\"count\")).show(1)"
      ],
      "execution_count": null,
      "outputs": [
        {
          "output_type": "stream",
          "text": [
            "+------------+-----+\n",
            "|PRIMARY_TYPE|count|\n",
            "+------------+-----+\n",
            "|       THEFT|    6|\n",
            "+------------+-----+\n",
            "only showing top 1 row\n",
            "\n"
          ],
          "name": "stdout"
        }
      ]
    }
  ]
}