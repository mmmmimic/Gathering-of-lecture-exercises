{
  "nbformat": 4,
  "nbformat_minor": 0,
  "metadata": {
    "colab": {
      "name": "SOLUTIONS exercises_week_8.ipynb",
      "provenance": []
    },
    "kernelspec": {
      "name": "python3",
      "display_name": "Python 3"
    }
  },
  "cells": [
    {
      "cell_type": "markdown",
      "metadata": {
        "id": "vlMcbNUbMqnF"
      },
      "source": [
        "# 02807 - Week 8 Exercises:  Getting started with Spark (Solutions)\n"
      ]
    },
    {
      "cell_type": "markdown",
      "metadata": {
        "id": "asspwlX7zDcT"
      },
      "source": [
        "# Learning objectives:\n",
        "\n",
        "* Getting hands-on experience manipulating DataFrames with built-in Spark functions\n",
        "* Distinguishing actions and transformations\n",
        "* Writing your own UDFs\n"
      ]
    },
    {
      "cell_type": "markdown",
      "metadata": {
        "id": "wsEltdQrKqcI"
      },
      "source": [
        "# Readings:\n",
        "\n",
        "\n",
        "* [*Learning Spark*, Chapters 1-3](https://pages.databricks.com/rs/094-YMS-629/images/LearningSpark2.0.pdf). A nicely structured and detailed introduction to Spark.\n",
        "* [A Neanderthal’s Guide to Apache Spark in Python](https://towardsdatascience.com/a-neanderthals-guide-to-apache-spark-in-python-9ef1f156d427). A brief, fun and gentle introduction to Spark for complete beginners.\n"
      ]
    },
    {
      "cell_type": "markdown",
      "metadata": {
        "id": "P3D6xQ8JHpU6"
      },
      "source": [
        "# Setup\n",
        "\n",
        "You'll need to get pyspark and make some imports. The following cells will get you started."
      ]
    },
    {
      "cell_type": "code",
      "metadata": {
        "id": "VeB1RqD6Epce",
        "outputId": "04d49480-229c-4fa4-bb37-90cf179f7b3f",
        "colab": {
          "base_uri": "https://localhost:8080/",
          "height": 51
        }
      },
      "source": [
        "!pip install pyspark"
      ],
      "execution_count": null,
      "outputs": [
        {
          "output_type": "stream",
          "text": [
            "Requirement already satisfied: pyspark in /usr/local/lib/python3.6/dist-packages (3.0.1)\n",
            "Requirement already satisfied: py4j==0.10.9 in /usr/local/lib/python3.6/dist-packages (from pyspark) (0.10.9)\n"
          ],
          "name": "stdout"
        }
      ]
    },
    {
      "cell_type": "code",
      "metadata": {
        "id": "zhJLQ3doEzrx"
      },
      "source": [
        "import pyspark\n",
        "from pyspark.sql import *\n",
        "from pyspark.sql import functions as f\n",
        "spark = SparkSession.builder.getOrCreate()"
      ],
      "execution_count": null,
      "outputs": []
    },
    {
      "cell_type": "markdown",
      "metadata": {
        "id": "2ectQxRreAvJ"
      },
      "source": [
        "# Exercise 1: age bracketing for the Titanic Dataset\n",
        "\n",
        "In this exercise you should use Spark to count the number of Titanic passengers in different age brackets. More specifically, you need to count the number of people age 0 to 9, 10 to 19, and so on.\n"
      ]
    },
    {
      "cell_type": "markdown",
      "metadata": {
        "id": "0r1CJbUdeygx"
      },
      "source": [
        "## Loading the data\n",
        "\n",
        "Load the Titanic data used in the lecture slides into a Spark dataframe (use schema inference)."
      ]
    },
    {
      "cell_type": "code",
      "metadata": {
        "id": "my6Awbl-e4AO",
        "outputId": "502b9066-6b9d-42c8-f2c1-cdfc9a036978",
        "colab": {
          "base_uri": "https://localhost:8080/",
          "height": 85
        }
      },
      "source": [
        "from google.colab import drive\n",
        "drive.mount('/content/drive')\n",
        "\n",
        "import os\n",
        "import urllib.request\n",
        "tit=urllib.request.urlretrieve('https://raw.githubusercontent.com/plotly/datasets/master/titanic.csv','/content/sample_data/titanic.csv')\n",
        "\n",
        "!ls '/content/sample_data'"
      ],
      "execution_count": null,
      "outputs": [
        {
          "output_type": "stream",
          "text": [
            "Mounted at /content/drive\n",
            "anscombe.json\t\t      mnist_test.csv\t     titanic.csv\n",
            "california_housing_test.csv   mnist_train_small.csv\n",
            "california_housing_train.csv  README.md\n"
          ],
          "name": "stdout"
        }
      ]
    },
    {
      "cell_type": "code",
      "metadata": {
        "id": "mM71A-FHlRlZ"
      },
      "source": [
        "df = spark.read.option('header', True).option('inferSchema', True).csv('/content/sample_data/titanic.csv')"
      ],
      "execution_count": null,
      "outputs": []
    },
    {
      "cell_type": "code",
      "metadata": {
        "id": "kG3fYS9VluKl",
        "outputId": "e67b5813-e162-4212-a4f9-347c96be8c75",
        "colab": {
          "base_uri": "https://localhost:8080/",
          "height": 255
        }
      },
      "source": [
        "df.printSchema()"
      ],
      "execution_count": null,
      "outputs": [
        {
          "output_type": "stream",
          "text": [
            "root\n",
            " |-- PassengerId: integer (nullable = true)\n",
            " |-- Survived: integer (nullable = true)\n",
            " |-- Pclass: integer (nullable = true)\n",
            " |-- Name: string (nullable = true)\n",
            " |-- Sex: string (nullable = true)\n",
            " |-- Age: double (nullable = true)\n",
            " |-- SibSp: integer (nullable = true)\n",
            " |-- Parch: integer (nullable = true)\n",
            " |-- Ticket: string (nullable = true)\n",
            " |-- Fare: double (nullable = true)\n",
            " |-- Cabin: string (nullable = true)\n",
            " |-- Embarked: string (nullable = true)\n",
            "\n"
          ],
          "name": "stdout"
        }
      ]
    },
    {
      "cell_type": "markdown",
      "metadata": {
        "id": "kSZvg7eOe7ok"
      },
      "source": [
        "## Cleaning the data\n",
        "\n",
        "Remove the rows that do not have an age \n"
      ]
    },
    {
      "cell_type": "code",
      "metadata": {
        "id": "OJrRTjQLfTsq",
        "outputId": "360e5be6-62bc-4f48-e643-4c68b9c16617",
        "colab": {
          "base_uri": "https://localhost:8080/",
          "height": 459
        }
      },
      "source": [
        "filtered_df = df.filter(f.col('Age').isNotNull())\n",
        "filtered_df.show()"
      ],
      "execution_count": null,
      "outputs": [
        {
          "output_type": "stream",
          "text": [
            "+-----------+--------+------+--------------------+------+----+-----+-----+----------------+-------+-----+--------+\n",
            "|PassengerId|Survived|Pclass|                Name|   Sex| Age|SibSp|Parch|          Ticket|   Fare|Cabin|Embarked|\n",
            "+-----------+--------+------+--------------------+------+----+-----+-----+----------------+-------+-----+--------+\n",
            "|          1|       0|     3|Braund, Mr. Owen ...|  male|22.0|    1|    0|       A/5 21171|   7.25| null|       S|\n",
            "|          2|       1|     1|Cumings, Mrs. Joh...|female|38.0|    1|    0|        PC 17599|71.2833|  C85|       C|\n",
            "|          3|       1|     3|Heikkinen, Miss. ...|female|26.0|    0|    0|STON/O2. 3101282|  7.925| null|       S|\n",
            "|          4|       1|     1|Futrelle, Mrs. Ja...|female|35.0|    1|    0|          113803|   53.1| C123|       S|\n",
            "|          5|       0|     3|Allen, Mr. Willia...|  male|35.0|    0|    0|          373450|   8.05| null|       S|\n",
            "|          7|       0|     1|McCarthy, Mr. Tim...|  male|54.0|    0|    0|           17463|51.8625|  E46|       S|\n",
            "|          8|       0|     3|Palsson, Master. ...|  male| 2.0|    3|    1|          349909| 21.075| null|       S|\n",
            "|          9|       1|     3|Johnson, Mrs. Osc...|female|27.0|    0|    2|          347742|11.1333| null|       S|\n",
            "|         10|       1|     2|Nasser, Mrs. Nich...|female|14.0|    1|    0|          237736|30.0708| null|       C|\n",
            "|         11|       1|     3|Sandstrom, Miss. ...|female| 4.0|    1|    1|         PP 9549|   16.7|   G6|       S|\n",
            "|         12|       1|     1|Bonnell, Miss. El...|female|58.0|    0|    0|          113783|  26.55| C103|       S|\n",
            "|         13|       0|     3|Saundercock, Mr. ...|  male|20.0|    0|    0|       A/5. 2151|   8.05| null|       S|\n",
            "|         14|       0|     3|Andersson, Mr. An...|  male|39.0|    1|    5|          347082| 31.275| null|       S|\n",
            "|         15|       0|     3|Vestrom, Miss. Hu...|female|14.0|    0|    0|          350406| 7.8542| null|       S|\n",
            "|         16|       1|     2|Hewlett, Mrs. (Ma...|female|55.0|    0|    0|          248706|   16.0| null|       S|\n",
            "|         17|       0|     3|Rice, Master. Eugene|  male| 2.0|    4|    1|          382652| 29.125| null|       Q|\n",
            "|         19|       0|     3|Vander Planke, Mr...|female|31.0|    1|    0|          345763|   18.0| null|       S|\n",
            "|         21|       0|     2|Fynney, Mr. Joseph J|  male|35.0|    0|    0|          239865|   26.0| null|       S|\n",
            "|         22|       1|     2|Beesley, Mr. Lawr...|  male|34.0|    0|    0|          248698|   13.0|  D56|       S|\n",
            "|         23|       1|     3|\"McGowan, Miss. A...|female|15.0|    0|    0|          330923| 8.0292| null|       Q|\n",
            "+-----------+--------+------+--------------------+------+----+-----+-----+----------------+-------+-----+--------+\n",
            "only showing top 20 rows\n",
            "\n"
          ],
          "name": "stdout"
        }
      ]
    },
    {
      "cell_type": "markdown",
      "metadata": {
        "id": "0jzO0ggSfAFs"
      },
      "source": [
        "## Adding age brackets \n",
        "\n",
        "Create a new column with a value that identifies the bracket that passengers are in"
      ]
    },
    {
      "cell_type": "code",
      "metadata": {
        "id": "S2bOTGcpfIES",
        "outputId": "75adce55-336b-4a70-acb8-bad6f1779c4b",
        "colab": {
          "base_uri": "https://localhost:8080/",
          "height": 459
        }
      },
      "source": [
        "filtered_df = filtered_df.withColumn('AgeBracket', (f.col('Age') / 10).cast('integer')*10)\n",
        "filtered_df.show()"
      ],
      "execution_count": null,
      "outputs": [
        {
          "output_type": "stream",
          "text": [
            "+-----------+--------+------+--------------------+------+----+-----+-----+----------------+-------+-----+--------+----------+\n",
            "|PassengerId|Survived|Pclass|                Name|   Sex| Age|SibSp|Parch|          Ticket|   Fare|Cabin|Embarked|AgeBracket|\n",
            "+-----------+--------+------+--------------------+------+----+-----+-----+----------------+-------+-----+--------+----------+\n",
            "|          1|       0|     3|Braund, Mr. Owen ...|  male|22.0|    1|    0|       A/5 21171|   7.25| null|       S|        20|\n",
            "|          2|       1|     1|Cumings, Mrs. Joh...|female|38.0|    1|    0|        PC 17599|71.2833|  C85|       C|        30|\n",
            "|          3|       1|     3|Heikkinen, Miss. ...|female|26.0|    0|    0|STON/O2. 3101282|  7.925| null|       S|        20|\n",
            "|          4|       1|     1|Futrelle, Mrs. Ja...|female|35.0|    1|    0|          113803|   53.1| C123|       S|        30|\n",
            "|          5|       0|     3|Allen, Mr. Willia...|  male|35.0|    0|    0|          373450|   8.05| null|       S|        30|\n",
            "|          7|       0|     1|McCarthy, Mr. Tim...|  male|54.0|    0|    0|           17463|51.8625|  E46|       S|        50|\n",
            "|          8|       0|     3|Palsson, Master. ...|  male| 2.0|    3|    1|          349909| 21.075| null|       S|         0|\n",
            "|          9|       1|     3|Johnson, Mrs. Osc...|female|27.0|    0|    2|          347742|11.1333| null|       S|        20|\n",
            "|         10|       1|     2|Nasser, Mrs. Nich...|female|14.0|    1|    0|          237736|30.0708| null|       C|        10|\n",
            "|         11|       1|     3|Sandstrom, Miss. ...|female| 4.0|    1|    1|         PP 9549|   16.7|   G6|       S|         0|\n",
            "|         12|       1|     1|Bonnell, Miss. El...|female|58.0|    0|    0|          113783|  26.55| C103|       S|        50|\n",
            "|         13|       0|     3|Saundercock, Mr. ...|  male|20.0|    0|    0|       A/5. 2151|   8.05| null|       S|        20|\n",
            "|         14|       0|     3|Andersson, Mr. An...|  male|39.0|    1|    5|          347082| 31.275| null|       S|        30|\n",
            "|         15|       0|     3|Vestrom, Miss. Hu...|female|14.0|    0|    0|          350406| 7.8542| null|       S|        10|\n",
            "|         16|       1|     2|Hewlett, Mrs. (Ma...|female|55.0|    0|    0|          248706|   16.0| null|       S|        50|\n",
            "|         17|       0|     3|Rice, Master. Eugene|  male| 2.0|    4|    1|          382652| 29.125| null|       Q|         0|\n",
            "|         19|       0|     3|Vander Planke, Mr...|female|31.0|    1|    0|          345763|   18.0| null|       S|        30|\n",
            "|         21|       0|     2|Fynney, Mr. Joseph J|  male|35.0|    0|    0|          239865|   26.0| null|       S|        30|\n",
            "|         22|       1|     2|Beesley, Mr. Lawr...|  male|34.0|    0|    0|          248698|   13.0|  D56|       S|        30|\n",
            "|         23|       1|     3|\"McGowan, Miss. A...|female|15.0|    0|    0|          330923| 8.0292| null|       Q|        10|\n",
            "+-----------+--------+------+--------------------+------+----+-----+-----+----------------+-------+-----+--------+----------+\n",
            "only showing top 20 rows\n",
            "\n"
          ],
          "name": "stdout"
        }
      ]
    },
    {
      "cell_type": "markdown",
      "metadata": {
        "id": "qCLsqtqVfKwb"
      },
      "source": [
        "## Age bracket counts\n",
        "\n",
        "Create a Spark dataframe with the sum of passengers in each bracket"
      ]
    },
    {
      "cell_type": "code",
      "metadata": {
        "id": "wm9fldBlfVmK",
        "outputId": "a006e368-a91c-443b-f81a-082987da1da8",
        "colab": {
          "base_uri": "https://localhost:8080/",
          "height": 238
        }
      },
      "source": [
        "filtered_df.groupBy('AgeBracket').agg(f.count('PassengerId').alias(\"NumberInBracket\")).orderBy(f.desc(\"AgeBracket\")).show()"
      ],
      "execution_count": null,
      "outputs": [
        {
          "output_type": "stream",
          "text": [
            "+----------+---------------+\n",
            "|AgeBracket|NumberInBracket|\n",
            "+----------+---------------+\n",
            "|        70|              2|\n",
            "|        60|              2|\n",
            "|        50|              8|\n",
            "|        40|             11|\n",
            "|        30|             23|\n",
            "|        20|             47|\n",
            "|        10|             22|\n",
            "|         0|             11|\n",
            "+----------+---------------+\n",
            "\n"
          ],
          "name": "stdout"
        }
      ]
    },
    {
      "cell_type": "markdown",
      "metadata": {
        "id": "hvB1CeqSfYXP"
      },
      "source": [
        "# Exercise 2: understanding actions and transformations\n",
        "\n",
        "For each of the following Spark operations, decide if they are transformations or actions. If they are transformations, determine if they are wide or narrow.\n",
        "\n",
        "* ``select()`` \n",
        "* `groupBy()` \n",
        "* `filter()` \n",
        "* `where()` \n",
        "* `count()`\n",
        "* `show()` \n",
        "* `agg()`\n",
        "* `write()`"
      ]
    },
    {
      "cell_type": "markdown",
      "metadata": {
        "id": "4MQ2mtJLfu5_"
      },
      "source": [
        "\n",
        "* ``select()``: trans, narrow\n",
        "* `groupBy()`: trans, wide\n",
        "* `filter()`: trans, narrow\n",
        "* `where()`: trans, narrow\n",
        "* `count()`: act\n",
        "* `show()` act\n",
        "* `agg()` trans, wide\n",
        "* `write()` act"
      ]
    },
    {
      "cell_type": "markdown",
      "metadata": {
        "id": "wztxj5t_6m-h"
      },
      "source": [
        "# Exercise 3: exploratory data analysis for the Chicago crime dataset\n",
        "\n",
        "\n",
        "The Chicago Crime dataset contains a summary of the reported crimes occurred in the City of Chicago from 2001 to 2017. \n",
        "\n",
        "It is a fairly large dataset. You'll work with a sample of it. Execute the following cells to load it into a dataframe.\n",
        "\n"
      ]
    },
    {
      "cell_type": "code",
      "metadata": {
        "id": "uI_uHpru67uN",
        "outputId": "84733b0e-9d97-43e0-8dba-838a630daca5",
        "colab": {
          "base_uri": "https://localhost:8080/",
          "height": 462
        }
      },
      "source": [
        "# to get the full dataset, run: !wget https://data.cityofchicago.org/api/views/ijzp-q8t2/rows.csv?accessType=DOWNLOAD\n",
        "!wget https://ibm.box.com/shared/static/svflyugsr9zbqy5bmowgswqemfpm1x7f.csv"
      ],
      "execution_count": null,
      "outputs": [
        {
          "output_type": "stream",
          "text": [
            "--2020-10-20 15:33:20--  https://ibm.box.com/shared/static/svflyugsr9zbqy5bmowgswqemfpm1x7f.csv\n",
            "Resolving ibm.box.com (ibm.box.com)... 107.152.26.197\n",
            "Connecting to ibm.box.com (ibm.box.com)|107.152.26.197|:443... connected.\n",
            "HTTP request sent, awaiting response... 301 Moved Permanently\n",
            "Location: /public/static/svflyugsr9zbqy5bmowgswqemfpm1x7f.csv [following]\n",
            "--2020-10-20 15:33:20--  https://ibm.box.com/public/static/svflyugsr9zbqy5bmowgswqemfpm1x7f.csv\n",
            "Reusing existing connection to ibm.box.com:443.\n",
            "HTTP request sent, awaiting response... 301 Moved Permanently\n",
            "Location: https://ibm.ent.box.com/public/static/svflyugsr9zbqy5bmowgswqemfpm1x7f.csv [following]\n",
            "--2020-10-20 15:33:20--  https://ibm.ent.box.com/public/static/svflyugsr9zbqy5bmowgswqemfpm1x7f.csv\n",
            "Resolving ibm.ent.box.com (ibm.ent.box.com)... 107.152.26.201\n",
            "Connecting to ibm.ent.box.com (ibm.ent.box.com)|107.152.26.201|:443... connected.\n",
            "HTTP request sent, awaiting response... 302 Found\n",
            "Location: https://public.boxcloud.com/d/1/b1!SUfRqppbtJCma5PpqCxSFecPO1CEYmu61K-I527k7Yjae6q5mrcn3ivyGjYpyFY_ZphtceC9cvgjItRZQgTQ1nhPLUkwg6xhYwvZNpvMdjgdA83dPP10ku9qmaMIdPTsBxZGxcFEOQ9RSqZB2UBCb44B4isH5jVFK3zJmv9N0auzCy809f0MgaLs_OJ7mpKGMix1Ugo_NX_FiwcXr-VaphoYjvnU7CyCaN7ilgXaVj-ywW76SKpeV9VAiH8mfhzwAmz0QPNwOCJlfFYzWrdRLsMazL_IhNkrd_uu_nOCdYLXHVuLpc8nzp3eyk4fLmoSC_jQ-vnmauLR2dczXJWSjnwh2-KYnLfAlTL0yG7uFwvLqzxSmogdQeV74nT0Lkzp4K7J1g8jn1JG-KZGteRiCYS2NIZDhB_zpk65Kb_Mjn-CUGUerEGm8qZkw9_Cf-bX0L4UsBB-FDD30RYOlNwZ46-AcojQ6fmbVRPunCwpENs_J3_cJ5A_4PmcXHW5Im_Kxu-vLV5b9XCzDIowPEg97v3iu_o6ArAwWdRVjp3T2KkCRa6lYwnIdqZI5hJ1FNgU5ZYH2oPiAY4VQnh9na0zkd-frXfFiH_VlLcilAqxsgFNrJtz5WRz37E8DvV1qc7CIkptpWGt2jP2wnUNmBr4dHTReZPNxizPAt2dRFzogdBhYiCf3h_C6NqDHYjAOsm-WLGABz1rtnCR6dX7UhU1ypBXksOlPewExX8IkxHqQ2HwPwfnEa7BM0VE25Jt_We2bNHcg0guUvszAsfVheJovyNX-ROX7Qg15FUO2ro_RvnzwYh-5tmoBjNjkhhUUVMIXmgeQDjd1o83G6Ghp4EW-66NNIqhFHpbAEIBWL9sNktOfX7vEdjo5JirGuDyXHyGG6qZCjn7JKcH8GRuSrfHuT2vJ2EkA5wlN12ZZB8g4WI3SOeCLI-NF-utkrNAC7Z8EuPXWyx2vCL2p15pFwFA2bau3AG9k8YdeF3K8HuCTK9NcgsrJeNqW_TyNt5rJYUPedQVXkHj600ieH40RJFsJn4dHkzYZFd1HWazJWPyYAnloRdHOpf3FBWMwcVhEzRjsbdLUvAfDjzeWwqZNUzTBVKIkOwaOA1uCtknl8KJc4kAqXtHYZ39IKqUFduQkOiqGn1jTw6AEtBT10S_U26hfckJvZnrr2W-NbNJrsaXtfSyiqk2ZuGr06QipDMQU2h4zGADd-Vjl4hdqvBgIUabGnUI0JvtFPNhq1bDi5Pup-ACHTZN2TGO7Yux-Uq0g7Aer7PwVkot6EuiSrx-xHiF_crHEsprqhuLK1UyAUB4lo5fM3CleNX_3ygiaJLd-YRCu4z5LMP9pQttWMfSxguUBaGb8f6uNRj8XSCdAWbckXUlbBNRY76FeDIvwY29gE9P1JfghTFD_3buqF8xvgmPR-r90EQK-Xkm-WgHQVSaQKxU/download [following]\n",
            "--2020-10-20 15:33:21--  https://public.boxcloud.com/d/1/b1!SUfRqppbtJCma5PpqCxSFecPO1CEYmu61K-I527k7Yjae6q5mrcn3ivyGjYpyFY_ZphtceC9cvgjItRZQgTQ1nhPLUkwg6xhYwvZNpvMdjgdA83dPP10ku9qmaMIdPTsBxZGxcFEOQ9RSqZB2UBCb44B4isH5jVFK3zJmv9N0auzCy809f0MgaLs_OJ7mpKGMix1Ugo_NX_FiwcXr-VaphoYjvnU7CyCaN7ilgXaVj-ywW76SKpeV9VAiH8mfhzwAmz0QPNwOCJlfFYzWrdRLsMazL_IhNkrd_uu_nOCdYLXHVuLpc8nzp3eyk4fLmoSC_jQ-vnmauLR2dczXJWSjnwh2-KYnLfAlTL0yG7uFwvLqzxSmogdQeV74nT0Lkzp4K7J1g8jn1JG-KZGteRiCYS2NIZDhB_zpk65Kb_Mjn-CUGUerEGm8qZkw9_Cf-bX0L4UsBB-FDD30RYOlNwZ46-AcojQ6fmbVRPunCwpENs_J3_cJ5A_4PmcXHW5Im_Kxu-vLV5b9XCzDIowPEg97v3iu_o6ArAwWdRVjp3T2KkCRa6lYwnIdqZI5hJ1FNgU5ZYH2oPiAY4VQnh9na0zkd-frXfFiH_VlLcilAqxsgFNrJtz5WRz37E8DvV1qc7CIkptpWGt2jP2wnUNmBr4dHTReZPNxizPAt2dRFzogdBhYiCf3h_C6NqDHYjAOsm-WLGABz1rtnCR6dX7UhU1ypBXksOlPewExX8IkxHqQ2HwPwfnEa7BM0VE25Jt_We2bNHcg0guUvszAsfVheJovyNX-ROX7Qg15FUO2ro_RvnzwYh-5tmoBjNjkhhUUVMIXmgeQDjd1o83G6Ghp4EW-66NNIqhFHpbAEIBWL9sNktOfX7vEdjo5JirGuDyXHyGG6qZCjn7JKcH8GRuSrfHuT2vJ2EkA5wlN12ZZB8g4WI3SOeCLI-NF-utkrNAC7Z8EuPXWyx2vCL2p15pFwFA2bau3AG9k8YdeF3K8HuCTK9NcgsrJeNqW_TyNt5rJYUPedQVXkHj600ieH40RJFsJn4dHkzYZFd1HWazJWPyYAnloRdHOpf3FBWMwcVhEzRjsbdLUvAfDjzeWwqZNUzTBVKIkOwaOA1uCtknl8KJc4kAqXtHYZ39IKqUFduQkOiqGn1jTw6AEtBT10S_U26hfckJvZnrr2W-NbNJrsaXtfSyiqk2ZuGr06QipDMQU2h4zGADd-Vjl4hdqvBgIUabGnUI0JvtFPNhq1bDi5Pup-ACHTZN2TGO7Yux-Uq0g7Aer7PwVkot6EuiSrx-xHiF_crHEsprqhuLK1UyAUB4lo5fM3CleNX_3ygiaJLd-YRCu4z5LMP9pQttWMfSxguUBaGb8f6uNRj8XSCdAWbckXUlbBNRY76FeDIvwY29gE9P1JfghTFD_3buqF8xvgmPR-r90EQK-Xkm-WgHQVSaQKxU/download\n",
            "Resolving public.boxcloud.com (public.boxcloud.com)... 107.152.26.200\n",
            "Connecting to public.boxcloud.com (public.boxcloud.com)|107.152.26.200|:443... connected.\n",
            "HTTP request sent, awaiting response... 200 OK\n",
            "Length: 124158 (121K) [text/csv]\n",
            "Saving to: ‘svflyugsr9zbqy5bmowgswqemfpm1x7f.csv.1’\n",
            "\n",
            "svflyugsr9zbqy5bmow 100%[===================>] 121.25K  --.-KB/s    in 0.09s   \n",
            "\n",
            "2020-10-20 15:33:21 (1.36 MB/s) - ‘svflyugsr9zbqy5bmowgswqemfpm1x7f.csv.1’ saved [124158/124158]\n",
            "\n"
          ],
          "name": "stdout"
        }
      ]
    },
    {
      "cell_type": "code",
      "metadata": {
        "id": "ZF3lGIMr-1ku",
        "outputId": "cf47b548-df73-425e-d7af-1d79ffdb09ac",
        "colab": {
          "base_uri": "https://localhost:8080/",
          "height": 170
        }
      },
      "source": [
        "!ls -1\n",
        "!mv svflyugsr9zbqy5bmowgswqemfpm1x7f.csv reported-crimes.csv\n",
        "!ls -l"
      ],
      "execution_count": null,
      "outputs": [
        {
          "output_type": "stream",
          "text": [
            "drive\n",
            "sample_data\n",
            "svflyugsr9zbqy5bmowgswqemfpm1x7f.csv\n",
            "svflyugsr9zbqy5bmowgswqemfpm1x7f.csv.1\n",
            "total 256\n",
            "drwx------ 5 root root   4096 Oct 20 15:16 drive\n",
            "-rw-r--r-- 1 root root 124158 Oct 20 15:32 reported-crimes.csv\n",
            "drwxr-xr-x 1 root root   4096 Oct 20 15:16 sample_data\n",
            "-rw-r--r-- 1 root root 124158 Oct 20 15:33 svflyugsr9zbqy5bmowgswqemfpm1x7f.csv.1\n"
          ],
          "name": "stdout"
        }
      ]
    },
    {
      "cell_type": "code",
      "metadata": {
        "id": "EfnqE8Jx_Eve",
        "outputId": "bdb1bd41-cbd2-4a7a-a5cb-d3c3fc3fbf4b",
        "colab": {
          "base_uri": "https://localhost:8080/",
          "height": 479
        }
      },
      "source": [
        "rc = spark.read.csv('reported-crimes.csv',header=True)\n",
        "rc.show()"
      ],
      "execution_count": null,
      "outputs": [
        {
          "output_type": "stream",
          "text": [
            "+--------+-----------+--------------------+--------------------+----+------------+--------------------+--------------------+------+--------+----+--------+----+---------------------+-------+------------+------------+----+--------------------+-----------+------------+--------------------+\n",
            "|      ID|CASE_NUMBER|                DATE|               BLOCK|IUCR|PRIMARY_TYPE|         DESCRIPTION|LOCATION_DESCRIPTION|ARREST|DOMESTIC|BEAT|DISTRICT|WARD|COMMUNITY_AREA_NUMBER|FBICODE|X_COORDINATE|Y_COORDINATE|YEAR|           UPDATEDON|   LATITUDE|   LONGITUDE|            LOCATION|\n",
            "+--------+-----------+--------------------+--------------------+----+------------+--------------------+--------------------+------+--------+----+--------+----+---------------------+-------+------------+------------+----+--------------------+-----------+------------+--------------------+\n",
            "| 3512276|   HK587712|08/28/2004 05:50:...|  047XX S KEDZIE AVE| 890|       THEFT|       FROM BUILDING|  SMALL RETAIL STORE| FALSE|   FALSE| 911|       9|  14|                   58|      6|     1155838|     1873050|2004|02/10/2018 03:50:...| 41.8074405|-87.70395585|(41.8074405, -87....|\n",
            "| 3406613|   HK456306|06/26/2004 12:40:...|009XX N CENTRAL P...| 820|       THEFT|      $500 AND UNDER|               OTHER| FALSE|   FALSE|1112|      11|  27|                   23|      6|     1152206|     1906127|2004|02/28/2018 03:56:...|41.89827996|-87.71640551|(41.898279962, -8...|\n",
            "| 8002131|   HT233595|04/04/2011 05:45:...|  043XX S WABASH AVE| 820|       THEFT|      $500 AND UNDER|NURSING HOME/RETI...| FALSE|   FALSE| 221|       2|   3|                   38|      6|     1177436|     1876313|2011|02/10/2018 03:50:...|41.81593313|-87.62464213|(41.815933131, -8...|\n",
            "| 7903289|   HT133522|12/30/2010 04:30:...|083XX S KINGSTON AVE| 840|       THEFT|FINANCIAL ID THEF...|           RESIDENCE| FALSE|   FALSE| 423|       4|   7|                   46|      6|     1194622|     1850125|2010|02/10/2018 03:50:...|41.74366532|-87.56246276|(41.743665322, -8...|\n",
            "|10402076|   HZ138551|02/02/2016 07:30:...|     033XX W 66TH ST| 820|       THEFT|      $500 AND UNDER|               ALLEY| FALSE|   FALSE| 831|       8|  15|                   66|      6|     1155240|     1860661|2016|02/10/2018 03:50:...| 41.7734553|-87.70648047|(41.773455295, -8...|\n",
            "| 7732712|   HS540106|09/29/2010 07:59:...| 006XX W CHICAGO AVE| 810|       THEFT|           OVER $500|PARKING LOT/GARAG...| FALSE|   FALSE|1323|      12|  27|                   24|      6|     1171668|     1905607|2010|02/10/2018 03:50:...|41.89644677|-87.64493868|(41.896446772, -8...|\n",
            "|10769475|   HZ534771|11/30/2016 01:15:...|  050XX N KEDZIE AVE| 810|       THEFT|           OVER $500|              STREET| FALSE|   FALSE|1713|      17|  33|                   14|      6|     1154133|     1933314|2016|02/10/2018 03:50:...|41.97284491|-87.70860008|(41.972844913, -8...|\n",
            "| 4494340|   HL793243|12/16/2005 04:45:...| 005XX E PERSHING RD| 860|       THEFT|        RETAIL THEFT|  GROCERY FOOD STORE|  TRUE|   FALSE| 213|       2|   3|                   38|      6|     1180448|     1879234|2005|02/28/2018 03:56:...|41.82387989|-87.61350386|(41.823879885, -8...|\n",
            "| 3778925|   HL149610|01/28/2005 05:00:...|100XX S WASHTENAW...| 810|       THEFT|           OVER $500|              STREET| FALSE|   FALSE|2211|      22|  19|                   72|      6|     1160129|     1838040|2005|02/28/2018 03:56:...|41.71128051| -87.6891791|(41.711280513, -8...|\n",
            "| 3324217|   HK361551|05/13/2004 02:15:...| 033XX W BELMONT AVE| 820|       THEFT|      $500 AND UNDER|  SMALL RETAIL STORE| FALSE|   FALSE|1733|      17|  35|                   21|      6|     1153590|     1921084|2004|02/28/2018 03:56:...|41.93929582|-87.71092344|(41.939295821, -8...|\n",
            "| 9902691|   HX552797|12/23/2014 02:15:...|  076XX S CICERO AVE| 860|       THEFT|        RETAIL THEFT|    DEPARTMENT STORE|  TRUE|   FALSE| 833|       8|  13|                   65|      6|     1145727|     1853720|2014|02/10/2018 03:50:...|41.75459296|-87.74152854|(41.754592961, -8...|\n",
            "| 7947964|   HT180228|02/26/2011 04:00:...|  012XX S HALSTED ST| 820|       THEFT|      $500 AND UNDER|       BAR OR TAVERN| FALSE|   FALSE|1232|      12|  25|                   28|      6|     1171230|     1894421|2011|02/10/2018 03:50:...|41.86576126|-87.64687598|(41.865761261, -8...|\n",
            "| 8568365|   HV243612|04/15/2012 07:30:...| 108XX S EMERALD AVE| 820|       THEFT|      $500 AND UNDER|RESIDENTIAL YARD ...| FALSE|   FALSE|2233|      22|  34|                   49|      6|     1173239|     1832994|2012|02/04/2016 06:33:...|41.69715437|-87.64131567|(41.697154372, -8...|\n",
            "| 5343947|   HN200365|02/26/2007 04:00:...|    011XX S CANAL ST| 842|       THEFT|AGG: FINANCIAL ID...|               OTHER| FALSE|   FALSE| 131|       1|   2|                   28|      6|     1173307|     1895342|2007|02/28/2018 03:56:...|41.86824272|-87.63922391|(41.868242722, -8...|\n",
            "| 3121541|   HK108680|01/05/2003 06:30:...| 038XX W FLOURNOY ST| 890|       THEFT|       FROM BUILDING|RESIDENCE PORCH/H...| FALSE|   FALSE|1133|      11|  24|                   26|      6|     1150808|     1896753|2003|02/28/2018 03:56:...|41.87258418|-87.72178565|(41.872584178, -8...|\n",
            "|10209850|   HY396729|08/24/2015 07:30:...|  026XX N ELSTON AVE| 820|       THEFT|      $500 AND UNDER|PARKING LOT/GARAG...| FALSE|   FALSE|1432|      14|   1|                   22|      6|     1160867|     1917657|2015|02/10/2018 03:50:...|41.92974382|-87.68427378|(41.929743818, -8...|\n",
            "| 6866556|   HR271603|04/16/2009 05:30:...|089XX S STONY ISL...| 860|       THEFT|        RETAIL THEFT|               OTHER|  TRUE|   FALSE| 413|       4|   8|                   48|      6|     1188475|     1846086|2009|02/28/2018 03:56:...|41.73273081|-87.58511413|(41.732730806, -8...|\n",
            "| 9681782|   HX332132|07/04/2014 09:45:...|    079XX S STATE ST| 820|       THEFT|      $500 AND UNDER|        CTA PLATFORM| FALSE|   FALSE| 623|       6|   6|                   44|      6|     1177660|     1852569|2014|02/10/2018 03:50:...|41.75077211|-87.62453842|(41.750772111, -8...|\n",
            "| 9166453|   HW303994|06/04/2013 09:00:...|  055XX W GLADYS AVE| 810|       THEFT|           OVER $500|     VACANT LOT/LAND| FALSE|   FALSE|1522|      15|  29|                   25|      6|     1139693|     1897797|2013|02/10/2018 03:50:...|41.87565911|-87.76256886|(41.875659108, -8...|\n",
            "| 7762423|   HS569246|10/17/2010 06:00:...|058XX W ARTHINGTO...| 880|       THEFT|     PURSE-SNATCHING|            SIDEWALK| FALSE|   FALSE|1513|      15|  29|                   25|      6|     1137635|     1895420|2010|02/10/2018 03:50:...| 41.8691736|-87.77018245|(41.869173601, -8...|\n",
            "+--------+-----------+--------------------+--------------------+----+------------+--------------------+--------------------+------+--------+----+--------+----+---------------------+-------+------------+------------+----+--------------------+-----------+------------+--------------------+\n",
            "only showing top 20 rows\n",
            "\n"
          ],
          "name": "stdout"
        }
      ]
    },
    {
      "cell_type": "code",
      "metadata": {
        "id": "7UGIrgESqrgB",
        "outputId": "21b7588e-0153-4608-a2e7-5cb68ad34a08",
        "colab": {
          "base_uri": "https://localhost:8080/",
          "height": 425
        }
      },
      "source": [
        "rc.printSchema()"
      ],
      "execution_count": null,
      "outputs": [
        {
          "output_type": "stream",
          "text": [
            "root\n",
            " |-- ID: string (nullable = true)\n",
            " |-- CASE_NUMBER: string (nullable = true)\n",
            " |-- DATE: string (nullable = true)\n",
            " |-- BLOCK: string (nullable = true)\n",
            " |-- IUCR: string (nullable = true)\n",
            " |-- PRIMARY_TYPE: string (nullable = true)\n",
            " |-- DESCRIPTION: string (nullable = true)\n",
            " |-- LOCATION_DESCRIPTION: string (nullable = true)\n",
            " |-- ARREST: string (nullable = true)\n",
            " |-- DOMESTIC: string (nullable = true)\n",
            " |-- BEAT: string (nullable = true)\n",
            " |-- DISTRICT: string (nullable = true)\n",
            " |-- WARD: string (nullable = true)\n",
            " |-- COMMUNITY_AREA_NUMBER: string (nullable = true)\n",
            " |-- FBICODE: string (nullable = true)\n",
            " |-- X_COORDINATE: string (nullable = true)\n",
            " |-- Y_COORDINATE: string (nullable = true)\n",
            " |-- YEAR: string (nullable = true)\n",
            " |-- UPDATEDON: string (nullable = true)\n",
            " |-- LATITUDE: string (nullable = true)\n",
            " |-- LONGITUDE: string (nullable = true)\n",
            " |-- LOCATION: string (nullable = true)\n",
            "\n"
          ],
          "name": "stdout"
        }
      ]
    },
    {
      "cell_type": "code",
      "metadata": {
        "id": "EJHhkM9erJ3G",
        "outputId": "7c73f811-be1b-45a7-eb32-153c2eda6351",
        "colab": {
          "base_uri": "https://localhost:8080/",
          "height": 34
        }
      },
      "source": [
        "rc.count()"
      ],
      "execution_count": null,
      "outputs": [
        {
          "output_type": "execute_result",
          "data": {
            "text/plain": [
              "533"
            ]
          },
          "metadata": {
            "tags": []
          },
          "execution_count": 42
        }
      ]
    },
    {
      "cell_type": "markdown",
      "metadata": {
        "id": "hxVWqtnaILqj"
      },
      "source": [
        "Let's do some EDA. Answer the following questions."
      ]
    },
    {
      "cell_type": "markdown",
      "metadata": {
        "id": "DknyPxfkFFVz"
      },
      "source": [
        "**What percentage of reported crimes resulted in an arrest?**"
      ]
    },
    {
      "cell_type": "code",
      "metadata": {
        "id": "d9S4hZanFPCf",
        "outputId": "00ab7ad6-5ff8-431c-e285-d8f12b57b84b",
        "colab": {
          "base_uri": "https://localhost:8080/",
          "height": 34
        }
      },
      "source": [
        "rc.filter(f.col('ARREST') == \"TRUE\").count()/rc.count()"
      ],
      "execution_count": null,
      "outputs": [
        {
          "output_type": "execute_result",
          "data": {
            "text/plain": [
              "0.3058161350844278"
            ]
          },
          "metadata": {
            "tags": []
          },
          "execution_count": 31
        }
      ]
    },
    {
      "cell_type": "markdown",
      "metadata": {
        "id": "uToZfa01Fqi9"
      },
      "source": [
        "**What are the top 3 locations for reported crimes?**"
      ]
    },
    {
      "cell_type": "code",
      "metadata": {
        "id": "B3bxfL6wFvjJ",
        "outputId": "60dd8a40-73b2-402a-fc46-31ebf3b7c04b",
        "colab": {
          "base_uri": "https://localhost:8080/",
          "height": 170
        }
      },
      "source": [
        "rc.groupBy('LOCATION_DESCRIPTION').agg(f.count('ID').alias('count')).orderBy(f.desc(\"count\")).show(3)"
      ],
      "execution_count": null,
      "outputs": [
        {
          "output_type": "stream",
          "text": [
            "+--------------------+-----+\n",
            "|LOCATION_DESCRIPTION|count|\n",
            "+--------------------+-----+\n",
            "|              STREET|  136|\n",
            "|           RESIDENCE|   84|\n",
            "|            SIDEWALK|   64|\n",
            "+--------------------+-----+\n",
            "only showing top 3 rows\n",
            "\n"
          ],
          "name": "stdout"
        }
      ]
    },
    {
      "cell_type": "markdown",
      "metadata": {
        "id": "vI6uPOV7GCAH"
      },
      "source": [
        "**What is the most common primary type of crime in district 022?**\n"
      ]
    },
    {
      "cell_type": "code",
      "metadata": {
        "id": "ojh8eHFUGNG9",
        "outputId": "1424e1f5-ded7-4f5f-fcdf-1c0876529265",
        "colab": {
          "base_uri": "https://localhost:8080/",
          "height": 170
        }
      },
      "source": [
        "rc.filter(f.col('DISTRICT') == '22').groupBy('PRIMARY_TYPE').agg(f.count('ID').alias('count')).orderBy(f.desc(\"count\")).show(3)"
      ],
      "execution_count": null,
      "outputs": [
        {
          "output_type": "stream",
          "text": [
            "+------------+-----+\n",
            "|PRIMARY_TYPE|count|\n",
            "+------------+-----+\n",
            "|       THEFT|    6|\n",
            "|    BURGLARY|    2|\n",
            "|     ASSAULT|    1|\n",
            "+------------+-----+\n",
            "only showing top 3 rows\n",
            "\n"
          ],
          "name": "stdout"
        }
      ]
    }
  ]
}