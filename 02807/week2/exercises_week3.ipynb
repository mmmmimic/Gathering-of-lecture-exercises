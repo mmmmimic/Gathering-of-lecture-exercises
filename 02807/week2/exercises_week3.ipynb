{
 "cells": [
  {
   "cell_type": "markdown",
   "metadata": {
    "colab_type": "text",
    "id": "vlMcbNUbMqnF"
   },
   "source": [
    "# 02807 - Week 3 Exercises: Exploratory data analysis with Pandas\n"
   ]
  },
  {
   "cell_type": "markdown",
   "metadata": {
    "colab_type": "text",
    "id": "asspwlX7zDcT"
   },
   "source": [
    "## Learning objectives:\n",
    "\n",
    "* Get hands-on experience performing exploratory data analysis with Pandas\n"
   ]
  },
  {
   "cell_type": "markdown",
   "metadata": {
    "colab_type": "text",
    "id": "kR68hOwCMyib"
   },
   "source": [
    "## Readings:\n",
    "\n",
    "Main reading:\n",
    "\n",
    "* [Chapter 3: Data Manipulation with Pandas](https://jakevdp.github.io/PythonDataScienceHandbook/03.00-introduction-to-pandas.html). Python Data Science Handbook.\n",
    "\n",
    "Recommended readings and tutorials:\n",
    "\n",
    "* [Kaggle Pandas tutorials](https://www.kaggle.com/learn/pandas). Great hands-on, step-by-step introduction.\n",
    "* [Python for Data Analysis Book](https://wesmckinney.com/pages/book.html). Excellent in-depth presentation of Pandas, by the creator of Pandas. Chapters 5 and onwards.\n"
   ]
  },
  {
   "cell_type": "markdown",
   "metadata": {
    "colab_type": "text",
    "id": "QnCb5dwYn2kp"
   },
   "source": [
    "## Exercises:\n",
    "\n",
    "* This week, you'll work on an assignment from the Open Machine Learning Course. \n",
    "\n",
    "* It comes with solutions and will score your work (check the info below).\n",
    "\n",
    "* Of course, you should try to find your own solution before looking at the given one. Otherwise, you won't learn much.\n",
    "\n",
    "* Enjoy and good luck!\n",
    "\n",
    "\n",
    "\n",
    "---\n",
    "\n",
    "\n"
   ]
  },
  {
   "cell_type": "markdown",
   "metadata": {
    "_uuid": "570fb89bb4f7838b1d0fdff70b2935790e5dbdbe",
    "colab_type": "text",
    "id": "r2hJmh96Ibys"
   },
   "source": [
    "<center>\n",
    "<img src=\"https://habrastorage.org/files/fd4/502/43d/fd450243dd604b81b9713213a247aa20.jpg\">\n",
    "    \n",
    "## [mlcourse.ai](mlcourse.ai) – Open Machine Learning Course \n",
    "\n",
    "<center>Author: [Yury Kashnitskiy](http://yorko.github.io) <br>\n",
    "Translated and edited by [Sergey Isaev](https://www.linkedin.com/in/isvforall/), [Artem Trunov](https://www.linkedin.com/in/datamove/), [Anastasia Manokhina](https://www.linkedin.com/in/anastasiamanokhina/), and [Yuanyuan Pao](https://www.linkedin.com/in/yuanyuanpao/) <br>All content is distributed under the [Creative Commons CC BY-NC-SA 4.0](https://creativecommons.org/licenses/by-nc-sa/4.0/) license."
   ]
  },
  {
   "cell_type": "markdown",
   "metadata": {
    "_uuid": "998fc5f76227ab1df9460a7b05c508304b14b3a6",
    "colab_type": "text",
    "id": "P9OS1kW4Ibyt"
   },
   "source": [
    "\n",
    "# <center>  Exploratory data analysis with Pandas\n"
   ]
  },
  {
   "cell_type": "markdown",
   "metadata": {
    "_uuid": "89ef93231815456f4e0bc5dcc00b094aee800993",
    "colab_type": "text",
    "id": "xQVIFzZ8Ibyu"
   },
   "source": [
    "**In this task you should use Pandas to answer a few questions about the [Adult](https://archive.ics.uci.edu/ml/datasets/Adult) dataset.** \n",
    "\n",
    "Choose the answers in the [web-form](https://docs.google.com/forms/d/1uY7MpI2trKx6FLWZte0uVh3ULV4Cm_tDud0VDFGCOKg). \n",
    "\n",
    "This is a demo version of an assignment, so by submitting the form, you'll see a link to the solution .ipynb file."
   ]
  },
  {
   "cell_type": "markdown",
   "metadata": {
    "_uuid": "c322301ac858c748f8f80e63cf6f734fc70dde30",
    "colab_type": "text",
    "id": "38-ojaAxIbyv"
   },
   "source": [
    "Unique values of all features (for more information, please see the links above):\n",
    "- `age`: continuous.\n",
    "- `workclass`: Private, Self-emp-not-inc, Self-emp-inc, Federal-gov, Local-gov, State-gov, Without-pay, Never-worked.\n",
    "- `fnlwgt`: continuous.\n",
    "- `education`: Bachelors, Some-college, 11th, HS-grad, Prof-school, Assoc-acdm, Assoc-voc, 9th, 7th-8th, 12th, Masters, 1st-4th, 10th, Doctorate, 5th-6th, Preschool.\n",
    "- `education-num`: continuous.\n",
    "- `marital-status`: Married-civ-spouse, Divorced, Never-married, Separated, Widowed, Married-spouse-absent, Married-AF-spouse.\n",
    "- `occupation`: Tech-support, Craft-repair, Other-service, Sales, Exec-managerial, Prof-specialty, Handlers-cleaners, Machine-op-inspct, Adm-clerical, Farming-fishing, Transport-moving, Priv-house-serv, Protective-serv, Armed-Forces.\n",
    "- `relationship`: Wife, Own-child, Husband, Not-in-family, Other-relative, Unmarried.\n",
    "- `race`: White, Asian-Pac-Islander, Amer-Indian-Eskimo, Other, Black.\n",
    "- `sex`: Female, Male.\n",
    "- `capital-gain`: continuous.\n",
    "- `capital-loss`: continuous.\n",
    "- `hours-per-week`: continuous.\n",
    "- `native-country`: United-States, Cambodia, England, Puerto-Rico, Canada, Germany, Outlying-US(Guam-USVI-etc), India, Japan, Greece, South, China, Cuba, Iran, Honduras, Philippines, Italy, Poland, Jamaica, Vietnam, Mexico, Portugal, Ireland, France, Dominican-Republic, Laos, Ecuador, Taiwan, Haiti, Columbia, Hungary, Guatemala, Nicaragua, Scotland, Thailand, Yugoslavia, El-Salvador, Trinadad&Tobago, Peru, Hong, Holand-Netherlands.   \n",
    "- `salary`: >50K,<=50K"
   ]
  },
  {
   "cell_type": "code",
   "execution_count": 1,
   "metadata": {
    "_uuid": "d3eb2411e23b7db11e4cbbb498a42752442a6f4c",
    "colab": {},
    "colab_type": "code",
    "id": "YzlO8DhOIbyw"
   },
   "outputs": [],
   "source": [
    "import pandas as pd"
   ]
  },
  {
   "cell_type": "code",
   "execution_count": 2,
   "metadata": {
    "_uuid": "c5119d1b8151029b4ff57735c4279b795ae492a2",
    "colab": {},
    "colab_type": "code",
    "id": "45rbCeq7Iby2"
   },
   "outputs": [
    {
     "data": {
      "text/html": [
       "<div>\n",
       "<style scoped>\n",
       "    .dataframe tbody tr th:only-of-type {\n",
       "        vertical-align: middle;\n",
       "    }\n",
       "\n",
       "    .dataframe tbody tr th {\n",
       "        vertical-align: top;\n",
       "    }\n",
       "\n",
       "    .dataframe thead th {\n",
       "        text-align: right;\n",
       "    }\n",
       "</style>\n",
       "<table border=\"1\" class=\"dataframe\">\n",
       "  <thead>\n",
       "    <tr style=\"text-align: right;\">\n",
       "      <th></th>\n",
       "      <th>age</th>\n",
       "      <th>workclass</th>\n",
       "      <th>fnlwgt</th>\n",
       "      <th>education</th>\n",
       "      <th>education-num</th>\n",
       "      <th>marital-status</th>\n",
       "      <th>occupation</th>\n",
       "      <th>relationship</th>\n",
       "      <th>race</th>\n",
       "      <th>sex</th>\n",
       "      <th>capital-gain</th>\n",
       "      <th>capital-loss</th>\n",
       "      <th>hours-per-week</th>\n",
       "      <th>native-country</th>\n",
       "      <th>salary</th>\n",
       "    </tr>\n",
       "  </thead>\n",
       "  <tbody>\n",
       "    <tr>\n",
       "      <th>0</th>\n",
       "      <td>39</td>\n",
       "      <td>State-gov</td>\n",
       "      <td>77516</td>\n",
       "      <td>Bachelors</td>\n",
       "      <td>13</td>\n",
       "      <td>Never-married</td>\n",
       "      <td>Adm-clerical</td>\n",
       "      <td>Not-in-family</td>\n",
       "      <td>White</td>\n",
       "      <td>Male</td>\n",
       "      <td>2174</td>\n",
       "      <td>0</td>\n",
       "      <td>40</td>\n",
       "      <td>United-States</td>\n",
       "      <td>&lt;=50K</td>\n",
       "    </tr>\n",
       "    <tr>\n",
       "      <th>1</th>\n",
       "      <td>50</td>\n",
       "      <td>Self-emp-not-inc</td>\n",
       "      <td>83311</td>\n",
       "      <td>Bachelors</td>\n",
       "      <td>13</td>\n",
       "      <td>Married-civ-spouse</td>\n",
       "      <td>Exec-managerial</td>\n",
       "      <td>Husband</td>\n",
       "      <td>White</td>\n",
       "      <td>Male</td>\n",
       "      <td>0</td>\n",
       "      <td>0</td>\n",
       "      <td>13</td>\n",
       "      <td>United-States</td>\n",
       "      <td>&lt;=50K</td>\n",
       "    </tr>\n",
       "    <tr>\n",
       "      <th>2</th>\n",
       "      <td>38</td>\n",
       "      <td>Private</td>\n",
       "      <td>215646</td>\n",
       "      <td>HS-grad</td>\n",
       "      <td>9</td>\n",
       "      <td>Divorced</td>\n",
       "      <td>Handlers-cleaners</td>\n",
       "      <td>Not-in-family</td>\n",
       "      <td>White</td>\n",
       "      <td>Male</td>\n",
       "      <td>0</td>\n",
       "      <td>0</td>\n",
       "      <td>40</td>\n",
       "      <td>United-States</td>\n",
       "      <td>&lt;=50K</td>\n",
       "    </tr>\n",
       "    <tr>\n",
       "      <th>3</th>\n",
       "      <td>53</td>\n",
       "      <td>Private</td>\n",
       "      <td>234721</td>\n",
       "      <td>11th</td>\n",
       "      <td>7</td>\n",
       "      <td>Married-civ-spouse</td>\n",
       "      <td>Handlers-cleaners</td>\n",
       "      <td>Husband</td>\n",
       "      <td>Black</td>\n",
       "      <td>Male</td>\n",
       "      <td>0</td>\n",
       "      <td>0</td>\n",
       "      <td>40</td>\n",
       "      <td>United-States</td>\n",
       "      <td>&lt;=50K</td>\n",
       "    </tr>\n",
       "    <tr>\n",
       "      <th>4</th>\n",
       "      <td>28</td>\n",
       "      <td>Private</td>\n",
       "      <td>338409</td>\n",
       "      <td>Bachelors</td>\n",
       "      <td>13</td>\n",
       "      <td>Married-civ-spouse</td>\n",
       "      <td>Prof-specialty</td>\n",
       "      <td>Wife</td>\n",
       "      <td>Black</td>\n",
       "      <td>Female</td>\n",
       "      <td>0</td>\n",
       "      <td>0</td>\n",
       "      <td>40</td>\n",
       "      <td>Cuba</td>\n",
       "      <td>&lt;=50K</td>\n",
       "    </tr>\n",
       "  </tbody>\n",
       "</table>\n",
       "</div>"
      ],
      "text/plain": [
       "   age         workclass  fnlwgt  education  education-num  \\\n",
       "0   39         State-gov   77516  Bachelors             13   \n",
       "1   50  Self-emp-not-inc   83311  Bachelors             13   \n",
       "2   38           Private  215646    HS-grad              9   \n",
       "3   53           Private  234721       11th              7   \n",
       "4   28           Private  338409  Bachelors             13   \n",
       "\n",
       "       marital-status         occupation   relationship   race     sex  \\\n",
       "0       Never-married       Adm-clerical  Not-in-family  White    Male   \n",
       "1  Married-civ-spouse    Exec-managerial        Husband  White    Male   \n",
       "2            Divorced  Handlers-cleaners  Not-in-family  White    Male   \n",
       "3  Married-civ-spouse  Handlers-cleaners        Husband  Black    Male   \n",
       "4  Married-civ-spouse     Prof-specialty           Wife  Black  Female   \n",
       "\n",
       "   capital-gain  capital-loss  hours-per-week native-country salary  \n",
       "0          2174             0              40  United-States  <=50K  \n",
       "1             0             0              13  United-States  <=50K  \n",
       "2             0             0              40  United-States  <=50K  \n",
       "3             0             0              40  United-States  <=50K  \n",
       "4             0             0              40           Cuba  <=50K  "
      ]
     },
     "execution_count": 2,
     "metadata": {},
     "output_type": "execute_result"
    }
   ],
   "source": [
    "url = 'https://raw.githubusercontent.com/Yorko/mlcourse.ai/master/data/adult.data.csv'\n",
    "data = pd.read_csv(url)\n",
    "data.head()"
   ]
  },
  {
   "cell_type": "markdown",
   "metadata": {
    "_uuid": "6b19853f936853d40971b56f4d298ab55ee78cac",
    "colab_type": "text",
    "id": "x3xmEcBQIby5"
   },
   "source": [
    "**1. How many men and women (*sex* feature) are represented in this dataset?** "
   ]
  },
  {
   "cell_type": "code",
   "execution_count": 13,
   "metadata": {
    "_uuid": "d32cafcbe966dbdfa40c3017d16d6f8c96bfb3e2",
    "colab": {},
    "colab_type": "code",
    "id": "1nvsg84KIby6"
   },
   "outputs": [
    {
     "name": "stdout",
     "output_type": "stream",
     "text": [
      "Male      21790\n",
      "Female    10771\n",
      "Name: sex, dtype: int64\n"
     ]
    }
   ],
   "source": [
    "# You code here\n",
    "sex = data['sex']\n",
    "nms = sex.value_counts()\n",
    "print(nms)"
   ]
  },
  {
   "cell_type": "markdown",
   "metadata": {
    "_uuid": "4748793234a5d325ea60d13331ecf93e29774523",
    "colab_type": "text",
    "id": "i3LvKSfEIby8"
   },
   "source": [
    "**2. What is the average age (*age* feature) of women?**"
   ]
  },
  {
   "cell_type": "code",
   "execution_count": 16,
   "metadata": {
    "_uuid": "64f60d928855107d8980875656dcdf3587d91646",
    "colab": {},
    "colab_type": "code",
    "id": "NcuY_rwkIby9"
   },
   "outputs": [
    {
     "name": "stdout",
     "output_type": "stream",
     "text": [
      "36.85823043357163\n"
     ]
    }
   ],
   "source": [
    "# You code here\n",
    "print(data.age[data.sex=='Female'].mean())"
   ]
  },
  {
   "cell_type": "markdown",
   "metadata": {
    "_uuid": "80e87c421c348067e88769c64e554206c51727d1",
    "colab_type": "text",
    "id": "u3fTYtXsIby_"
   },
   "source": [
    "**3. What is the percentage of German citizens (*native-country* feature)?**"
   ]
  },
  {
   "cell_type": "code",
   "execution_count": 46,
   "metadata": {
    "_uuid": "ca9807509692638bd945671ed7d8b4a5ad1f3626",
    "colab": {},
    "colab_type": "code",
    "id": "AZ5nsUYHIby_"
   },
   "outputs": [
    {
     "name": "stdout",
     "output_type": "stream",
     "text": [
      "0.004207487485028101\n"
     ]
    }
   ],
   "source": [
    "# You code here\n",
    "import numpy as np\n",
    "nms = data['native-country'].value_counts()\n",
    "print(nms.Germany/np.sum(nms))"
   ]
  },
  {
   "cell_type": "markdown",
   "metadata": {
    "_uuid": "be9911cf525df4fca2c1d14b8720bc8a82f462e7",
    "colab_type": "text",
    "id": "f-j0CdnIIbzC"
   },
   "source": [
    "**4-5. What are the mean and standard deviation of age for those who earn more than 50K per year (*salary* feature) and those who earn less than 50K per year?**"
   ]
  },
  {
   "cell_type": "code",
   "execution_count": 49,
   "metadata": {
    "_uuid": "97948f0115f949913d211627151b5605bcd204fd",
    "colab": {},
    "colab_type": "code",
    "id": "o0ZFfFj2IbzC"
   },
   "outputs": [
    {
     "name": "stdout",
     "output_type": "stream",
     "text": [
      "0        <=50K\n",
      "1        <=50K\n",
      "2        <=50K\n",
      "3        <=50K\n",
      "4        <=50K\n",
      "         ...  \n",
      "32556    <=50K\n",
      "32557     >50K\n",
      "32558    <=50K\n",
      "32559    <=50K\n",
      "32560     >50K\n",
      "Name: salary, Length: 32561, dtype: object\n",
      "mean: 44.24984058155847, std: 10.519027719851826\n",
      "mean: 36.78373786407767, std: 14.02008849082488\n"
     ]
    }
   ],
   "source": [
    "# You code here\n",
    "print(data.salary)\n",
    "age_over_50 = data[data.salary=='>50K'].age\n",
    "ave = age_over_50.mean()\n",
    "std = age_over_50.std()\n",
    "print('mean: {}, std: {}'.format(ave, std))\n",
    "age_under_50 = data[data.salary=='<=50K'].age\n",
    "ave = age_under_50.mean()\n",
    "std = age_under_50.std()\n",
    "print('mean: {}, std: {}'.format(ave, std))"
   ]
  },
  {
   "cell_type": "markdown",
   "metadata": {
    "_uuid": "180c3fe6f8b250b877c1d86866067b80acabdb64",
    "colab_type": "text",
    "id": "M0KiaC9hIbzE"
   },
   "source": [
    "**6. Is it true that people who earn more than 50K have at least high school education? (*education = HS-grad, Some-College, Bachelors, Prof-school, Assoc-acdm, Assoc-voc, Masters or *Doctorate*)**"
   ]
  },
  {
   "cell_type": "code",
   "execution_count": 62,
   "metadata": {
    "_uuid": "58f38ebfa2b0e1418a6a1a680d0743697f9876a2",
    "colab": {},
    "colab_type": "code",
    "id": "k-GQi-dzIbzE"
   },
   "outputs": [
    {
     "name": "stdout",
     "output_type": "stream",
     "text": [
      "['10th' '11th' '12th' '1st-4th' '5th-6th' '7th-8th' '9th' 'Assoc-acdm'\n",
      " 'Assoc-voc' 'Bachelors' 'Doctorate' 'HS-grad' 'Masters' 'Preschool'\n",
      " 'Prof-school' 'Some-college']\n",
      "10th       62\n",
      "11th       60\n",
      "7th-8th    40\n",
      "12th       33\n",
      "9th        27\n",
      "5th-6th    16\n",
      "1st-4th     6\n",
      "Name: education, dtype: int64\n"
     ]
    }
   ],
   "source": [
    "# You code here\n",
    "print(np.unique(data.education.values))\n",
    "edu_over_50 = age_over_50 = data[data.salary=='>50K'].education\n",
    "edu_under_hs = edu_over_50[(edu_over_50=='10th') | (edu_over_50=='11th') | (edu_over_50=='12th') | (edu_over_50=='1st-4th')\\\n",
    "                           | (edu_over_50=='5th-6th') | (edu_over_50=='7th-8th') | (edu_over_50=='9th')].value_counts()\n",
    "print(edu_under_hs)"
   ]
  },
  {
   "cell_type": "markdown",
   "metadata": {
    "_uuid": "87d6bc9ec1c230e66416ce94533ea250368009cc",
    "colab_type": "text",
    "id": "6IFdMoE_IbzG"
   },
   "source": [
    "**7. Display age statistics for each race (*race* feature) and each gender (*sex* feature). Use *groupby()* and *describe()*. Find the maximum age of men of *Amer-Indian-Eskimo* race.**"
   ]
  },
  {
   "cell_type": "code",
   "execution_count": 87,
   "metadata": {
    "_uuid": "a4567b72200b583f7f2ee1583405d636c12169db",
    "colab": {},
    "colab_type": "code",
    "id": "MeUwap76IbzG"
   },
   "outputs": [
    {
     "name": "stdout",
     "output_type": "stream",
     "text": [
      "                             count       mean        std   min   25%   50%  \\\n",
      "race               sex                                                       \n",
      "Amer-Indian-Eskimo Female    119.0  37.117647  13.114991  17.0  27.0  36.0   \n",
      "                   Male      192.0  37.208333  12.049563  17.0  28.0  35.0   \n",
      "Asian-Pac-Islander Female    346.0  35.089595  12.300845  17.0  25.0  33.0   \n",
      "                   Male      693.0  39.073593  12.883944  18.0  29.0  37.0   \n",
      "Black              Female   1555.0  37.854019  12.637197  17.0  28.0  37.0   \n",
      "                   Male     1569.0  37.682600  12.882612  17.0  27.0  36.0   \n",
      "Other              Female    109.0  31.678899  11.631599  17.0  23.0  29.0   \n",
      "                   Male      162.0  34.654321  11.355531  17.0  26.0  32.0   \n",
      "White              Female   8642.0  36.811618  14.329093  17.0  25.0  35.0   \n",
      "                   Male    19174.0  39.652498  13.436029  17.0  29.0  38.0   \n",
      "\n",
      "                             75%   max  \n",
      "race               sex                  \n",
      "Amer-Indian-Eskimo Female  46.00  80.0  \n",
      "                   Male    45.00  82.0  \n",
      "Asian-Pac-Islander Female  43.75  75.0  \n",
      "                   Male    46.00  90.0  \n",
      "Black              Female  46.00  90.0  \n",
      "                   Male    46.00  90.0  \n",
      "Other              Female  39.00  74.0  \n",
      "                   Male    42.00  77.0  \n",
      "White              Female  46.00  90.0  \n",
      "                   Male    49.00  90.0  \n"
     ]
    }
   ],
   "source": [
    "# You code here\n",
    "print(data.groupby(['race','sex']).age.describe())"
   ]
  },
  {
   "cell_type": "markdown",
   "metadata": {
    "_uuid": "19411d604b0d4337a4a048a2f0e898541f39ab76",
    "colab_type": "text",
    "id": "f7nR5ja-IbzI"
   },
   "source": [
    "**8. Among whom is the proportion of those who earn a lot (>50K) greater: married or single men (*marital-status* feature)? Consider as married those who have a *marital-status* starting with *Married* (Married-civ-spouse, Married-spouse-absent or Married-AF-spouse), the rest are considered bachelors.**"
   ]
  },
  {
   "cell_type": "code",
   "execution_count": 98,
   "metadata": {
    "_uuid": "5bb3a8524fcbd794707075ccf6aaf8dd0f30a3dd",
    "colab": {},
    "colab_type": "code",
    "id": "xnlJO14AIbzI"
   },
   "outputs": [
    {
     "name": "stdout",
     "output_type": "stream",
     "text": [
      "Married Ratio:  0.8953767637346143\n",
      "Bachelor Ratio:  0.10462323626538572\n"
     ]
    }
   ],
   "source": [
    "# You code here\n",
    "earn_over_50_men = data[(data.salary=='>50K') & (data.sex=='Male')]\n",
    "married = earn_over_50_men[(earn_over_50_men['marital-status']=='Married-civ-spouse') \\\n",
    "                           | (earn_over_50_men['marital-status']=='Married-spouse-absent') | \\\n",
    "            (earn_over_50_men['marital-status']=='Married-AF-spouse')]\n",
    "ratio_m = married.__len__() / earn_over_50_men.__len__()\n",
    "print('Married Proportion: ', ratio_m)\n",
    "print('Bachelor Proportion: ', 1-ratio_m)"
   ]
  },
  {
   "cell_type": "markdown",
   "metadata": {
    "_uuid": "34f2076e7d331b95a23b990372809b709d2c8183",
    "colab_type": "text",
    "id": "nNE6o5fRIbzK"
   },
   "source": [
    "**9. What is the maximum number of hours a person works per week (*hours-per-week* feature)? How many people work such a number of hours, and what is the percentage of those who earn a lot (>50K) among them?**"
   ]
  },
  {
   "cell_type": "code",
   "execution_count": 102,
   "metadata": {
    "_uuid": "3571468172fc4bcf34e10b3d6ab358d4e41f7ef4",
    "colab": {},
    "colab_type": "code",
    "id": "-UJlyCduIbzL"
   },
   "outputs": [
    {
     "name": "stdout",
     "output_type": "stream",
     "text": [
      "The maximum number of working hours par week:  99\n",
      "People number:  85\n",
      "Proportion:  0.29411764705882354\n"
     ]
    }
   ],
   "source": [
    "# You code here\n",
    "print('The maximum number of working hours par week: ', data['hours-per-week'].max())\n",
    "working_hard = data[data['hours-per-week']==99]\n",
    "print('People number: ', working_hard.__len__())\n",
    "print('Proportion: ', working_hard[working_hard.salary=='>50K'].__len__()/working_hard.__len__())"
   ]
  },
  {
   "cell_type": "markdown",
   "metadata": {
    "_uuid": "d539d4d137fac1c5ea25bc516188eb657d67e9b4",
    "colab_type": "text",
    "id": "kNLkyikhIbzM"
   },
   "source": [
    "**10. Count the average time of work (*hours-per-week*) for those who earn a little and a lot (*salary*) for each country (*native-country*). What will these be for Japan?**"
   ]
  },
  {
   "cell_type": "code",
   "execution_count": 106,
   "metadata": {
    "_uuid": "75a93411f1e3b519afcc27c026aaa0c67eb526e9",
    "colab": {},
    "colab_type": "code",
    "id": "CpsqguxlIbzN"
   },
   "outputs": [
    {
     "name": "stdout",
     "output_type": "stream",
     "text": [
      "Japan low:  41.0\n",
      "Japan high:  47.958333333333336\n"
     ]
    }
   ],
   "source": [
    "# You code here\n",
    "country_list = np.unique(data['native-country'])\n",
    "d = {}\n",
    "for nation in country_list:\n",
    "    df = data[data['native-country']==nation]\n",
    "    ave_low = df[df.salary=='<=50K']\n",
    "    ave_low = ave_low['hours-per-week'].mean()\n",
    "    ave_high = df[df.salary=='>50K']\n",
    "    ave_high = ave_high['hours-per-week'].mean()\n",
    "    d[nation+'_low'] = ave_low\n",
    "    d[nation+'_high'] = ave_high\n",
    "    \n",
    "print('Japan low: ', d['Japan_low'])\n",
    "print('Japan high: ', d['Japan_high'])"
   ]
  }
 ],
 "metadata": {
  "anaconda-cloud": {},
  "colab": {
   "collapsed_sections": [],
   "name": "exercises_week3.ipynb",
   "provenance": []
  },
  "kernelspec": {
   "display_name": "Python 3",
   "language": "python",
   "name": "python3"
  },
  "language_info": {
   "codemirror_mode": {
    "name": "ipython",
    "version": 3
   },
   "file_extension": ".py",
   "mimetype": "text/x-python",
   "name": "python",
   "nbconvert_exporter": "python",
   "pygments_lexer": "ipython3",
   "version": "3.8.3"
  }
 },
 "nbformat": 4,
 "nbformat_minor": 1
}
