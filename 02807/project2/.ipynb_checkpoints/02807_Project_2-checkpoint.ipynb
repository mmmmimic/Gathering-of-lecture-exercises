{
 "cells": [
  {
   "cell_type": "markdown",
   "metadata": {
    "id": "PlsPJUw7wCWZ"
   },
   "source": [
    "# 02807: Project 2\n",
    " \n",
    "## Practical information\n",
    " \n",
    "* This project must be completed in groups of 3 students.\n",
    "* This project must be handed in as an *.ipynb notebook to the course site on DTU Inside. Go to the Assignments tab to upload your submission. \n",
    "* The notebook must be runnable on Google Colab.\n",
    "* This project is due on Monday, November 30, 20:00.\n",
    "* Each group has to hand in *one* notebook with their solutions.\n",
    "* Your code must be written in Python/PySpark.\n",
    "* For each question you may use as many cells for your solution as you like.\n",
    "* You should not remove the problem statements.\n",
    "* Your notebook should be runnable, i.e., clicking in the code cells should display the result that you want to have assessed.  \n",
    "* You are not expected to use machine learning to solve any of the exercises.\n",
    " \n",
    "## Colaboration policy\n",
    " \n",
    "* It is not allowed to collaborate on the exercises with students outside your group, except for discussing the text of the exercise with teachers and fellow students enrolled on the course in the same semester. \n",
    "* It is not allowed to exchange, hand-over or in any other way communicate solutions or parts of solutions to the exercises. \n",
    "* It is not allowed to use solutions from similar courses, or solutions found elsewhere."
   ]
  },
  {
   "cell_type": "markdown",
   "metadata": {
    "id": "ZP30rwxHDQyG"
   },
   "source": [
    "## Contribution table and grading\n",
    "\n",
    "* The total amount of points in the project is 105.\n",
    "* You have to indicate who has solved each part of each exercise in a **contribution table**. \n",
    "* The following is an example of a contribution table:\n",
    "\n",
    "|        | Exercise 1 | Exercise 2 | Exercise 3 | Exercise 4 |\n",
    "|--------|------------|------------|------------|------------|\n",
    "| **Part 1** | John       |    Mary        |     Ann       |   Mary, Ann         |\n",
    "| **Part 2** |     Mary       |    Mary        |   Ann         |    John, Ann        |\n",
    "| **Part 3** |     John, Mary, Ann       |      John, Ann      |   John         | **n.a.**      |\n",
    "| **Part 4** | **n.a.**       |  Ann          |     John, Mary       | **n.a.**       |\n",
    "| **Part 5** | **n.a.**     | John, Mary, Ann           | **n.a.**       | **n.a.**       |\n",
    "| **Part 6** | **n.a.**       | John, Mary, Ann           | **n.a.**      | **n.a.**      |\n",
    "\n",
    "* A group member can take credit for solving a part of an exercise only if they have contributed **substantially** to the solution. \n",
    "* Simple contributions, such as correcting a small bug or double-checking the results of functions, are not sufficient for taking credit for a solution.\n",
    "* Several group members can take credit for the same solution if they all have contributed substantially to it.\n",
    "* **Each group member must solve at least 105/3=35 points**. \n",
    "* **If no name is provided for an exercise's part, all group members will be assigned responsibility for it**.\n",
    "* Group members should decide amongst themselves how to collaborate on the project to meet the above-mentioned constraints.  \n",
    "* Grades are individual. The grade $\\text{grade}(m)$ for a group member $m$ ranges from 0 to 10 and is calculated as follows: \n",
    "\n",
    "  * $\\text{individual-score}(m) = \\frac{\\text{total number of points for the parts correctly solved by }m}{\\text{total number of points for the parts contributed by }m}$\n",
    "\n",
    "  * $\\text{group-score} = \\frac{\\text{total number of points correctly solved by any group member}}{\\text{total number of points in the project}}$\n",
    "\n",
    "  * $\\text{grade}(m) =  7.5 \\cdot \\text{individual-score}(m) + 2.5 \\cdot \\text{group-score}$\n",
    "\n",
    "* **Example**: in the contribution table above, suppose that all parts are solved correctly except for those of Exercise 4, which are both wrong. Then Ann's grade is calculated as follows:\n",
    "\n",
    "  * $\\text{individual-part}(Ann) = \\frac{2.5 + 2.5 + 10 + 10 + 5 + 10 + 5}{2.5 + 2.5 + 10 + 10 + 5 + 10 + 5 + 10 + 10} = \\frac{45}{65} = 0.692$\n",
    "\n",
    "  * $\\text{group-part} = \\frac{85}{105} = 0.809$\n",
    "\n",
    "  * $\\text{grade}(Ann) =  7.14$\n"
   ]
  },
  {
   "cell_type": "markdown",
   "metadata": {
    "id": "m7RWIOjnTvxC"
   },
   "source": [
    "# Guidelines\n",
    "- Data processing should be done using PySpark. Once data has been reduced to aggregate form, you may use collect to extract it into Python for visualisation.\n",
    "- Your solutions will be evaluated by correctness, code quality and interpretability of the output. This means that you have to write clean and efficient Spark code that will generate sensible execution plans, and that the tables and visualisations that you produce are meaningful and easy to read.\n",
    "- You may add more cells for your solutions, but you should not modify the notebook otherwise."
   ]
  },
  {
   "cell_type": "markdown",
   "metadata": {
    "id": "fFNRs5ehSSjy"
   },
   "source": [
    "#<font color='red'>Additional Guidelines (added 4-Nov)</font>\n",
    "\n",
    "- You have to submit an *.ipynb file that runs on Google Colab. You may work on any other platform to develop your solutions, but you must make sure that the final form of the notebook is runnable on Colab. \n",
    "\n",
    "- Do not clear output cells when submitting the *.ipynb file, so we can see the results of your code cell executions without necessarily running them.\n",
    "\n",
    "- To work with the 2 large files in Project 2, we suggest that you do the following:\n",
    "\n",
    "1.   Create a new google account dedicated exclusively to Project 2.\n",
    "2.   Use the free 15 GB of Google Drive storage provided with the account to store listings.csv and reviews.csv (if necessary, zip the files first).\n",
    "3. Mount your Google Drive in the runtime's virtual machine. This will allow you to access the data from your Google Drive. Here is an official guide to mounting Drive on Colab: https://colab.research.google.com/notebooks/io.ipynb#scrollTo=p2E4EKhCWEC5\n",
    "4. Now, the two files are available in the `/content/drive folder of your runtime's virtual machine. \n",
    "\n",
    "* You are allowed to use a different way of storing/reading the two large files, but make sure to do so in a way in which we can easily run your notebook.\n",
    "\n",
    "\n",
    "\n",
    "\n",
    "\n",
    "\n",
    "\n"
   ]
  },
  {
   "cell_type": "markdown",
   "metadata": {
    "id": "vklet8XdRGVV"
   },
   "source": [
    "# Group declaration table \n",
    "\n",
    "This table must be filled before submission.\n",
    "\n"
   ]
  },
  {
   "cell_type": "code",
   "execution_count": 1,
   "metadata": {
    "colab": {
     "base_uri": "https://localhost:8080/",
     "height": 328
    },
    "id": "chiXA3CzRSA1",
    "outputId": "752ba847-32fb-48e7-a4ea-2ce363e3a706"
   },
   "outputs": [
    {
     "data": {
      "text/html": [
       "<div>\n",
       "<style scoped>\n",
       "    .dataframe tbody tr th:only-of-type {\n",
       "        vertical-align: middle;\n",
       "    }\n",
       "\n",
       "    .dataframe tbody tr th {\n",
       "        vertical-align: top;\n",
       "    }\n",
       "\n",
       "    .dataframe thead th {\n",
       "        text-align: right;\n",
       "    }\n",
       "</style>\n",
       "<table border=\"1\" class=\"dataframe\">\n",
       "  <thead>\n",
       "    <tr style=\"text-align: right;\">\n",
       "      <th></th>\n",
       "      <th>Exercise 1</th>\n",
       "      <th>Exercise 2</th>\n",
       "    </tr>\n",
       "  </thead>\n",
       "  <tbody>\n",
       "    <tr>\n",
       "      <th>Part 1</th>\n",
       "      <td></td>\n",
       "      <td></td>\n",
       "    </tr>\n",
       "    <tr>\n",
       "      <th>Part 2.1</th>\n",
       "      <td></td>\n",
       "      <td></td>\n",
       "    </tr>\n",
       "    <tr>\n",
       "      <th>Part 2.2</th>\n",
       "      <td></td>\n",
       "      <td></td>\n",
       "    </tr>\n",
       "    <tr>\n",
       "      <th>Part 2.3</th>\n",
       "      <td></td>\n",
       "      <td></td>\n",
       "    </tr>\n",
       "    <tr>\n",
       "      <th>Part 2.4</th>\n",
       "      <td></td>\n",
       "      <td></td>\n",
       "    </tr>\n",
       "    <tr>\n",
       "      <th>Part 2.5</th>\n",
       "      <td></td>\n",
       "      <td></td>\n",
       "    </tr>\n",
       "    <tr>\n",
       "      <th>Part 2.6</th>\n",
       "      <td></td>\n",
       "      <td></td>\n",
       "    </tr>\n",
       "    <tr>\n",
       "      <th>Part 3.1</th>\n",
       "      <td></td>\n",
       "      <td></td>\n",
       "    </tr>\n",
       "    <tr>\n",
       "      <th>Part 3.2</th>\n",
       "      <td></td>\n",
       "      <td></td>\n",
       "    </tr>\n",
       "  </tbody>\n",
       "</table>\n",
       "</div>"
      ],
      "text/plain": [
       "         Exercise 1 Exercise 2\n",
       "Part 1                        \n",
       "Part 2.1                      \n",
       "Part 2.2                      \n",
       "Part 2.3                      \n",
       "Part 2.4                      \n",
       "Part 2.5                      \n",
       "Part 2.6                      \n",
       "Part 3.1                      \n",
       "Part 3.2                      "
      ]
     },
     "execution_count": 1,
     "metadata": {},
     "output_type": "execute_result"
    }
   ],
   "source": [
    "import pandas as pd\n",
    "\n",
    "d = {'Exercise 1' : [\"\", \"\", \"\", \"\", \"\", \"\", \"\", \"\", \"\"], \n",
    "     'Exercise 2' : [\"\", \"\", \"\", \"\", \"\", \"\", \"\", \"\", \"\"],\n",
    "     } \n",
    "  \n",
    "ct = pd.DataFrame(d, index =['Part 1','Part 2.1','Part 2.2','Part 2.3','Part 2.4','Part 2.5','Part 2.6','Part 3.1','Part 3.2']) \n",
    "\n",
    "ct"
   ]
  },
  {
   "cell_type": "markdown",
   "metadata": {
    "id": "-4hk-43Io9sI"
   },
   "source": [
    "# Create Spark session and define imports"
   ]
  },
  {
   "cell_type": "code",
   "execution_count": null,
   "metadata": {
    "id": "2ftW7yaGo9sJ"
   },
   "outputs": [],
   "source": []
  },
  {
   "cell_type": "markdown",
   "metadata": {
    "id": "m2en_PI7rphC"
   },
   "source": [
    "# Exercise 1: Airbnb analysis (52.5 points)\n"
   ]
  },
  {
   "cell_type": "markdown",
   "metadata": {
    "id": "dPlNQTICo9sH"
   },
   "source": [
    "## Introduction\n",
    "\n",
    "<img src=\"https://www.esquireme.com/public/images/2019/11/03/airbnb-678x381.jpg\" alt=\"airbnb\" width=\"600\"/>\n",
    "\n",
    "[Airbnb](http://airbnb.com) is an online marketplace for arranging or offering lodgings. In this exercise you will use Spark to analyze data obtained from the Airbnb website. The purpose of the analysis is to extract information about trends and patterns from the data.\n",
    "\n",
    "The project has two parts.\n",
    "\n",
    "### Part 1: Loading, describing and preparing the data\n",
    "There's quite a lot of data. Make sure that you can load and correctly parse the data, and that you understand what the dataset contains. You should also prepare the data for the analysis in part two.\n",
    "\n",
    "### Par 2: Analysis\n",
    "In this part your goal is to learn about trends and usage patterns from the data. You should give solutions to the tasks defined in this notebook, and you should use Spark to do the data processing. You may use other libraries like for instance Pandas and matplotlib for visualisation.\n"
   ]
  },
  {
   "cell_type": "markdown",
   "metadata": {
    "id": "irkTU3UWo9sM"
   },
   "source": [
    "## Part 1: Loading, describing and preparing the data (2.5 pts)\n",
    "The data comes in two files. Start by downloading the files.\n",
    "\n",
    "- [Listings](https://files.dtu.dk/u/lT8jJJs_IyiHPyMs/listings.csv?l) (5 GB)\n",
    "- [Reviews](https://files.dtu.dk/u/yH8FBcZ_BQjafwUN/reviews.csv?l) (9.5 GB)"
   ]
  },
  {
   "cell_type": "markdown",
   "metadata": {
    "id": "mPtdLqvto9sN"
   },
   "source": [
    "### Load the data\n",
    "The data has multiline rows (rows that span multiple lines in the file). To correctly parse these you should use the `multiLine` option and set the `escape` character to be `\"`."
   ]
  },
  {
   "cell_type": "code",
   "execution_count": null,
   "metadata": {
    "id": "K5kDvbDoo9sN"
   },
   "outputs": [],
   "source": []
  },
  {
   "cell_type": "markdown",
   "metadata": {
    "id": "HV89khYqo9sQ"
   },
   "source": [
    "### Describe the data\n",
    "List the features (schema) and sizes of the datasets."
   ]
  },
  {
   "cell_type": "code",
   "execution_count": null,
   "metadata": {
    "id": "Bp1qkXQTo9sR"
   },
   "outputs": [],
   "source": []
  },
  {
   "cell_type": "markdown",
   "metadata": {
    "id": "JHJAEVBio9sT"
   },
   "source": [
    "### Prepare the data for analysis\n",
    "You should prepare two dataframes to be used in the analysis part of the project. You should not be concerned with cleaning the data. There's a lot of it, so it will be sufficient to drop rows that have bad values. You may want to go back and refine this step at a later point when doing the analysis.\n"
   ]
  },
  {
   "cell_type": "code",
   "execution_count": null,
   "metadata": {
    "id": "zIyGgzmDo9sU"
   },
   "outputs": [],
   "source": []
  },
  {
   "cell_type": "markdown",
   "metadata": {
    "id": "dgLkljMQo9sW"
   },
   "source": [
    "## Part 2: Analysing the data (50 pts)\n",
    "Use Spark and your favorite tool for data visualization to solve the following tasks. Imagine that you are talking to your colleagues or your new boss. Think about how you present the data. Include headers, legends and well-written descriptions for graphs/charts. Think of the solutions you provide as an \"executive summary\" of your findings. You should put an effort in presentation and writing, not just coding."
   ]
  },
  {
   "cell_type": "markdown",
   "metadata": {
    "id": "Tll0H4rzKm6x"
   },
   "source": [
    "\n",
    "### 2.1: The basics (10 pts)\n",
    "Compute and visualise a dataframe with the number of listings and neighbourhoods per city."
   ]
  },
  {
   "cell_type": "code",
   "execution_count": null,
   "metadata": {
    "id": "0tfdYTm8o9sX"
   },
   "outputs": [],
   "source": []
  },
  {
   "cell_type": "markdown",
   "metadata": {
    "id": "Dmjzrz28o9sa"
   },
   "source": [
    "Based on the table above, you should choose a city that you want to continue your analysis for. The city should have mulitple neighbourhoods with listings in them.\n",
    "\n",
    "Compute and visualize the number of listings of different property types per neighbourhood in your city."
   ]
  },
  {
   "cell_type": "code",
   "execution_count": null,
   "metadata": {
    "id": "jigDK1OFo9sa"
   },
   "outputs": [],
   "source": []
  },
  {
   "cell_type": "markdown",
   "metadata": {
    "id": "ZDItrynto9sd"
   },
   "source": [
    "### 2.2. Prices (10 pts)\n",
    "Compute the minimum, maximum and average listing price in your city."
   ]
  },
  {
   "cell_type": "code",
   "execution_count": null,
   "metadata": {
    "id": "1TOIFtzYo9sd"
   },
   "outputs": [],
   "source": []
  },
  {
   "cell_type": "markdown",
   "metadata": {
    "id": "fGnx3na2o9sg"
   },
   "source": [
    "Compute and visualise the distribution of listing prices in your city. Write a paragraph describing your findings."
   ]
  },
  {
   "cell_type": "code",
   "execution_count": null,
   "metadata": {
    "id": "Lxnbn6mJo9sg"
   },
   "outputs": [],
   "source": []
  },
  {
   "cell_type": "markdown",
   "metadata": {
    "id": "prCAgb0ko9sj"
   },
   "source": [
    "The value of a listing is its rating divided by its price. Compute and show a dataframe with the 3 highest valued listings in each neighbourhood."
   ]
  },
  {
   "cell_type": "code",
   "execution_count": null,
   "metadata": {
    "id": "TspJVUDpo9sj"
   },
   "outputs": [],
   "source": []
  },
  {
   "cell_type": "markdown",
   "metadata": {
    "id": "JVwa--Bto9sm"
   },
   "source": [
    "### 2.3. Trends (10 pts)\n",
    "Now we want to analyze the \"popularity\" of your city. The data does not contain the number of bookings per listing, but we have a large number of reviews, and we will assume that this is a good indicator of activity on listings."
   ]
  },
  {
   "cell_type": "markdown",
   "metadata": {
    "id": "Tb3TTbgGo9sm"
   },
   "source": [
    "Compute and visualize the popularity (i.e., number of reviews) of your city over time. Can you identify any trends? Write a paragraph describing your findings."
   ]
  },
  {
   "cell_type": "code",
   "execution_count": null,
   "metadata": {
    "id": "LigYImQGo9sn"
   },
   "outputs": [],
   "source": []
  },
  {
   "cell_type": "markdown",
   "metadata": {
    "id": "Mtc9gGhno9sp"
   },
   "source": [
    "Compute and visualize the popularity of neighbourhoods over time. If there are many neighbourhoods in your city, you should select a few interesting ones for comparison. Can you identify any trends or differences? Summarise your findings."
   ]
  },
  {
   "cell_type": "code",
   "execution_count": null,
   "metadata": {
    "id": "DRlIGWLxo9sp"
   },
   "outputs": [],
   "source": []
  },
  {
   "cell_type": "markdown",
   "metadata": {
    "id": "o5Pe43WLo9ss"
   },
   "source": [
    "Compute and visualize the popularity of your city by season. For example, visualize the popularity of your city per month. Are there seasonal trends? Describe your findings in words."
   ]
  },
  {
   "cell_type": "code",
   "execution_count": null,
   "metadata": {
    "id": "wR-flmvao9ss"
   },
   "outputs": [],
   "source": []
  },
  {
   "cell_type": "markdown",
   "metadata": {
    "id": "9bmR04EUo9sv"
   },
   "source": [
    "### 2.4. Reviews (20 pts)\n",
    "In this part you should determine which words used in reviews are the most positive. More specifically, you should assign a \"positivity score\" to each word seen in reviews and list the words with the highest score. \n",
    "\n",
    "The individual reviews do not have a rating of the listing, so we will assume that each review gave the average rating to the listing, i.e., the one on the listing.\n",
    "\n",
    "It is up to you to decide what the score should be. For example, it could be a function of the rating on the listing on which it occurs, the number of reviews it occurs in, and the number of unique listings for which it was used. \n",
    "\n",
    "Your positivity scores should be sensible. Words such as \"clean\", \"comfortable\", \"superhost\", etc., should get high scores, while words such as \"unpleasant\", \"dirty\", \"scam\" should get low scores.\n",
    "\n",
    "Depending on your choice of scoring function, you may also want to do some filtering of words. For example, remove words that only occur in a few reviews. \n",
    "\n",
    "You have to: \n",
    "\n",
    "* Define your scoring function, mathematically and in code, and describe it in words.\n",
    "* Compute scores for all words.\n",
    "* List the 10 words with highest and lowest score."
   ]
  },
  {
   "cell_type": "code",
   "execution_count": null,
   "metadata": {
    "id": "HeYotnklo9sv"
   },
   "outputs": [],
   "source": []
  },
  {
   "cell_type": "markdown",
   "metadata": {
    "id": "fcvYlp_GLr4N"
   },
   "source": [
    "# Exercise 2: sales & profit analysis (52.5 points)\n"
   ]
  },
  {
   "cell_type": "markdown",
   "metadata": {
    "id": "tq-TDuNeL5dA"
   },
   "source": [
    "## Introduction"
   ]
  },
  {
   "cell_type": "markdown",
   "metadata": {
    "id": "wwLFS0wQ2C4b"
   },
   "source": [
    "\n",
    "<img src=\"https://www.lifeandstylemag.com/wp-content/uploads/2018/01/kevin-malone-the-office.jpg?resize=630%2C354\" alt=\"kevin\" width=\"600\"/> \n",
    "\n",
    "*Kevin from accounting*\n",
    "\n",
    "\n",
    "\n",
    "Your team has been hired by the company X as data scientists. X makes gadgets for a wide range of industrial and commercial clients.\n",
    "\n",
    "As in-house data scientists, your teams first task, as per request from your new boss, is to optimize business operations. You have decided that a good first step would be to analyze the company's historical sales data to gain a better understanding of where profit is coming from. It may also reveal some low hanging fruit in terms of business opportunities.\n",
    "\n",
    "To get started, you have called the IT department to get access to the customer and sales transactions database. To your horror you've been told that such a database doesn't exist, and the only record of sales transactions is kept by Kevin from accounting in an Excel spreadsheet. So you've emailed Kevin asking for a CSV dump of the spreadsheet...\n",
    "\n",
    "In this project you need to clean the data you got from Kevin, enrich it with further data, prepare a database for the data, and do some data analysis. The project is comprised of five parts. They are intended to be solved in the order they appear, but it is highly recommended that you read through all of them and devise an overall strategy before you start implementing anything.\n"
   ]
  },
  {
   "cell_type": "markdown",
   "metadata": {
    "id": "gca5E_B22C4c"
   },
   "source": [
    "## Part 1: Cleaning the data (10 pts)\n",
    "Kevin has emailed you the following link to the CSV dump you requested.\n",
    "\n",
    "- [transactions.csv](http://courses.compute.dtu.dk/02807/2020/projects/project2/transactions.csv)\n",
    "\n",
    "It seems as though he has been a bit sloppy when keeping the records. \n",
    "\n",
    "In this part you should:\n",
    "1. Explain what the data is about\n",
    "2. Inspect and clean it to prepare it for analysis. Describe the problems you found in the data, and how you addressed them."
   ]
  },
  {
   "cell_type": "code",
   "execution_count": null,
   "metadata": {
    "id": "rRZJsbiJNx7Q"
   },
   "outputs": [],
   "source": []
  },
  {
   "cell_type": "markdown",
   "metadata": {
    "id": "A1V3Yy5C2C5h"
   },
   "source": [
    "## Part 2: Analyzing the data (32.5 pts)\n",
    "You are now ready to analyze the data. Your goal is to gain some actionable business insights to present to your boss. \n",
    "\n",
    "In this part, you should ask some questions and try to answer them based on the data. You should write SQL queries to retrieve the data for at least 3 out of the 6 parts below (2.1,..., 2.6). The remaining ones must be done with Spark functions). \n",
    "\n",
    "As you start to look into the questions, you'll realise that you need to enrich your data. For example: transaction prices are recorded in the local currency of the client (EUR, GBP, USD or JPY). You will need to convert these prices from local currency into a common currency such as EUR, for comparability. Describe the enrichments, as you perform them.\n",
    "\n",
    "Remember, you are taking this to your new boss, so think about how you present the data. Include headers, legends and well-written descriptions for graphs/charts. Think of the solutions you provide as an \"executive summary\" of your findings. You should put an effort in presentation and writing, not just coding.\n",
    "\n",
    "\n"
   ]
  },
  {
   "cell_type": "markdown",
   "metadata": {
    "id": "yQqaImmrN9YE"
   },
   "source": [
    "### Who are the most profitable clients? (20 pts)\n",
    "\n",
    "Knowing which clients that generate the most revenue for the company will assist your boss in distributing customer service ressources. Answer the following questions and provide appropriate visualisations for each of them. As mentioned before, include headers, legends and well-written descriptions for graphs/charts.\n"
   ]
  },
  {
   "cell_type": "markdown",
   "metadata": {
    "id": "8iEk4GDMOEXY"
   },
   "source": [
    "#### 2.1. How much revenue has each customer generated? (2.5 pts)\n",
    "\n",
    "Compute and plot how much revenue each customer has generated over the three-year period. Write a paragraph describing the findings.\n"
   ]
  },
  {
   "cell_type": "code",
   "execution_count": null,
   "metadata": {
    "id": "kLOqZjofPC7E"
   },
   "outputs": [],
   "source": []
  },
  {
   "cell_type": "markdown",
   "metadata": {
    "id": "jB49LPZzOfj3"
   },
   "source": [
    "\n",
    "#### 2.2. What are the top 5 most revenue-generating customers? (7.5 pts)\n",
    "\n",
    "Identify your best 5 customers. \n"
   ]
  },
  {
   "cell_type": "code",
   "execution_count": null,
   "metadata": {
    "id": "gT0OcuVRPCag"
   },
   "outputs": [],
   "source": []
  },
  {
   "cell_type": "markdown",
   "metadata": {
    "id": "IOwy0gfWPSKJ"
   },
   "source": [
    "Are the most revenue-generating customers making particularly large purchase orders? \n",
    "\n",
    "Compute the answer, plot appropriately, and write a paragraph describing the findings."
   ]
  },
  {
   "cell_type": "code",
   "execution_count": null,
   "metadata": {
    "id": "6XmIK4asPRsA"
   },
   "outputs": [],
   "source": []
  },
  {
   "cell_type": "markdown",
   "metadata": {
    "id": "j8W-C0xMPT3s"
   },
   "source": [
    "Are they making a lot of purchases? \n",
    "\n",
    "Compute the answer, plot appropriately, and write a paragraph describing the findings.\n"
   ]
  },
  {
   "cell_type": "code",
   "execution_count": null,
   "metadata": {
    "id": "LaOsz-LqPWzF"
   },
   "outputs": [],
   "source": []
  },
  {
   "cell_type": "markdown",
   "metadata": {
    "id": "C8kIdjQbOiTe"
   },
   "source": [
    "#### 2.3. Which parts have become more popular lately, also which are becoming less popular? (5 pts)\n",
    "\n",
    "Improving stock turnover is important to a company. Large quantites of a product that don't sell will bring no revenue to the company as well as storage costs. Too few parts of a popular item may lead to possibly lost sales as they risk being sold out.\n",
    "\n",
    "Compute the answer, plot appropriately, and write a paragraph describing the findings."
   ]
  },
  {
   "cell_type": "code",
   "execution_count": null,
   "metadata": {
    "id": "K35l8ZBvPB54"
   },
   "outputs": [],
   "source": []
  },
  {
   "cell_type": "markdown",
   "metadata": {
    "id": "lapWpWIaOl2L"
   },
   "source": [
    "#### 2.4. What is the average price paid for a part and the price history for parts? (5 pts)\n",
    "\n",
    "Identify product trends. If a product is very expensive and purchase orders are going down, it might be worth considering the price of the item, as well as its relevance in the market. If a product has suddenly become very popular, it could be interesting to increase the price and see if costumers will continue to buy it, as this could increase profit for the company.\n",
    "\n",
    "Compute the answer, plot appropriately, and write a paragraph describing the findings."
   ]
  },
  {
   "cell_type": "code",
   "execution_count": null,
   "metadata": {
    "id": "IVDsRjedPBeW"
   },
   "outputs": [],
   "source": []
  },
  {
   "cell_type": "markdown",
   "metadata": {
    "id": "e5TbMoeROxym"
   },
   "source": [
    "### Are there any clients for which profit is declining? (12.5 pts)\n",
    "\n",
    "Declining profit from a specific client may indicate that the client is dissatisfied with the product. Gaining a new client is often much more work than retaining one. Early warnings about declining profit may help your boss fighting customer churn. Answer the following questions and provide appropriate visualisations for each of them. As mentioned before, include headers, legends and well-written descriptions for graphs/charts.\n"
   ]
  },
  {
   "cell_type": "markdown",
   "metadata": {
    "id": "MsDYc835O2lz"
   },
   "source": [
    "#### 2.5. Compute and visualise the trend in total purchases for all customers, per yearly quarter. (5 pts)\n"
   ]
  },
  {
   "cell_type": "markdown",
   "metadata": {
    "id": "_jkmB3WIkc2p"
   },
   "source": [
    "You should also add a paragraph describing your findings."
   ]
  },
  {
   "cell_type": "code",
   "execution_count": null,
   "metadata": {
    "id": "2PY6OiqlO_c3"
   },
   "outputs": [],
   "source": []
  },
  {
   "cell_type": "markdown",
   "metadata": {
    "id": "Iqt7w6L7O69l"
   },
   "source": [
    "#### 2.6 Find profit-per-customer trends. (7.5 pts)\n",
    "\n",
    "Find the customers for which profit declined in 2018, relative to 2016. By how much has profit declined? What are the three customers for which profit is declining the most?\n",
    "\n",
    "Compute the answer, plot appropriately, and write a paragraph describing the findings.\n"
   ]
  },
  {
   "cell_type": "code",
   "execution_count": null,
   "metadata": {
    "id": "KClkLOwZO_6o"
   },
   "outputs": [],
   "source": []
  },
  {
   "cell_type": "markdown",
   "metadata": {
    "id": "jiAsuVan3VIx"
   },
   "source": [
    "## Part 3: Your own insights (10 pts)\n",
    "\n",
    "Time to explore the data freely to create two valuable, actionable insights. This is your chance to show your ability to do fully self-directed data analysis. \n",
    "\n",
    "Your insights should be non-trivial. A trivial finding would be, e.g., \"the number of currencies in which we record transations is $n$\". That's not a particularly groundbreaking insight. Dig a bit deeper!"
   ]
  },
  {
   "cell_type": "markdown",
   "metadata": {
    "id": "e6Qugm1KO9Ws"
   },
   "source": [
    "#### 3.1. Add your own query #1 (5 pts)\n",
    "\n",
    "Impress your boss providing a valuable data-driven insight. Why is this relevant? Describe the query in words and provide appropriate visualisations. Write a paragraph describing your findings."
   ]
  },
  {
   "cell_type": "code",
   "execution_count": null,
   "metadata": {
    "id": "3L1nigLW3Ult"
   },
   "outputs": [],
   "source": []
  },
  {
   "cell_type": "markdown",
   "metadata": {
    "id": "nPoM8mtz3kmt"
   },
   "source": [
    "#### 3.2. Add your own query #2 (5 pts)\n",
    "\n",
    "Impress your boss providing a valuable data-driven insight. Why is this relevant? Describe the query in words and provide appropriate visualisations. Write a paragraph describing your findings."
   ]
  },
  {
   "cell_type": "code",
   "execution_count": null,
   "metadata": {
    "id": "gwDFiCH741FL"
   },
   "outputs": [],
   "source": []
  }
 ],
 "metadata": {
  "colab": {
   "collapsed_sections": [],
   "name": "02807: Project 2.ipynb",
   "provenance": [],
   "toc_visible": true
  },
  "kernelspec": {
   "display_name": "Python 3",
   "language": "python",
   "name": "python3"
  },
  "language_info": {
   "codemirror_mode": {
    "name": "ipython",
    "version": 3
   },
   "file_extension": ".py",
   "mimetype": "text/x-python",
   "name": "python",
   "nbconvert_exporter": "python",
   "pygments_lexer": "ipython3",
   "version": "3.8.3"
  }
 },
 "nbformat": 4,
 "nbformat_minor": 1
}
