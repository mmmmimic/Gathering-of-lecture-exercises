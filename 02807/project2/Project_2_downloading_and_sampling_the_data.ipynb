{
  "nbformat": 4,
  "nbformat_minor": 0,
  "metadata": {
    "colab": {
      "name": "Project 2: downloading and sampling the data.ipynb",
      "provenance": [],
      "collapsed_sections": []
    },
    "kernelspec": {
      "display_name": "Python 3",
      "language": "python",
      "name": "python3"
    },
    "language_info": {
      "codemirror_mode": {
        "name": "ipython",
        "version": 3
      },
      "file_extension": ".py",
      "mimetype": "text/x-python",
      "name": "python",
      "nbconvert_exporter": "python",
      "pygments_lexer": "ipython3",
      "version": "3.6.6"
    }
  },
  "cells": [
    {
      "cell_type": "markdown",
      "metadata": {
        "id": "PlsPJUw7wCWZ"
      },
      "source": [
        "# 02807: Project 2. Downloading and sampling the data\n",
        " "
      ]
    },
    {
      "cell_type": "markdown",
      "metadata": {
        "id": "irkTU3UWo9sM"
      },
      "source": [
        "# Zipped files\n",
        "The following are direct download links to zipped versions of large datasets.\n",
        "\n",
        "- [listings.zip](https://files.dtu.dk/fss/public/link/public/stream/read/listings.zip?linkToken=02-co91vnKzBb5yr&itemName=listings.zip) (1.2 GB)\n",
        "- [reviews.zip](https://files.dtu.dk/fss/public/link/public/stream/read/reviews.zip?linkToken=0DNVjN4zVY3CM1WE&itemName=reviews.zip) (3.7 GB)"
      ]
    },
    {
      "cell_type": "markdown",
      "metadata": {
        "id": "7xjIT4pBqd1E"
      },
      "source": [
        "# Downloading the files"
      ]
    },
    {
      "cell_type": "markdown",
      "metadata": {
        "id": "pEEoclP_q2TF"
      },
      "source": [
        "The following commands will download the zipped file to the `/contents/` folder."
      ]
    },
    {
      "cell_type": "code",
      "metadata": {
        "id": "Ao_yIeTSNnCZ",
        "colab": {
          "base_uri": "https://localhost:8080/"
        },
        "outputId": "5fe0aa20-c3f6-409a-e796-17354bf594a6"
      },
      "source": [
        "!wget -O listings.zip \"https://files.dtu.dk/fss/public/link/public/stream/read/listings.zip?linkToken=4Ba7a-4Wu2vyFrtj&itemName=listings.zip\""
      ],
      "execution_count": null,
      "outputs": [
        {
          "output_type": "stream",
          "text": [
            "--2020-11-11 17:46:43--  https://files.dtu.dk/fss/public/link/public/stream/read/listings.zip?linkToken=4Ba7a-4Wu2vyFrtj&itemName=listings.zip\n",
            "Resolving files.dtu.dk (files.dtu.dk)... 192.38.84.17\n",
            "Connecting to files.dtu.dk (files.dtu.dk)|192.38.84.17|:443... connected.\n",
            "HTTP request sent, awaiting response... 200 OK\n",
            "Length: unspecified [application/octet-stream]\n",
            "Saving to: ‘listings.zip’\n",
            "\n",
            "listings.zip            [                <=> ]   1.16G  2.50MB/s    in 8m 48s  \n",
            "\n",
            "2020-11-11 17:55:31 (2.26 MB/s) - ‘listings.zip’ saved [1248342905]\n",
            "\n"
          ],
          "name": "stdout"
        }
      ]
    },
    {
      "cell_type": "code",
      "metadata": {
        "id": "LhbMseFuqpEm",
        "colab": {
          "base_uri": "https://localhost:8080/"
        },
        "outputId": "2f5d8172-cd1e-4148-d0d7-e57547316057"
      },
      "source": [
        "!wget -O reviews.zip \"https://files.dtu.dk/fss/public/link/public/stream/read/reviews.zip?linkToken=0DNVjN4zVY3CM1WE&itemName=reviews.zip\""
      ],
      "execution_count": null,
      "outputs": [
        {
          "output_type": "stream",
          "text": [
            "--2020-11-11 18:56:48--  https://files.dtu.dk/fss/public/link/public/stream/read/reviews.zip?linkToken=0DNVjN4zVY3CM1WE&itemName=reviews.zip\n",
            "Resolving files.dtu.dk (files.dtu.dk)... 192.38.84.17\n",
            "Connecting to files.dtu.dk (files.dtu.dk)|192.38.84.17|:443... connected.\n",
            "HTTP request sent, awaiting response... 200 OK\n",
            "Length: unspecified [application/octet-stream]\n",
            "Saving to: ‘reviews.zip’\n",
            "\n",
            "reviews.zip             [            <=>     ]   3.68G  2.53MB/s    in 25m 9s  \n",
            "\n",
            "2020-11-11 19:21:57 (2.50 MB/s) - ‘reviews.zip’ saved [3954950472]\n",
            "\n"
          ],
          "name": "stdout"
        }
      ]
    },
    {
      "cell_type": "markdown",
      "metadata": {
        "id": "c3S1oURJq1QK"
      },
      "source": [
        "# Unzipping the files"
      ]
    },
    {
      "cell_type": "code",
      "metadata": {
        "id": "a3n9EI0BEGvZ",
        "colab": {
          "base_uri": "https://localhost:8080/"
        },
        "outputId": "a6ebede3-6dcb-4a61-ff93-cae16f3c6ddd"
      },
      "source": [
        "!unzip /content/listings.zip"
      ],
      "execution_count": null,
      "outputs": [
        {
          "output_type": "stream",
          "text": [
            "Archive:  /content/listings.zip\n",
            "replace listings.csv? [y]es, [n]o, [A]ll, [N]one, [r]ename: yes\n",
            "  inflating: listings.csv            \n",
            "  inflating: __MACOSX/._listings.csv  \n"
          ],
          "name": "stdout"
        }
      ]
    },
    {
      "cell_type": "code",
      "metadata": {
        "id": "b2NPyLY_rKkB",
        "colab": {
          "base_uri": "https://localhost:8080/"
        },
        "outputId": "2c7e515d-a4b0-4ad6-d9c0-5859d58ee3f1"
      },
      "source": [
        "!unzip /content/reviews.zip"
      ],
      "execution_count": null,
      "outputs": [
        {
          "output_type": "stream",
          "text": [
            "Archive:  /content/reviews.zip\n",
            "  inflating: reviews.csv             \n",
            "  inflating: __MACOSX/._reviews.csv  \n"
          ],
          "name": "stdout"
        }
      ]
    },
    {
      "cell_type": "markdown",
      "metadata": {
        "id": "WOD95I92rNTX"
      },
      "source": [
        "# Creating the dataframes"
      ]
    },
    {
      "cell_type": "code",
      "metadata": {
        "id": "-hHw3zqV7pFS",
        "colab": {
          "base_uri": "https://localhost:8080/"
        },
        "outputId": "17e591ff-498a-4d88-f912-77e3d55fb7a5"
      },
      "source": [
        "!pip install pyspark\n",
        "!pip install -U -q PyDrive\n",
        "!apt install openjdk-8-jdk-headless -qq\n",
        "import os\n",
        "os.environ[\"JAVA_HOME\"] = \"/usr/lib/jvm/java-8-openjdk-amd64\""
      ],
      "execution_count": null,
      "outputs": [
        {
          "output_type": "stream",
          "text": [
            "Requirement already satisfied: pyspark in /usr/local/lib/python3.6/dist-packages (3.0.1)\n",
            "Requirement already satisfied: py4j==0.10.9 in /usr/local/lib/python3.6/dist-packages (from pyspark) (0.10.9)\n",
            "openjdk-8-jdk-headless is already the newest version (8u272-b10-0ubuntu1~18.04).\n",
            "0 upgraded, 0 newly installed, 0 to remove and 12 not upgraded.\n"
          ],
          "name": "stdout"
        }
      ]
    },
    {
      "cell_type": "code",
      "metadata": {
        "id": "djwDrKxn-o_Z"
      },
      "source": [
        "# Let's import the libraries we will need\n",
        "import pyspark\n",
        "from pyspark.sql import *\n",
        "from pyspark.sql import functions as f\n",
        "from pyspark.sql.types import *\n",
        "from pyspark import SparkContext, SparkConf"
      ],
      "execution_count": null,
      "outputs": []
    },
    {
      "cell_type": "code",
      "metadata": {
        "id": "DQmmzQah-q_Q"
      },
      "source": [
        "# create the Spark session\n",
        "spark = SparkSession.builder.getOrCreate()"
      ],
      "execution_count": null,
      "outputs": []
    },
    {
      "cell_type": "code",
      "metadata": {
        "id": "uQyPxWbi-6BR",
        "colab": {
          "base_uri": "https://localhost:8080/",
          "height": 216
        },
        "outputId": "c525a95d-498e-47f0-f8fe-9609533d2731"
      },
      "source": [
        "spark"
      ],
      "execution_count": null,
      "outputs": [
        {
          "output_type": "execute_result",
          "data": {
            "text/html": [
              "\n",
              "            <div>\n",
              "                <p><b>SparkSession - in-memory</b></p>\n",
              "                \n",
              "        <div>\n",
              "            <p><b>SparkContext</b></p>\n",
              "\n",
              "            <p><a href=\"http://cdcbd04cc0e0:4040\">Spark UI</a></p>\n",
              "\n",
              "            <dl>\n",
              "              <dt>Version</dt>\n",
              "                <dd><code>v3.0.1</code></dd>\n",
              "              <dt>Master</dt>\n",
              "                <dd><code>local[*]</code></dd>\n",
              "              <dt>AppName</dt>\n",
              "                <dd><code>pyspark-shell</code></dd>\n",
              "            </dl>\n",
              "        </div>\n",
              "        \n",
              "            </div>\n",
              "        "
            ],
            "text/plain": [
              "<pyspark.sql.session.SparkSession at 0x7fe1d3a4d9e8>"
            ]
          },
          "metadata": {
            "tags": []
          },
          "execution_count": 10
        }
      ]
    },
    {
      "cell_type": "code",
      "metadata": {
        "id": "RktnXBrKni-z"
      },
      "source": [
        "listings_raw = (spark.read.option('header', True)\n",
        "                         .option('inferSchema', True)\n",
        "                         .option('multiLine', True)\n",
        "                         .option('escape', '\"').csv('/content/listings.csv'))"
      ],
      "execution_count": null,
      "outputs": []
    },
    {
      "cell_type": "code",
      "metadata": {
        "id": "9B2SKPPQoNW7",
        "colab": {
          "base_uri": "https://localhost:8080/"
        },
        "outputId": "9b4d42f9-3c22-4422-aedf-3e0ad61a10ba"
      },
      "source": [
        "listings_raw.show()"
      ],
      "execution_count": null,
      "outputs": [
        {
          "output_type": "stream",
          "text": [
            "+------+--------------------+--------------+------------+--------------------+--------------------+--------------------+--------------------+-------------------+---------------------+--------------------+--------------------+--------------------+--------------------+--------------------+-------------+----------+--------------------+--------------+-------+--------------------+---------+----------+--------------------+--------------------+------------------+------------------+--------------------+-----------------+--------------------+--------------------+------------------+-------------------+-------------------------+--------------------+--------------------+----------------------+--------------------+-------------+----------------------+----------------------------+---------+----------------+-------+---------+-----------------+------------+-------+--------+---------+-----------------+-----------------+---------------+------------+---------+--------+----+--------+--------------------+-----------+---------+------------+-------------+----------------+------------+---------------+------------+--------------+--------------+----------------------+----------------------+----------------------+----------------------+----------------------+----------------------+----------------+----------------+---------------+---------------+---------------+----------------+---------------------+-----------------+---------------------+------------+-----------+--------------------+----------------------+-------------------------+---------------------+---------------------------+----------------------+-------------------+----------------+-------+------------------+----------------+------------------------+--------------------+-----------------------------+--------------------------------+------------------------------+-------------------------------------------+--------------------------------------------+-------------------------------------------+-----------------+\n",
            "|    id|         listing_url|     scrape_id|last_scraped|                name|             summary|               space|         description|experiences_offered|neighborhood_overview|               notes|             transit|              access|         interaction|         house_rules|thumbnail_url|medium_url|         picture_url|xl_picture_url|host_id|            host_url|host_name|host_since|       host_location|          host_about|host_response_time|host_response_rate|host_acceptance_rate|host_is_superhost|  host_thumbnail_url|    host_picture_url|host_neighbourhood|host_listings_count|host_total_listings_count|  host_verifications|host_has_profile_pic|host_identity_verified|              street|neighbourhood|neighbourhood_cleansed|neighbourhood_group_cleansed|     city|           state|zipcode|   market|   smart_location|country_code|country|latitude|longitude|is_location_exact|    property_type|      room_type|accommodates|bathrooms|bedrooms|beds|bed_type|           amenities|square_feet|    price|weekly_price|monthly_price|security_deposit|cleaning_fee|guests_included|extra_people|minimum_nights|maximum_nights|minimum_minimum_nights|maximum_minimum_nights|minimum_maximum_nights|maximum_maximum_nights|minimum_nights_avg_ntm|maximum_nights_avg_ntm|calendar_updated|has_availability|availability_30|availability_60|availability_90|availability_365|calendar_last_scraped|number_of_reviews|number_of_reviews_ltm|first_review|last_review|review_scores_rating|review_scores_accuracy|review_scores_cleanliness|review_scores_checkin|review_scores_communication|review_scores_location|review_scores_value|requires_license|license|jurisdiction_names|instant_bookable|is_business_travel_ready| cancellation_policy|require_guest_profile_picture|require_guest_phone_verification|calculated_host_listings_count|calculated_host_listings_count_entire_homes|calculated_host_listings_count_private_rooms|calculated_host_listings_count_shared_rooms|reviews_per_month|\n",
            "+------+--------------------+--------------+------------+--------------------+--------------------+--------------------+--------------------+-------------------+---------------------+--------------------+--------------------+--------------------+--------------------+--------------------+-------------+----------+--------------------+--------------+-------+--------------------+---------+----------+--------------------+--------------------+------------------+------------------+--------------------+-----------------+--------------------+--------------------+------------------+-------------------+-------------------------+--------------------+--------------------+----------------------+--------------------+-------------+----------------------+----------------------------+---------+----------------+-------+---------+-----------------+------------+-------+--------+---------+-----------------+-----------------+---------------+------------+---------+--------+----+--------+--------------------+-----------+---------+------------+-------------+----------------+------------+---------------+------------+--------------+--------------+----------------------+----------------------+----------------------+----------------------+----------------------+----------------------+----------------+----------------+---------------+---------------+---------------+----------------+---------------------+-----------------+---------------------+------------+-----------+--------------------+----------------------+-------------------------+---------------------+---------------------------+----------------------+-------------------+----------------+-------+------------------+----------------+------------------------+--------------------+-----------------------------+--------------------------------+------------------------------+-------------------------------------------+--------------------------------------------+-------------------------------------------+-----------------+\n",
            "|145320|https://www.airbn...|20190928160308|  2019-09-28|In the middle of ...|Mitt boende passa...|A cozy three room...|Mitt boende passa...|               none| The flat is in th...|                null|My flat is close ...|You can stay in e...|Just ask me every...|No smoking inside...|         null|      null|https://a0.muscac...|          null| 703851|https://www.airbn...|      Kim|2011-06-15|Stockholm, Stockh...|Hi, I'm Kim, a de...|               N/A|               N/A|                 N/A|                t|https://a0.muscac...|https://a0.muscac...|              null|                  1|                        1|['email', 'phone'...|                   t|                     t|Stockholm, Stockh...|    Södermalm|            Södermalms|                        null|Stockholm|  Stockholms län| 118 53|Stockholm|Stockholm, Sweden|          SE| Sweden|59.31364| 18.05256|                f|        Apartment|   Private room|           2|      1.0|       1|   2|Real Bed|{TV,\"Cable TV\",Wi...|       null|$1,272.00|        null|         null|            null|     $417.00|              2|       $0.00|             2|          1125|                     2|                     2|                  1125|                  1125|                   2.0|                1125.0|    3 months ago|               t|              0|              0|             26|              26|           2019-09-28|               72|                   27|  2017-05-30| 2019-06-25|                  97|                    10|                       10|                   10|                         10|                    10|                 10|               f|   null|              null|               t|                       f|strict_14_with_gr...|                            f|                               f|                             1|                                          0|                                           1|                                          0|             2.54|\n",
            "|155220|https://www.airbn...|20190928160308|  2019-09-28|Stockholm, new sp...|Convenient and sp...|ABOUT THE HOUSE: ...|ABOUT THE HOUSE: ...|               none| Close to nature a...|Bikes to borrow a...|Yes regular busse...|Everything in the...|I will make you f...|          No smoking|         null|      null|https://a0.muscac...|          null| 746396|https://www.airbn...|Madeleine|2011-06-26|Stockholm, Stockh...|I work with human...|within a few hours|               63%|                 N/A|                f|https://a0.muscac...|https://a0.muscac...|              null|                  2|                        2|['email', 'phone'...|                   t|                     f|Stockholm, Stockh...|    Skarpnäck|            Skarpnäcks|                        null|Stockholm|Stockholm County|   null|Stockholm|Stockholm, Sweden|          SE| Sweden|59.24667| 18.17799|                f|            House|Entire home/apt|           3|      1.0|       2|   3|Real Bed|{TV,\"Cable TV\",In...|          0|$1,203.00|   $4,000.00|   $15,000.00|       $3,000.00|   $1,000.00|              3|     $500.00|             3|           730|                     3|                     3|                   730|                   730|                   3.0|                 730.0|    8 months ago|               t|              0|              0|              0|               0|           2019-09-28|                0|                    0|        null|       null|                null|                  null|                     null|                 null|                       null|                  null|               null|               f|   null|              null|               f|                       f|            moderate|                            f|                               f|                             2|                                          2|                                           0|                                          0|             null|\n",
            "|155685|https://www.airbn...|20190928160308|  2019-09-28|Hornstull with wa...|This apartment is...|46 sqm apartment ...|This apartment is...|               none| There is a funky ...|                null|Very close to pub...|Everything in the...|I meet in most ar...|•  The person tha...|         null|      null|https://a0.muscac...|          null| 748592|https://www.airbn...|   Robert|2011-06-27|Stockholm, Stockh...|Robert work with ...|               N/A|               N/A|                 N/A|                f|https://a0.muscac...|https://a0.muscac...|              null|                  1|                        1|['email', 'phone'...|                   t|                     f|Stockholm, Stockh...|    Södermalm|            Södermalms|                        null|Stockholm|Stockholm County|  11739|Stockholm|Stockholm, Sweden|          SE| Sweden|59.31535| 18.03277|                t|        Apartment|Entire home/apt|           2|      1.0|       2|   2|Real Bed|{TV,Wifi,Kitchen,...|       null|$3,209.00|        null|   $17,111.00|            null|        null|              1|       $0.00|             4|           365|                     4|                     4|                   365|                   365|                   4.0|                 365.0|    4 months ago|               t|              0|              0|              0|               0|           2019-09-28|               22|                    0|  2011-08-23| 2015-12-01|                  94|                     9|                       10|                   10|                         10|                     9|                  9|               f|   null|              null|               f|                       f|            moderate|                            f|                               f|                             1|                                          1|                                           0|                                          0|             0.22|\n",
            "|164448|https://www.airbn...|20190928160308|  2019-09-28|Double room in ce...|I am renting out ...|ROOM: The room ha...|I am renting out ...|               none|                 null|                null|                null|                null|                null|All the other fac...|         null|      null|https://a0.muscac...|          null| 784312|https://www.airbn...|       Li|2011-07-06|Stockholm, Stockh...|I am a recently r...|    within an hour|              100%|                 N/A|                t|https://a0.muscac...|https://a0.muscac...|         Södermalm|                  2|                        2|['email', 'phone'...|                   t|                     t|Stockholm, Stockh...|    Södermalm|            Södermalms|                        null|Stockholm|Stockholm County|  11864|Stockholm|Stockholm, Sweden|          SE| Sweden|59.31268| 18.06258|                t|        Apartment|   Private room|           2|      1.0|       1|   2|Real Bed|{TV,Internet,Wifi...|       null|  $597.00|   $4,000.00|   $12,000.00|            null|        null|              1|       $0.00|             3|           300|                     3|                     3|                   300|                   300|                   3.0|                 300.0|     2 weeks ago|               t|             15|             37|             59|             140|           2019-09-28|              311|                   55|  2011-07-30| 2019-09-26|                  97|                    10|                       10|                   10|                         10|                    10|                 10|               f|   null|              null|               t|                       f|            flexible|                            t|                               t|                             2|                                          0|                                           2|                                          0|             3.13|\n",
            "|170651|https://www.airbn...|20190928160308|  2019-09-28|Petit Charm Rooft...|                null|Welcome to this b...|Welcome to this b...|               none|                 null|                null|                null|                null|                null|I like to have th...|         null|      null|https://a0.muscac...|          null| 814021|https://www.airbn...|    Marie|2011-07-13|Stockholm, Stockh...|Im a happy person...|within a few hours|              100%|                 N/A|                f|https://a0.muscac...|https://a0.muscac...|         Södermalm|                  1|                        1|['email', 'phone'...|                   t|                     f|Stockholm, Stockh...|    Södermalm|            Södermalms|                        null|Stockholm|Stockholm County|  11737|Stockholm|Stockholm, Sweden|          SE| Sweden|59.31568| 18.03138|                t|        Apartment|Entire home/apt|           4|      1.0|       1|   2|Real Bed|{Internet,Wifi,Ki...|       null|  $734.00|        null|   $18,181.00|       $2,139.00|     $321.00|              2|     $321.00|             3|            30|                     3|                     3|                    30|                    30|                   3.0|                  30.0|     6 weeks ago|               t|             13|             38|             58|             216|           2019-09-28|               33|                    7|  2011-08-14| 2019-09-01|                  93|                    10|                        9|                   10|                         10|                    10|                  9|               f|   null|              null|               f|                       f|strict_14_with_gr...|                            f|                               f|                             1|                                          1|                                           0|                                          0|             0.33|\n",
            "|206221|https://www.airbn...|20190928160308|  2019-09-28|Doubleroom at Söd...|                null|The region is sit...|The region is sit...|               none|                 null|                null|                null|                null|                null|                null|         null|      null|https://a0.muscac...|          null|1022374|https://www.airbn...|Elisabeth|2011-08-26|              Sweden|I'm a positive pe...|      within a day|               50%|                 N/A|                f|https://a0.muscac...|https://a0.muscac...|              null|                  1|                        1|['email', 'phone'...|                   t|                     f|Stockholm, Stockh...|    Södermalm|            Södermalms|                        null|Stockholm|Stockholm County|  11639|Stockholm|Stockholm, Sweden|          SE| Sweden|59.31226| 18.07942|                t|Bed and breakfast|    Shared room|           2|      1.0|       1|   2|Real Bed|{Wifi,Breakfast,E...|         96|  $665.00|        null|         null|            null|        null|              2|     $200.00|             3|            14|                     3|                     3|                    14|                    14|                   3.0|                  14.0|     2 weeks ago|               t|              2|             25|             55|             330|           2019-09-28|               78|                   12|  2011-11-30| 2019-08-13|                  98|                    10|                       10|                   10|                         10|                    10|                 10|               f|   null|              null|               f|                       f|            flexible|                            f|                               f|                             1|                                          0|                                           0|                                          1|             0.82|\n",
            "|220233|https://www.airbn...|20190928160308|  2019-09-28|Central apartment...|My apartment is l...|38 sqm apartment ...|My apartment is l...|               none| The apartment is ...|The apartment win...|Subway station (t...|As a guest you wi...|I'm happy to prov...|I trust my guests...|         null|      null|https://a0.muscac...|          null|1137208|https://www.airbn...|  Martina|2011-09-10|Stockholm, Stockh...|Want to enjoy the...|               N/A|               N/A|                 N/A|                f|https://a0.muscac...|https://a0.muscac...|          Norrmalm|                  1|                        1|['email', 'phone'...|                   t|                     f|Stockholm, Stockh...|     Norrmalm|             Norrmalms|                        null|Stockholm|  Stockholms län|  11320|Stockholm|Stockholm, Sweden|          SE| Sweden|59.33948| 18.03551|                t|        Apartment|Entire home/apt|           2|      1.0|       1|   2|Real Bed|{TV,Internet,Wifi...|       null|  $890.00|        null|   $10,500.00|            null|        null|              1|       $0.00|             3|           365|                     3|                     3|                   365|                   365|                   3.0|                 365.0|   33 months ago|               t|              0|              0|              0|               0|           2019-09-28|                0|                    0|        null|       null|                null|                  null|                     null|                 null|                       null|                  null|               null|               f|   null|              null|               f|                       f|            moderate|                            f|                               f|                             1|                                          1|                                           0|                                          0|             null|\n",
            "|220851|https://www.airbn...|20190928160308|  2019-09-28|One room in appar...|            Welcome!|Welcome! One big ...|Welcome! Welcome!...|               none| Many restaurangs ...|No smoking No par...|          3 min walk|   Kitchen,bathroom.|Sometimes i am at...|no smoking in the...|         null|      null|https://a0.muscac...|          null| 412283|https://www.airbn...|  Fredric|2011-02-27|Stockholm, Stockh...|I am into arts yo...|within a few hours|               83%|                 N/A|                f|https://a0.muscac...|https://a0.muscac...|       Kungsholmen|                  1|                        1|['email', 'phone'...|                   t|                     f|Stockholm, Stockh...|  Kungsholmen|          Kungsholmens|                        null|Stockholm|Stockholm County|  11341|Stockholm|Stockholm, Sweden|          SE| Sweden|59.33376| 18.03816|                t|        Apartment|   Private room|           1|      1.0|       1|   1|Real Bed|{Wifi,Kitchen,Ele...|       null|  $597.00|   $4,000.00|   $15,000.00|            null|     $300.00|              1|       $0.00|             3|            20|                     3|                     3|                    20|                    20|                   3.0|                  20.0|     6 weeks ago|               t|             19|             49|             79|             354|           2019-09-28|               45|                   10|  2011-09-29| 2019-08-23|                  93|                     9|                        9|                   10|                         10|                    10|                  9|               f|   null|              null|               f|                       f|            flexible|                            f|                               f|                             1|                                          0|                                           1|                                          0|             0.46|\n",
            "|242188|https://www.airbn...|20190928160308|  2019-09-28|Single room in ce...|I am renting out ...|ROOM:  The room h...|I am renting out ...|               none|                 null|                null|                null|                null|                null|A modern five bed...|         null|      null|https://a0.muscac...|          null| 784312|https://www.airbn...|       Li|2011-07-06|Stockholm, Stockh...|I am a recently r...|    within an hour|              100%|                 N/A|                t|https://a0.muscac...|https://a0.muscac...|         Södermalm|                  2|                        2|['email', 'phone'...|                   t|                     t|Stockholm, Stockh...|    Södermalm|            Södermalms|                        null|Stockholm|Stockholm County|  11864|Stockholm|Stockholm, Sweden|          SE| Sweden|59.31347| 18.06106|                t|        Apartment|   Private room|           1|      1.0|       1|   1|Real Bed|{TV,Internet,Wifi...|       null|  $558.00|   $3,000.00|    $8,500.00|            null|        null|              1|       $0.00|             2|           300|                     2|                     2|                   300|                   300|                   2.0|                 300.0|     3 weeks ago|               t|             13|             35|             54|             139|           2019-09-28|              296|                   51|  2012-02-13| 2019-09-26|                  97|                    10|                       10|                   10|                         10|                    10|                 10|               f|   null|              null|               t|                       f|            flexible|                            t|                               t|                             2|                                          0|                                           2|                                          0|             3.19|\n",
            "|259025|https://www.airbn...|20190928160308|  2019-09-28|sufficient large ...|                null|If I describe how...|If I describe how...|               none|                 null|Kista mall, Stock...|Rinkeby Metro Sta...|When you are four...|                null|Do not allow anim...|         null|      null|https://a0.muscac...|          null|1361093|https://www.airbn...|      Ali|2011-11-02|Stockholm, Stockh...|Come and enjoy St...|    within an hour|              100%|                 N/A|                f|https://a0.muscac...|https://a0.muscac...|              null|                  3|                        3|['email', 'phone'...|                   t|                     t|Stockholm, Stockh...|Rinkeby-Kista|        Rinkeby-Tensta|                        null|Stockholm|Stockholm County|  16371|Stockholm|Stockholm, Sweden|          SE| Sweden|59.38682| 17.92276|                t|        Townhouse|   Private room|           1|      1.0|       1|   1|Real Bed|{TV,\"Cable TV\",In...|          0|  $196.00|        null|    $8,657.00|            null|     $200.00|              1|     $100.00|            60|          1000|                    60|                    60|                  1000|                  1000|                  60.0|                1000.0|   10 months ago|               t|             30|             60|             90|             365|           2019-09-28|               60|                    0|  2011-11-23| 2015-11-08|                  89|                     9|                       10|                    9|                          9|                     7|                  9|               f|   null|              null|               f|                       f|strict_14_with_gr...|                            t|                               t|                             2|                                          0|                                           2|                                          0|             0.63|\n",
            "|259722|https://www.airbn...|20190928160308|  2019-09-28|Near shopping-IT ...|It's a nice and c...|It's a nice and c...|It's a nice and c...|               none|                 null|It's good if you ...|                null|You have your own...|I'm not at home s...|I want a copy of ...|         null|      null|https://a0.muscac...|          null|1261494|https://www.airbn...|  Marcelo|2011-10-07|Stockholm, Stockh...|Hi! \r\n",
            "I am an IT-...|within a few hours|              100%|                 N/A|                f|https://a0.muscac...|https://a0.muscac...|              null|                  1|                        1|['email', 'phone'...|                   t|                     t|Stockholm, Stockh...|Rinkeby-Kista|        Rinkeby-Tensta|                        null|Stockholm|Stockholm County|  16474|Stockholm|Stockholm, Sweden|          SE| Sweden|59.41003|  17.9366|                t|        Apartment|   Private room|           2|      1.0|       1|   2|Real Bed|{TV,\"Cable TV\",In...|        560|  $225.00|   $2,567.00|    $7,700.00|       $1,069.00|     $535.00|              1|     $267.00|            21|           365|                    21|                    21|                   365|                   365|                  21.0|                 365.0|    5 months ago|               t|              0|             17|             47|             322|           2019-09-28|               23|                    2|  2012-03-01| 2019-05-13|                  92|                     9|                       10|                    9|                          9|                     9|                  8|               f|   null|              null|               f|                       f|strict_14_with_gr...|                            f|                               f|                             1|                                          0|                                           1|                                          0|             0.25|\n",
            "|273906|https://www.airbn...|20190928160308|  2019-09-28|Penthouse in cent...|                null|This is a unique ...|This is a unique ...|               none|                 null|                null|                null|                null|                null|One of the main r...|         null|      null|https://a0.muscac...|          null|1432722|https://www.airbn...|  Rodrigo|2011-11-22|Stockholm, Stockh...|I am from Chile a...|    within an hour|              100%|                 N/A|                f|https://a0.muscac...|https://a0.muscac...|         Södermalm|                  2|                        2|['email', 'phone'...|                   t|                     f|Stockholm, Stockh...|    Skarpnäck|            Södermalms|                        null|Stockholm|Stockholm County|  12068|Stockholm|Stockholm, Sweden|          SE| Sweden|59.30414|  18.1068|                t|        Apartment|Entire home/apt|           4|      2.0|       3|   3|Real Bed|{TV,\"Cable TV\",In...|       1399|$1,957.00|  $12,719.00|   $48,918.00|           $0.00|   $1,223.00|              1|       $0.00|             6|            30|                     6|                     6|                    30|                    30|                   6.0|                  30.0|    5 months ago|               t|              0|              0|              0|             270|           2019-09-28|                8|                    0|  2012-07-19| 2018-07-07|                 100|                    10|                       10|                   10|                         10|                    10|                 10|               f|   null|              null|               t|                       f|strict_14_with_gr...|                            f|                               f|                             1|                                          1|                                           0|                                          0|             0.09|\n",
            "|274876|https://www.airbn...|20190928160308|  2019-09-28|Designer apartmen...|                null|Hej and welcome! ...|Hej and welcome! ...|               none| A quiet neighbour...|Check-in time is ...|Bus: Just outside...|                null|You can always re...|                null|         null|      null|https://a0.muscac...|          null|1437153|https://www.airbn...|     Emma|2011-11-23|Stockholm, Stockh...|Hi, this is my pl...|within a few hours|              100%|                 N/A|                t|https://a0.muscac...|https://a0.muscac...|              null|                  1|                        1|['email', 'phone'...|                   t|                     f|Stockholm, Stockh...|    Södermalm|            Södermalms|                        null|Stockholm|Stockholm County|  11628|Stockholm|Stockholm, Sweden|          SE| Sweden|59.31849| 18.09536|                t|        Apartment|Entire home/apt|           5|      1.0|       3|   5|Real Bed|{TV,\"Cable TV\",In...|       null|$3,150.00|        null|         null|       $4,278.00|   $1,069.00|              5|     $428.00|             4|           100|                     4|                     4|                   100|                   100|                   4.0|                 100.0|     6 weeks ago|               t|             27|             57|             87|             362|           2019-09-28|              113|                   23|  2012-04-29| 2019-09-22|                  99|                    10|                       10|                   10|                         10|                    10|                  9|               f|   null|              null|               f|                       f|            moderate|                            t|                               t|                             1|                                          1|                                           0|                                          0|             1.25|\n",
            "|278311|https://www.airbn...|20190928160308|  2019-09-28|Entire apt (some ...|When we will be a...|This awesome plac...|When we will be a...|               none| I love the lake, ...|                null|I love the public...|The entire apt, t...|I won't be around...|If you'd like to ...|         null|      null|https://a0.muscac...|          null|1452838|https://www.airbn...|   Linnéa|2011-11-29|Stockholm, Stockh...|Playful, fun-lovi...|within a few hours|              100%|                 N/A|                f|https://a0.muscac...|https://a0.muscac...|            Farsta|                  1|                        1|['email', 'phone'...|                   t|                     f|Farsta, Stockholm...|       Farsta|                Farsta|                        null|   Farsta|  Stockholms län|  12331|Stockholm|   Farsta, Sweden|          SE| Sweden|59.24534| 18.08729|                t|        Apartment|Entire home/apt|           6|      1.0|       1|   3|Real Bed|{Internet,Wifi,Ki...|        936|  $411.00|   $3,300.00|   $12,900.00|       $1,000.00|     $200.00|              1|     $250.00|             1|            30|                     1|                     1|                    30|                    30|                   1.0|                  30.0|     4 weeks ago|               t|             13|             43|             73|             348|           2019-09-28|               52|                    4|  2011-12-16| 2019-09-06|                  92|                     9|                        9|                   10|                         10|                     9|                  9|               f|   null|              null|               f|                       f|            moderate|                            f|                               f|                             1|                                          1|                                           0|                                          0|             0.55|\n",
            "|283446|https://www.airbn...|20190928160308|  2019-09-28|Comfort Stay @ Ki...|Independent priva...|Independent priva...|Independent priva...|               none| Our apartment is ...|Metro is availabl...|Our apartment is ...|hi-speed internet...|we ask few questi...|•VEGETARIAN FOOD ...|         null|      null|https://a0.muscac...|          null|1476562|https://www.airbn...| Vidhatri|2011-12-06|Stockholm, Stockh...|Hi..I am Vidhatri...|               N/A|               N/A|                 N/A|                f|https://a0.muscac...|https://a0.muscac...|     Rinkeby-Kista|                  1|                        1|['email', 'phone'...|                   t|                     t|Stockholm, Stockh...|Rinkeby-Kista|        Rinkeby-Tensta|                        null|Stockholm|Stockholm County|  16472|Stockholm|Stockholm, Sweden|          SE| Sweden|59.41533| 17.91465|                t|        Apartment|   Private room|           2|      1.0|       1|   2|Real Bed|{TV,\"Cable TV\",In...|        958|  $294.00|   $3,023.00|    $9,850.00|            null|        null|              1|     $175.00|             2|          1125|                     2|                     2|                  1125|                  1125|                   2.0|                1125.0|    4 months ago|               t|              0|              0|              6|               6|           2019-09-28|              104|                    1|  2012-07-03| 2018-10-28|                  97|                    10|                       10|                   10|                         10|                     9|                 10|               f|   null|              null|               t|                       f|            moderate|                            f|                               f|                             1|                                          0|                                           1|                                          0|             1.18|\n",
            "|299154|https://www.airbn...|20190928160308|  2019-09-28|Cosy apartment ce...|Very centrally lo...|An small apartmen...|Very centrally lo...|               none| Södermalm, often ...|Keys Leave the ke...|The subway is jus...|Hole apartment wi...|I interact with g...|Keys Leave the ke...|         null|      null|https://a0.muscac...|          null|1541953|https://www.airbn...|   Daniel|2011-12-28|Stockholm, Stockh...|Nice and friendly...|    within an hour|              100%|                 N/A|                f|https://a0.muscac...|https://a0.muscac...|         Södermalm|                  1|                        1|['email', 'phone'...|                   t|                     t|Stockholm, Stockh...|    Södermalm|            Södermalms|                        null|Stockholm|Stockholm County|  11846|Stockholm|Stockholm, Sweden|          SE| Sweden|59.31767| 18.07137|                t|        Apartment|Entire home/apt|           4|      1.0|       1|   2|Real Bed|{TV,\"Cable TV\",In...|        312|$1,106.00|        null|         null|       $1,500.00|       $0.00|              2|     $135.00|             2|            60|                     1|                     3|                    60|                    60|                   2.0|                  60.0|      a week ago|               t|              5|             26|             43|             232|           2019-09-28|              480|                   63|  2013-06-16| 2019-09-27|                  92|                    10|                        9|                   10|                         10|                    10|                  9|               f|   null|              null|               t|                       f|strict_14_with_gr...|                            f|                               t|                             1|                                          1|                                           0|                                          0|             6.27|\n",
            "|301680|https://www.airbn...|20190928160308|  2019-09-28|one cosy double r...|there are several...|Your room is cosy...|there are several...|               none| Beautiful surroun...|There is recyklin...|Just around the c...|A modern kitchen ...|If you enjoy fitn...|I expect that whe...|         null|      null|https://a0.muscac...|          null|1554143|https://www.airbn...|   Anitta|2012-01-01|Stockholm, Stockh...|I am a teacher an...|    within an hour|               83%|                 N/A|                f|https://a0.muscac...|https://a0.muscac...|              null|                  2|                        2|['email', 'phone'...|                   t|                     f|Långbro, Stockhol...|       Älvsjö|                Älvsjö|                        null|  Långbro|Stockholm County|  12533|Stockholm|  Långbro, Sweden|          SE| Sweden|59.27778| 17.99226|                t|Bed and breakfast|   Private room|           2|      1.0|       1|   1|Real Bed|{TV,Internet,Wifi...|       null|  $753.00|   $2,500.00|    $9,000.00|            null|      $80.00|              1|     $200.00|             1|          1125|                     1|                     1|                  1125|                  1125|                   1.0|                1125.0|    2 months ago|               t|             30|             60|             90|             365|           2019-09-28|               34|                    0|  2012-07-09| 2018-07-16|                  92|                     9|                       10|                    9|                          9|                     9|                  9|               f|   null|              null|               f|                       f|            flexible|                            f|                               f|                             2|                                          1|                                           1|                                          0|             0.39|\n",
            "|302496|https://www.airbn...|20190928160308|  2019-09-28|Spacious, bright,...|This unique apart...|The apartment is ...|This unique apart...|               none| The neighborhood ...|                null|Busstation with t...|You will have acc...|Ii you have probl...|No smoking. No pe...|         null|      null|https://a0.muscac...|          null|1557657|https://www.airbn...|     Seta|2012-01-02|Stockholm, Stockh...|I am described as...|      within a day|              100%|                 N/A|                t|https://a0.muscac...|https://a0.muscac...|          Norrmalm|                  2|                        2|['email', 'phone'...|                   t|                     t|Norrmalm, Stockho...|     Norrmalm|             Norrmalms|                        null| Norrmalm|Stockholm County|  11351|Stockholm| Norrmalm, Sweden|          SE| Sweden|59.34518| 18.06044|                t|        Apartment|Entire home/apt|           6|      1.5|       3|   6|Real Bed|{TV,Internet,Wifi...|       null|$2,798.00|        null|   $56,000.00|           $0.00|   $1,000.00|              4|     $500.00|             5|            60|                     5|                     5|                    60|                    60|                   5.0|                  60.0|     5 weeks ago|               t|              1|              2|              5|             267|           2019-09-28|               65|                   18|  2012-06-18| 2019-09-18|                  99|                    10|                       10|                   10|                         10|                    10|                 10|               f|   null|              null|               f|                       f|            moderate|                            f|                               f|                             1|                                          1|                                           0|                                          0|             0.73|\n",
            "|313195|https://www.airbn...|20190928160308|  2019-09-28|Design, style & v...|Just some minutes...|This perfectly co...|Just some minutes...|               none| Very near is all ...|                null|7 min walk to the...|Rent it up to 3 p...|                null|We love to welcom...|         null|      null|https://a0.muscac...|          null| 956221|https://www.airbn...|    David|2011-08-11|Stockholm, Stockh...|I'm an architect ...|               N/A|               N/A|                 N/A|                f|https://a0.muscac...|https://a0.muscac...|              null|                  2|                        2|['email', 'phone'...|                   t|                     t|Stockholm, Stockh...|     Norrmalm|             Norrmalms|                        null|Stockholm|Stockholm County|  11347|Stockholm|Stockholm, Sweden|          SE| Sweden|59.34763| 18.05015|                t|        Apartment|Entire home/apt|           3|      1.0|       1|   1|Real Bed|{Internet,Wifi,Ki...|          0|  $900.00|        null|         null|       $1,069.00|     $321.00|              2|     $203.00|             3|            30|                     3|                     3|                    30|                    30|                   3.0|                  30.0|   10 months ago|               t|              0|              0|              0|              46|           2019-09-28|               45|                    0|  2012-08-03| 2017-08-13|                  96|                    10|                        9|                   10|                          9|                     9|                  9|               f|   null|              null|               f|                       f|            moderate|                            f|                               f|                             1|                                          1|                                           0|                                          0|             0.52|\n",
            "|313763|https://www.airbn...|20190928160308|  2019-09-28|Excellent locatio...|Trendy Vasastan i...|Just by the Odenp...|Trendy Vasastan i...|               none| Vasastan (Vasasta...|    No kids allowed.|Walking distance ...|Smoking only allo...|                null|No loud music or ...|         null|      null|https://a0.muscac...|          null|1533849|https://www.airbn...|Martin P.|2011-12-25|Sarasota, Florida...|I host mostly so ...|    within an hour|              100%|                 N/A|                f|https://a0.muscac...|https://a0.muscac...|          Norrmalm|                  4|                        4|['email', 'phone'...|                   t|                     t|Stockholm, Stockh...|     Norrmalm|             Norrmalms|                        null|Stockholm|  Stockholms län| 113 28|Stockholm|Stockholm, Sweden|          SE| Sweden|59.34398| 18.04959|                f|             Loft|   Private room|           1|      1.0|       1|   1|Real Bed|{TV,\"Cable TV\",In...|       null|  $646.00|     $840.00|    $2,780.00|         $900.00|     $290.00|              2|       $0.00|             2|            45|                     2|                     2|                    45|                    45|                   2.0|                  45.0|      a week ago|               t|              4|              4|              4|               4|           2019-09-28|               50|                    6|  2012-06-04| 2019-09-03|                  98|                    10|                       10|                   10|                         10|                    10|                  9|               f|   null|              null|               f|                       f|strict_14_with_gr...|                            t|                               f|                             1|                                          0|                                           1|                                          0|             0.56|\n",
            "+------+--------------------+--------------+------------+--------------------+--------------------+--------------------+--------------------+-------------------+---------------------+--------------------+--------------------+--------------------+--------------------+--------------------+-------------+----------+--------------------+--------------+-------+--------------------+---------+----------+--------------------+--------------------+------------------+------------------+--------------------+-----------------+--------------------+--------------------+------------------+-------------------+-------------------------+--------------------+--------------------+----------------------+--------------------+-------------+----------------------+----------------------------+---------+----------------+-------+---------+-----------------+------------+-------+--------+---------+-----------------+-----------------+---------------+------------+---------+--------+----+--------+--------------------+-----------+---------+------------+-------------+----------------+------------+---------------+------------+--------------+--------------+----------------------+----------------------+----------------------+----------------------+----------------------+----------------------+----------------+----------------+---------------+---------------+---------------+----------------+---------------------+-----------------+---------------------+------------+-----------+--------------------+----------------------+-------------------------+---------------------+---------------------------+----------------------+-------------------+----------------+-------+------------------+----------------+------------------------+--------------------+-----------------------------+--------------------------------+------------------------------+-------------------------------------------+--------------------------------------------+-------------------------------------------+-----------------+\n",
            "only showing top 20 rows\n",
            "\n"
          ],
          "name": "stdout"
        }
      ]
    },
    {
      "cell_type": "code",
      "metadata": {
        "id": "XAutQmlUoP38",
        "colab": {
          "base_uri": "https://localhost:8080/"
        },
        "outputId": "ca1e7f19-5d76-4a11-e077-c91a32c8f1d5"
      },
      "source": [
        "listings_raw.count()"
      ],
      "execution_count": null,
      "outputs": [
        {
          "output_type": "execute_result",
          "data": {
            "text/plain": [
              "1330480"
            ]
          },
          "metadata": {
            "tags": []
          },
          "execution_count": 39
        }
      ]
    },
    {
      "cell_type": "code",
      "metadata": {
        "id": "1r_ravsEwvIx"
      },
      "source": [
        "reviews_raw = (spark.read.option('header', True)\n",
        "                         .option('inferSchema', True)\n",
        "                         .option('multiLine', True)\n",
        "                         .option('escape', '\"').csv('/content/reviews.csv'))"
      ],
      "execution_count": null,
      "outputs": []
    },
    {
      "cell_type": "code",
      "metadata": {
        "id": "7ZxWxKauwxn5",
        "colab": {
          "base_uri": "https://localhost:8080/"
        },
        "outputId": "34fd28ee-93dd-4a15-9c91-2dba7c3c8e21"
      },
      "source": [
        "reviews_raw.show()"
      ],
      "execution_count": null,
      "outputs": [
        {
          "output_type": "stream",
          "text": [
            "+----------+---------+----------+-----------+-------------+--------------------+\n",
            "|listing_id|       id|      date|reviewer_id|reviewer_name|            comments|\n",
            "+----------+---------+----------+-----------+-------------+--------------------+\n",
            "|    145320|156423122|2017-05-30|  123386382|        Erwin|Prima plek om Sto...|\n",
            "|    145320|170211906|2017-07-15|  123091743|         Anne|Cosy and clean fl...|\n",
            "|    145320|172169175|2017-07-20|      78004|     Patricia|The host canceled...|\n",
            "|    145320|176647581|2017-07-31|  103178743|    Charlotte|Kim's place was o...|\n",
            "|    145320|185676021|2017-08-22|    4023961|    Alexander|great spacious ap...|\n",
            "|    145320|189668224|2017-09-02|  142869362|        Heiko|Kim is a very fri...|\n",
            "|    145320|191894030|2017-09-09|   25194419|        Jason|The apartment is ...|\n",
            "|    145320|193316070|2017-09-13|   52056015|        David|Nicely appointed,...|\n",
            "|    145320|196760607|2017-09-24|    3980456|        Janne|It was a pleasure...|\n",
            "|    145320|201885633|2017-10-09|   72139946|     Florence|Kim's place is si...|\n",
            "|    145320|203410181|2017-10-15|   23002655|      Charlie|We absolutely lov...|\n",
            "|    145320|210619953|2017-11-10|    3451329|      Natalia|Amazing place to ...|\n",
            "|    145320|211523951|2017-11-13|  105945750|       Ainhoa|Very pleasant sta...|\n",
            "|    145320|212932349|2017-11-19|     203826|           Fe|We had a wonderfu...|\n",
            "|    145320|214018139|2017-11-24|   70756436|       Marcel|Great location! C...|\n",
            "|    145320|216533345|2017-12-04|   10655526|      Shannon|Lovely flat in a ...|\n",
            "|    145320|219021131|2017-12-16|   29246547|          Dan|Kim’s flat is in ...|\n",
            "|    145320|231273225|2018-01-31|  160717975|          Sam|I would definitel...|\n",
            "|    145320|233159940|2018-02-08|   33212603|       Katina|Kim's place is pe...|\n",
            "|    145320|234271335|2018-02-12|  160422715|      Kensuke|The flat is so co...|\n",
            "+----------+---------+----------+-----------+-------------+--------------------+\n",
            "only showing top 20 rows\n",
            "\n"
          ],
          "name": "stdout"
        }
      ]
    },
    {
      "cell_type": "markdown",
      "metadata": {
        "id": "8MHzyO6XreXg"
      },
      "source": [
        "# Creating a sample of 100k rows for `listings`"
      ]
    },
    {
      "cell_type": "code",
      "metadata": {
        "id": "VbCA-daUiAVi"
      },
      "source": [
        "listings_100k = listings_raw.limit(100000)"
      ],
      "execution_count": null,
      "outputs": []
    },
    {
      "cell_type": "code",
      "metadata": {
        "id": "zp3SHWN6x3jf",
        "colab": {
          "base_uri": "https://localhost:8080/"
        },
        "outputId": "3b30e313-06a6-4747-cda1-34136e6fd2ef"
      },
      "source": [
        "listings_100k.show()"
      ],
      "execution_count": null,
      "outputs": [
        {
          "output_type": "stream",
          "text": [
            "+------+--------------------+--------------+------------+--------------------+--------------------+--------------------+--------------------+-------------------+---------------------+--------------------+--------------------+--------------------+--------------------+--------------------+-------------+----------+--------------------+--------------+-------+--------------------+---------+----------+--------------------+--------------------+------------------+------------------+--------------------+-----------------+--------------------+--------------------+------------------+-------------------+-------------------------+--------------------+--------------------+----------------------+--------------------+-------------+----------------------+----------------------------+---------+----------------+-------+---------+-----------------+------------+-------+--------+---------+-----------------+-----------------+---------------+------------+---------+--------+----+--------+--------------------+-----------+---------+------------+-------------+----------------+------------+---------------+------------+--------------+--------------+----------------------+----------------------+----------------------+----------------------+----------------------+----------------------+----------------+----------------+---------------+---------------+---------------+----------------+---------------------+-----------------+---------------------+------------+-----------+--------------------+----------------------+-------------------------+---------------------+---------------------------+----------------------+-------------------+----------------+-------+------------------+----------------+------------------------+--------------------+-----------------------------+--------------------------------+------------------------------+-------------------------------------------+--------------------------------------------+-------------------------------------------+-----------------+\n",
            "|    id|         listing_url|     scrape_id|last_scraped|                name|             summary|               space|         description|experiences_offered|neighborhood_overview|               notes|             transit|              access|         interaction|         house_rules|thumbnail_url|medium_url|         picture_url|xl_picture_url|host_id|            host_url|host_name|host_since|       host_location|          host_about|host_response_time|host_response_rate|host_acceptance_rate|host_is_superhost|  host_thumbnail_url|    host_picture_url|host_neighbourhood|host_listings_count|host_total_listings_count|  host_verifications|host_has_profile_pic|host_identity_verified|              street|neighbourhood|neighbourhood_cleansed|neighbourhood_group_cleansed|     city|           state|zipcode|   market|   smart_location|country_code|country|latitude|longitude|is_location_exact|    property_type|      room_type|accommodates|bathrooms|bedrooms|beds|bed_type|           amenities|square_feet|    price|weekly_price|monthly_price|security_deposit|cleaning_fee|guests_included|extra_people|minimum_nights|maximum_nights|minimum_minimum_nights|maximum_minimum_nights|minimum_maximum_nights|maximum_maximum_nights|minimum_nights_avg_ntm|maximum_nights_avg_ntm|calendar_updated|has_availability|availability_30|availability_60|availability_90|availability_365|calendar_last_scraped|number_of_reviews|number_of_reviews_ltm|first_review|last_review|review_scores_rating|review_scores_accuracy|review_scores_cleanliness|review_scores_checkin|review_scores_communication|review_scores_location|review_scores_value|requires_license|license|jurisdiction_names|instant_bookable|is_business_travel_ready| cancellation_policy|require_guest_profile_picture|require_guest_phone_verification|calculated_host_listings_count|calculated_host_listings_count_entire_homes|calculated_host_listings_count_private_rooms|calculated_host_listings_count_shared_rooms|reviews_per_month|\n",
            "+------+--------------------+--------------+------------+--------------------+--------------------+--------------------+--------------------+-------------------+---------------------+--------------------+--------------------+--------------------+--------------------+--------------------+-------------+----------+--------------------+--------------+-------+--------------------+---------+----------+--------------------+--------------------+------------------+------------------+--------------------+-----------------+--------------------+--------------------+------------------+-------------------+-------------------------+--------------------+--------------------+----------------------+--------------------+-------------+----------------------+----------------------------+---------+----------------+-------+---------+-----------------+------------+-------+--------+---------+-----------------+-----------------+---------------+------------+---------+--------+----+--------+--------------------+-----------+---------+------------+-------------+----------------+------------+---------------+------------+--------------+--------------+----------------------+----------------------+----------------------+----------------------+----------------------+----------------------+----------------+----------------+---------------+---------------+---------------+----------------+---------------------+-----------------+---------------------+------------+-----------+--------------------+----------------------+-------------------------+---------------------+---------------------------+----------------------+-------------------+----------------+-------+------------------+----------------+------------------------+--------------------+-----------------------------+--------------------------------+------------------------------+-------------------------------------------+--------------------------------------------+-------------------------------------------+-----------------+\n",
            "|145320|https://www.airbn...|20190928160308|  2019-09-28|In the middle of ...|Mitt boende passa...|A cozy three room...|Mitt boende passa...|               none| The flat is in th...|                null|My flat is close ...|You can stay in e...|Just ask me every...|No smoking inside...|         null|      null|https://a0.muscac...|          null| 703851|https://www.airbn...|      Kim|2011-06-15|Stockholm, Stockh...|Hi, I'm Kim, a de...|               N/A|               N/A|                 N/A|                t|https://a0.muscac...|https://a0.muscac...|              null|                  1|                        1|['email', 'phone'...|                   t|                     t|Stockholm, Stockh...|    Södermalm|            Södermalms|                        null|Stockholm|  Stockholms län| 118 53|Stockholm|Stockholm, Sweden|          SE| Sweden|59.31364| 18.05256|                f|        Apartment|   Private room|           2|      1.0|       1|   2|Real Bed|{TV,\"Cable TV\",Wi...|       null|$1,272.00|        null|         null|            null|     $417.00|              2|       $0.00|             2|          1125|                     2|                     2|                  1125|                  1125|                   2.0|                1125.0|    3 months ago|               t|              0|              0|             26|              26|           2019-09-28|               72|                   27|  2017-05-30| 2019-06-25|                  97|                    10|                       10|                   10|                         10|                    10|                 10|               f|   null|              null|               t|                       f|strict_14_with_gr...|                            f|                               f|                             1|                                          0|                                           1|                                          0|             2.54|\n",
            "|155220|https://www.airbn...|20190928160308|  2019-09-28|Stockholm, new sp...|Convenient and sp...|ABOUT THE HOUSE: ...|ABOUT THE HOUSE: ...|               none| Close to nature a...|Bikes to borrow a...|Yes regular busse...|Everything in the...|I will make you f...|          No smoking|         null|      null|https://a0.muscac...|          null| 746396|https://www.airbn...|Madeleine|2011-06-26|Stockholm, Stockh...|I work with human...|within a few hours|               63%|                 N/A|                f|https://a0.muscac...|https://a0.muscac...|              null|                  2|                        2|['email', 'phone'...|                   t|                     f|Stockholm, Stockh...|    Skarpnäck|            Skarpnäcks|                        null|Stockholm|Stockholm County|   null|Stockholm|Stockholm, Sweden|          SE| Sweden|59.24667| 18.17799|                f|            House|Entire home/apt|           3|      1.0|       2|   3|Real Bed|{TV,\"Cable TV\",In...|          0|$1,203.00|   $4,000.00|   $15,000.00|       $3,000.00|   $1,000.00|              3|     $500.00|             3|           730|                     3|                     3|                   730|                   730|                   3.0|                 730.0|    8 months ago|               t|              0|              0|              0|               0|           2019-09-28|                0|                    0|        null|       null|                null|                  null|                     null|                 null|                       null|                  null|               null|               f|   null|              null|               f|                       f|            moderate|                            f|                               f|                             2|                                          2|                                           0|                                          0|             null|\n",
            "|155685|https://www.airbn...|20190928160308|  2019-09-28|Hornstull with wa...|This apartment is...|46 sqm apartment ...|This apartment is...|               none| There is a funky ...|                null|Very close to pub...|Everything in the...|I meet in most ar...|•  The person tha...|         null|      null|https://a0.muscac...|          null| 748592|https://www.airbn...|   Robert|2011-06-27|Stockholm, Stockh...|Robert work with ...|               N/A|               N/A|                 N/A|                f|https://a0.muscac...|https://a0.muscac...|              null|                  1|                        1|['email', 'phone'...|                   t|                     f|Stockholm, Stockh...|    Södermalm|            Södermalms|                        null|Stockholm|Stockholm County|  11739|Stockholm|Stockholm, Sweden|          SE| Sweden|59.31535| 18.03277|                t|        Apartment|Entire home/apt|           2|      1.0|       2|   2|Real Bed|{TV,Wifi,Kitchen,...|       null|$3,209.00|        null|   $17,111.00|            null|        null|              1|       $0.00|             4|           365|                     4|                     4|                   365|                   365|                   4.0|                 365.0|    4 months ago|               t|              0|              0|              0|               0|           2019-09-28|               22|                    0|  2011-08-23| 2015-12-01|                  94|                     9|                       10|                   10|                         10|                     9|                  9|               f|   null|              null|               f|                       f|            moderate|                            f|                               f|                             1|                                          1|                                           0|                                          0|             0.22|\n",
            "|164448|https://www.airbn...|20190928160308|  2019-09-28|Double room in ce...|I am renting out ...|ROOM: The room ha...|I am renting out ...|               none|                 null|                null|                null|                null|                null|All the other fac...|         null|      null|https://a0.muscac...|          null| 784312|https://www.airbn...|       Li|2011-07-06|Stockholm, Stockh...|I am a recently r...|    within an hour|              100%|                 N/A|                t|https://a0.muscac...|https://a0.muscac...|         Södermalm|                  2|                        2|['email', 'phone'...|                   t|                     t|Stockholm, Stockh...|    Södermalm|            Södermalms|                        null|Stockholm|Stockholm County|  11864|Stockholm|Stockholm, Sweden|          SE| Sweden|59.31268| 18.06258|                t|        Apartment|   Private room|           2|      1.0|       1|   2|Real Bed|{TV,Internet,Wifi...|       null|  $597.00|   $4,000.00|   $12,000.00|            null|        null|              1|       $0.00|             3|           300|                     3|                     3|                   300|                   300|                   3.0|                 300.0|     2 weeks ago|               t|             15|             37|             59|             140|           2019-09-28|              311|                   55|  2011-07-30| 2019-09-26|                  97|                    10|                       10|                   10|                         10|                    10|                 10|               f|   null|              null|               t|                       f|            flexible|                            t|                               t|                             2|                                          0|                                           2|                                          0|             3.13|\n",
            "|170651|https://www.airbn...|20190928160308|  2019-09-28|Petit Charm Rooft...|                null|Welcome to this b...|Welcome to this b...|               none|                 null|                null|                null|                null|                null|I like to have th...|         null|      null|https://a0.muscac...|          null| 814021|https://www.airbn...|    Marie|2011-07-13|Stockholm, Stockh...|Im a happy person...|within a few hours|              100%|                 N/A|                f|https://a0.muscac...|https://a0.muscac...|         Södermalm|                  1|                        1|['email', 'phone'...|                   t|                     f|Stockholm, Stockh...|    Södermalm|            Södermalms|                        null|Stockholm|Stockholm County|  11737|Stockholm|Stockholm, Sweden|          SE| Sweden|59.31568| 18.03138|                t|        Apartment|Entire home/apt|           4|      1.0|       1|   2|Real Bed|{Internet,Wifi,Ki...|       null|  $734.00|        null|   $18,181.00|       $2,139.00|     $321.00|              2|     $321.00|             3|            30|                     3|                     3|                    30|                    30|                   3.0|                  30.0|     6 weeks ago|               t|             13|             38|             58|             216|           2019-09-28|               33|                    7|  2011-08-14| 2019-09-01|                  93|                    10|                        9|                   10|                         10|                    10|                  9|               f|   null|              null|               f|                       f|strict_14_with_gr...|                            f|                               f|                             1|                                          1|                                           0|                                          0|             0.33|\n",
            "|206221|https://www.airbn...|20190928160308|  2019-09-28|Doubleroom at Söd...|                null|The region is sit...|The region is sit...|               none|                 null|                null|                null|                null|                null|                null|         null|      null|https://a0.muscac...|          null|1022374|https://www.airbn...|Elisabeth|2011-08-26|              Sweden|I'm a positive pe...|      within a day|               50%|                 N/A|                f|https://a0.muscac...|https://a0.muscac...|              null|                  1|                        1|['email', 'phone'...|                   t|                     f|Stockholm, Stockh...|    Södermalm|            Södermalms|                        null|Stockholm|Stockholm County|  11639|Stockholm|Stockholm, Sweden|          SE| Sweden|59.31226| 18.07942|                t|Bed and breakfast|    Shared room|           2|      1.0|       1|   2|Real Bed|{Wifi,Breakfast,E...|         96|  $665.00|        null|         null|            null|        null|              2|     $200.00|             3|            14|                     3|                     3|                    14|                    14|                   3.0|                  14.0|     2 weeks ago|               t|              2|             25|             55|             330|           2019-09-28|               78|                   12|  2011-11-30| 2019-08-13|                  98|                    10|                       10|                   10|                         10|                    10|                 10|               f|   null|              null|               f|                       f|            flexible|                            f|                               f|                             1|                                          0|                                           0|                                          1|             0.82|\n",
            "|220233|https://www.airbn...|20190928160308|  2019-09-28|Central apartment...|My apartment is l...|38 sqm apartment ...|My apartment is l...|               none| The apartment is ...|The apartment win...|Subway station (t...|As a guest you wi...|I'm happy to prov...|I trust my guests...|         null|      null|https://a0.muscac...|          null|1137208|https://www.airbn...|  Martina|2011-09-10|Stockholm, Stockh...|Want to enjoy the...|               N/A|               N/A|                 N/A|                f|https://a0.muscac...|https://a0.muscac...|          Norrmalm|                  1|                        1|['email', 'phone'...|                   t|                     f|Stockholm, Stockh...|     Norrmalm|             Norrmalms|                        null|Stockholm|  Stockholms län|  11320|Stockholm|Stockholm, Sweden|          SE| Sweden|59.33948| 18.03551|                t|        Apartment|Entire home/apt|           2|      1.0|       1|   2|Real Bed|{TV,Internet,Wifi...|       null|  $890.00|        null|   $10,500.00|            null|        null|              1|       $0.00|             3|           365|                     3|                     3|                   365|                   365|                   3.0|                 365.0|   33 months ago|               t|              0|              0|              0|               0|           2019-09-28|                0|                    0|        null|       null|                null|                  null|                     null|                 null|                       null|                  null|               null|               f|   null|              null|               f|                       f|            moderate|                            f|                               f|                             1|                                          1|                                           0|                                          0|             null|\n",
            "|220851|https://www.airbn...|20190928160308|  2019-09-28|One room in appar...|            Welcome!|Welcome! One big ...|Welcome! Welcome!...|               none| Many restaurangs ...|No smoking No par...|          3 min walk|   Kitchen,bathroom.|Sometimes i am at...|no smoking in the...|         null|      null|https://a0.muscac...|          null| 412283|https://www.airbn...|  Fredric|2011-02-27|Stockholm, Stockh...|I am into arts yo...|within a few hours|               83%|                 N/A|                f|https://a0.muscac...|https://a0.muscac...|       Kungsholmen|                  1|                        1|['email', 'phone'...|                   t|                     f|Stockholm, Stockh...|  Kungsholmen|          Kungsholmens|                        null|Stockholm|Stockholm County|  11341|Stockholm|Stockholm, Sweden|          SE| Sweden|59.33376| 18.03816|                t|        Apartment|   Private room|           1|      1.0|       1|   1|Real Bed|{Wifi,Kitchen,Ele...|       null|  $597.00|   $4,000.00|   $15,000.00|            null|     $300.00|              1|       $0.00|             3|            20|                     3|                     3|                    20|                    20|                   3.0|                  20.0|     6 weeks ago|               t|             19|             49|             79|             354|           2019-09-28|               45|                   10|  2011-09-29| 2019-08-23|                  93|                     9|                        9|                   10|                         10|                    10|                  9|               f|   null|              null|               f|                       f|            flexible|                            f|                               f|                             1|                                          0|                                           1|                                          0|             0.46|\n",
            "|242188|https://www.airbn...|20190928160308|  2019-09-28|Single room in ce...|I am renting out ...|ROOM:  The room h...|I am renting out ...|               none|                 null|                null|                null|                null|                null|A modern five bed...|         null|      null|https://a0.muscac...|          null| 784312|https://www.airbn...|       Li|2011-07-06|Stockholm, Stockh...|I am a recently r...|    within an hour|              100%|                 N/A|                t|https://a0.muscac...|https://a0.muscac...|         Södermalm|                  2|                        2|['email', 'phone'...|                   t|                     t|Stockholm, Stockh...|    Södermalm|            Södermalms|                        null|Stockholm|Stockholm County|  11864|Stockholm|Stockholm, Sweden|          SE| Sweden|59.31347| 18.06106|                t|        Apartment|   Private room|           1|      1.0|       1|   1|Real Bed|{TV,Internet,Wifi...|       null|  $558.00|   $3,000.00|    $8,500.00|            null|        null|              1|       $0.00|             2|           300|                     2|                     2|                   300|                   300|                   2.0|                 300.0|     3 weeks ago|               t|             13|             35|             54|             139|           2019-09-28|              296|                   51|  2012-02-13| 2019-09-26|                  97|                    10|                       10|                   10|                         10|                    10|                 10|               f|   null|              null|               t|                       f|            flexible|                            t|                               t|                             2|                                          0|                                           2|                                          0|             3.19|\n",
            "|259025|https://www.airbn...|20190928160308|  2019-09-28|sufficient large ...|                null|If I describe how...|If I describe how...|               none|                 null|Kista mall, Stock...|Rinkeby Metro Sta...|When you are four...|                null|Do not allow anim...|         null|      null|https://a0.muscac...|          null|1361093|https://www.airbn...|      Ali|2011-11-02|Stockholm, Stockh...|Come and enjoy St...|    within an hour|              100%|                 N/A|                f|https://a0.muscac...|https://a0.muscac...|              null|                  3|                        3|['email', 'phone'...|                   t|                     t|Stockholm, Stockh...|Rinkeby-Kista|        Rinkeby-Tensta|                        null|Stockholm|Stockholm County|  16371|Stockholm|Stockholm, Sweden|          SE| Sweden|59.38682| 17.92276|                t|        Townhouse|   Private room|           1|      1.0|       1|   1|Real Bed|{TV,\"Cable TV\",In...|          0|  $196.00|        null|    $8,657.00|            null|     $200.00|              1|     $100.00|            60|          1000|                    60|                    60|                  1000|                  1000|                  60.0|                1000.0|   10 months ago|               t|             30|             60|             90|             365|           2019-09-28|               60|                    0|  2011-11-23| 2015-11-08|                  89|                     9|                       10|                    9|                          9|                     7|                  9|               f|   null|              null|               f|                       f|strict_14_with_gr...|                            t|                               t|                             2|                                          0|                                           2|                                          0|             0.63|\n",
            "|259722|https://www.airbn...|20190928160308|  2019-09-28|Near shopping-IT ...|It's a nice and c...|It's a nice and c...|It's a nice and c...|               none|                 null|It's good if you ...|                null|You have your own...|I'm not at home s...|I want a copy of ...|         null|      null|https://a0.muscac...|          null|1261494|https://www.airbn...|  Marcelo|2011-10-07|Stockholm, Stockh...|Hi! \r\n",
            "I am an IT-...|within a few hours|              100%|                 N/A|                f|https://a0.muscac...|https://a0.muscac...|              null|                  1|                        1|['email', 'phone'...|                   t|                     t|Stockholm, Stockh...|Rinkeby-Kista|        Rinkeby-Tensta|                        null|Stockholm|Stockholm County|  16474|Stockholm|Stockholm, Sweden|          SE| Sweden|59.41003|  17.9366|                t|        Apartment|   Private room|           2|      1.0|       1|   2|Real Bed|{TV,\"Cable TV\",In...|        560|  $225.00|   $2,567.00|    $7,700.00|       $1,069.00|     $535.00|              1|     $267.00|            21|           365|                    21|                    21|                   365|                   365|                  21.0|                 365.0|    5 months ago|               t|              0|             17|             47|             322|           2019-09-28|               23|                    2|  2012-03-01| 2019-05-13|                  92|                     9|                       10|                    9|                          9|                     9|                  8|               f|   null|              null|               f|                       f|strict_14_with_gr...|                            f|                               f|                             1|                                          0|                                           1|                                          0|             0.25|\n",
            "|273906|https://www.airbn...|20190928160308|  2019-09-28|Penthouse in cent...|                null|This is a unique ...|This is a unique ...|               none|                 null|                null|                null|                null|                null|One of the main r...|         null|      null|https://a0.muscac...|          null|1432722|https://www.airbn...|  Rodrigo|2011-11-22|Stockholm, Stockh...|I am from Chile a...|    within an hour|              100%|                 N/A|                f|https://a0.muscac...|https://a0.muscac...|         Södermalm|                  2|                        2|['email', 'phone'...|                   t|                     f|Stockholm, Stockh...|    Skarpnäck|            Södermalms|                        null|Stockholm|Stockholm County|  12068|Stockholm|Stockholm, Sweden|          SE| Sweden|59.30414|  18.1068|                t|        Apartment|Entire home/apt|           4|      2.0|       3|   3|Real Bed|{TV,\"Cable TV\",In...|       1399|$1,957.00|  $12,719.00|   $48,918.00|           $0.00|   $1,223.00|              1|       $0.00|             6|            30|                     6|                     6|                    30|                    30|                   6.0|                  30.0|    5 months ago|               t|              0|              0|              0|             270|           2019-09-28|                8|                    0|  2012-07-19| 2018-07-07|                 100|                    10|                       10|                   10|                         10|                    10|                 10|               f|   null|              null|               t|                       f|strict_14_with_gr...|                            f|                               f|                             1|                                          1|                                           0|                                          0|             0.09|\n",
            "|274876|https://www.airbn...|20190928160308|  2019-09-28|Designer apartmen...|                null|Hej and welcome! ...|Hej and welcome! ...|               none| A quiet neighbour...|Check-in time is ...|Bus: Just outside...|                null|You can always re...|                null|         null|      null|https://a0.muscac...|          null|1437153|https://www.airbn...|     Emma|2011-11-23|Stockholm, Stockh...|Hi, this is my pl...|within a few hours|              100%|                 N/A|                t|https://a0.muscac...|https://a0.muscac...|              null|                  1|                        1|['email', 'phone'...|                   t|                     f|Stockholm, Stockh...|    Södermalm|            Södermalms|                        null|Stockholm|Stockholm County|  11628|Stockholm|Stockholm, Sweden|          SE| Sweden|59.31849| 18.09536|                t|        Apartment|Entire home/apt|           5|      1.0|       3|   5|Real Bed|{TV,\"Cable TV\",In...|       null|$3,150.00|        null|         null|       $4,278.00|   $1,069.00|              5|     $428.00|             4|           100|                     4|                     4|                   100|                   100|                   4.0|                 100.0|     6 weeks ago|               t|             27|             57|             87|             362|           2019-09-28|              113|                   23|  2012-04-29| 2019-09-22|                  99|                    10|                       10|                   10|                         10|                    10|                  9|               f|   null|              null|               f|                       f|            moderate|                            t|                               t|                             1|                                          1|                                           0|                                          0|             1.25|\n",
            "|278311|https://www.airbn...|20190928160308|  2019-09-28|Entire apt (some ...|When we will be a...|This awesome plac...|When we will be a...|               none| I love the lake, ...|                null|I love the public...|The entire apt, t...|I won't be around...|If you'd like to ...|         null|      null|https://a0.muscac...|          null|1452838|https://www.airbn...|   Linnéa|2011-11-29|Stockholm, Stockh...|Playful, fun-lovi...|within a few hours|              100%|                 N/A|                f|https://a0.muscac...|https://a0.muscac...|            Farsta|                  1|                        1|['email', 'phone'...|                   t|                     f|Farsta, Stockholm...|       Farsta|                Farsta|                        null|   Farsta|  Stockholms län|  12331|Stockholm|   Farsta, Sweden|          SE| Sweden|59.24534| 18.08729|                t|        Apartment|Entire home/apt|           6|      1.0|       1|   3|Real Bed|{Internet,Wifi,Ki...|        936|  $411.00|   $3,300.00|   $12,900.00|       $1,000.00|     $200.00|              1|     $250.00|             1|            30|                     1|                     1|                    30|                    30|                   1.0|                  30.0|     4 weeks ago|               t|             13|             43|             73|             348|           2019-09-28|               52|                    4|  2011-12-16| 2019-09-06|                  92|                     9|                        9|                   10|                         10|                     9|                  9|               f|   null|              null|               f|                       f|            moderate|                            f|                               f|                             1|                                          1|                                           0|                                          0|             0.55|\n",
            "|283446|https://www.airbn...|20190928160308|  2019-09-28|Comfort Stay @ Ki...|Independent priva...|Independent priva...|Independent priva...|               none| Our apartment is ...|Metro is availabl...|Our apartment is ...|hi-speed internet...|we ask few questi...|•VEGETARIAN FOOD ...|         null|      null|https://a0.muscac...|          null|1476562|https://www.airbn...| Vidhatri|2011-12-06|Stockholm, Stockh...|Hi..I am Vidhatri...|               N/A|               N/A|                 N/A|                f|https://a0.muscac...|https://a0.muscac...|     Rinkeby-Kista|                  1|                        1|['email', 'phone'...|                   t|                     t|Stockholm, Stockh...|Rinkeby-Kista|        Rinkeby-Tensta|                        null|Stockholm|Stockholm County|  16472|Stockholm|Stockholm, Sweden|          SE| Sweden|59.41533| 17.91465|                t|        Apartment|   Private room|           2|      1.0|       1|   2|Real Bed|{TV,\"Cable TV\",In...|        958|  $294.00|   $3,023.00|    $9,850.00|            null|        null|              1|     $175.00|             2|          1125|                     2|                     2|                  1125|                  1125|                   2.0|                1125.0|    4 months ago|               t|              0|              0|              6|               6|           2019-09-28|              104|                    1|  2012-07-03| 2018-10-28|                  97|                    10|                       10|                   10|                         10|                     9|                 10|               f|   null|              null|               t|                       f|            moderate|                            f|                               f|                             1|                                          0|                                           1|                                          0|             1.18|\n",
            "|299154|https://www.airbn...|20190928160308|  2019-09-28|Cosy apartment ce...|Very centrally lo...|An small apartmen...|Very centrally lo...|               none| Södermalm, often ...|Keys Leave the ke...|The subway is jus...|Hole apartment wi...|I interact with g...|Keys Leave the ke...|         null|      null|https://a0.muscac...|          null|1541953|https://www.airbn...|   Daniel|2011-12-28|Stockholm, Stockh...|Nice and friendly...|    within an hour|              100%|                 N/A|                f|https://a0.muscac...|https://a0.muscac...|         Södermalm|                  1|                        1|['email', 'phone'...|                   t|                     t|Stockholm, Stockh...|    Södermalm|            Södermalms|                        null|Stockholm|Stockholm County|  11846|Stockholm|Stockholm, Sweden|          SE| Sweden|59.31767| 18.07137|                t|        Apartment|Entire home/apt|           4|      1.0|       1|   2|Real Bed|{TV,\"Cable TV\",In...|        312|$1,106.00|        null|         null|       $1,500.00|       $0.00|              2|     $135.00|             2|            60|                     1|                     3|                    60|                    60|                   2.0|                  60.0|      a week ago|               t|              5|             26|             43|             232|           2019-09-28|              480|                   63|  2013-06-16| 2019-09-27|                  92|                    10|                        9|                   10|                         10|                    10|                  9|               f|   null|              null|               t|                       f|strict_14_with_gr...|                            f|                               t|                             1|                                          1|                                           0|                                          0|             6.27|\n",
            "|301680|https://www.airbn...|20190928160308|  2019-09-28|one cosy double r...|there are several...|Your room is cosy...|there are several...|               none| Beautiful surroun...|There is recyklin...|Just around the c...|A modern kitchen ...|If you enjoy fitn...|I expect that whe...|         null|      null|https://a0.muscac...|          null|1554143|https://www.airbn...|   Anitta|2012-01-01|Stockholm, Stockh...|I am a teacher an...|    within an hour|               83%|                 N/A|                f|https://a0.muscac...|https://a0.muscac...|              null|                  2|                        2|['email', 'phone'...|                   t|                     f|Långbro, Stockhol...|       Älvsjö|                Älvsjö|                        null|  Långbro|Stockholm County|  12533|Stockholm|  Långbro, Sweden|          SE| Sweden|59.27778| 17.99226|                t|Bed and breakfast|   Private room|           2|      1.0|       1|   1|Real Bed|{TV,Internet,Wifi...|       null|  $753.00|   $2,500.00|    $9,000.00|            null|      $80.00|              1|     $200.00|             1|          1125|                     1|                     1|                  1125|                  1125|                   1.0|                1125.0|    2 months ago|               t|             30|             60|             90|             365|           2019-09-28|               34|                    0|  2012-07-09| 2018-07-16|                  92|                     9|                       10|                    9|                          9|                     9|                  9|               f|   null|              null|               f|                       f|            flexible|                            f|                               f|                             2|                                          1|                                           1|                                          0|             0.39|\n",
            "|302496|https://www.airbn...|20190928160308|  2019-09-28|Spacious, bright,...|This unique apart...|The apartment is ...|This unique apart...|               none| The neighborhood ...|                null|Busstation with t...|You will have acc...|Ii you have probl...|No smoking. No pe...|         null|      null|https://a0.muscac...|          null|1557657|https://www.airbn...|     Seta|2012-01-02|Stockholm, Stockh...|I am described as...|      within a day|              100%|                 N/A|                t|https://a0.muscac...|https://a0.muscac...|          Norrmalm|                  2|                        2|['email', 'phone'...|                   t|                     t|Norrmalm, Stockho...|     Norrmalm|             Norrmalms|                        null| Norrmalm|Stockholm County|  11351|Stockholm| Norrmalm, Sweden|          SE| Sweden|59.34518| 18.06044|                t|        Apartment|Entire home/apt|           6|      1.5|       3|   6|Real Bed|{TV,Internet,Wifi...|       null|$2,798.00|        null|   $56,000.00|           $0.00|   $1,000.00|              4|     $500.00|             5|            60|                     5|                     5|                    60|                    60|                   5.0|                  60.0|     5 weeks ago|               t|              1|              2|              5|             267|           2019-09-28|               65|                   18|  2012-06-18| 2019-09-18|                  99|                    10|                       10|                   10|                         10|                    10|                 10|               f|   null|              null|               f|                       f|            moderate|                            f|                               f|                             1|                                          1|                                           0|                                          0|             0.73|\n",
            "|313195|https://www.airbn...|20190928160308|  2019-09-28|Design, style & v...|Just some minutes...|This perfectly co...|Just some minutes...|               none| Very near is all ...|                null|7 min walk to the...|Rent it up to 3 p...|                null|We love to welcom...|         null|      null|https://a0.muscac...|          null| 956221|https://www.airbn...|    David|2011-08-11|Stockholm, Stockh...|I'm an architect ...|               N/A|               N/A|                 N/A|                f|https://a0.muscac...|https://a0.muscac...|              null|                  2|                        2|['email', 'phone'...|                   t|                     t|Stockholm, Stockh...|     Norrmalm|             Norrmalms|                        null|Stockholm|Stockholm County|  11347|Stockholm|Stockholm, Sweden|          SE| Sweden|59.34763| 18.05015|                t|        Apartment|Entire home/apt|           3|      1.0|       1|   1|Real Bed|{Internet,Wifi,Ki...|          0|  $900.00|        null|         null|       $1,069.00|     $321.00|              2|     $203.00|             3|            30|                     3|                     3|                    30|                    30|                   3.0|                  30.0|   10 months ago|               t|              0|              0|              0|              46|           2019-09-28|               45|                    0|  2012-08-03| 2017-08-13|                  96|                    10|                        9|                   10|                          9|                     9|                  9|               f|   null|              null|               f|                       f|            moderate|                            f|                               f|                             1|                                          1|                                           0|                                          0|             0.52|\n",
            "|313763|https://www.airbn...|20190928160308|  2019-09-28|Excellent locatio...|Trendy Vasastan i...|Just by the Odenp...|Trendy Vasastan i...|               none| Vasastan (Vasasta...|    No kids allowed.|Walking distance ...|Smoking only allo...|                null|No loud music or ...|         null|      null|https://a0.muscac...|          null|1533849|https://www.airbn...|Martin P.|2011-12-25|Sarasota, Florida...|I host mostly so ...|    within an hour|              100%|                 N/A|                f|https://a0.muscac...|https://a0.muscac...|          Norrmalm|                  4|                        4|['email', 'phone'...|                   t|                     t|Stockholm, Stockh...|     Norrmalm|             Norrmalms|                        null|Stockholm|  Stockholms län| 113 28|Stockholm|Stockholm, Sweden|          SE| Sweden|59.34398| 18.04959|                f|             Loft|   Private room|           1|      1.0|       1|   1|Real Bed|{TV,\"Cable TV\",In...|       null|  $646.00|     $840.00|    $2,780.00|         $900.00|     $290.00|              2|       $0.00|             2|            45|                     2|                     2|                    45|                    45|                   2.0|                  45.0|      a week ago|               t|              4|              4|              4|               4|           2019-09-28|               50|                    6|  2012-06-04| 2019-09-03|                  98|                    10|                       10|                   10|                         10|                    10|                  9|               f|   null|              null|               f|                       f|strict_14_with_gr...|                            t|                               f|                             1|                                          0|                                           1|                                          0|             0.56|\n",
            "+------+--------------------+--------------+------------+--------------------+--------------------+--------------------+--------------------+-------------------+---------------------+--------------------+--------------------+--------------------+--------------------+--------------------+-------------+----------+--------------------+--------------+-------+--------------------+---------+----------+--------------------+--------------------+------------------+------------------+--------------------+-----------------+--------------------+--------------------+------------------+-------------------+-------------------------+--------------------+--------------------+----------------------+--------------------+-------------+----------------------+----------------------------+---------+----------------+-------+---------+-----------------+------------+-------+--------+---------+-----------------+-----------------+---------------+------------+---------+--------+----+--------+--------------------+-----------+---------+------------+-------------+----------------+------------+---------------+------------+--------------+--------------+----------------------+----------------------+----------------------+----------------------+----------------------+----------------------+----------------+----------------+---------------+---------------+---------------+----------------+---------------------+-----------------+---------------------+------------+-----------+--------------------+----------------------+-------------------------+---------------------+---------------------------+----------------------+-------------------+----------------+-------+------------------+----------------+------------------------+--------------------+-----------------------------+--------------------------------+------------------------------+-------------------------------------------+--------------------------------------------+-------------------------------------------+-----------------+\n",
            "only showing top 20 rows\n",
            "\n"
          ],
          "name": "stdout"
        }
      ]
    },
    {
      "cell_type": "code",
      "metadata": {
        "id": "ZIXaMs3ni9DC",
        "colab": {
          "base_uri": "https://localhost:8080/"
        },
        "outputId": "c1fdfd13-af4c-47c0-b604-98f619ea9ec8"
      },
      "source": [
        "listings_100k.count()"
      ],
      "execution_count": null,
      "outputs": [
        {
          "output_type": "execute_result",
          "data": {
            "text/plain": [
              "100000"
            ]
          },
          "metadata": {
            "tags": []
          },
          "execution_count": 54
        }
      ]
    },
    {
      "cell_type": "code",
      "metadata": {
        "id": "mianmaF5tWkb"
      },
      "source": [
        "(listings_100k\n",
        "   .repartition(1)\n",
        "   .write.format(\"com.databricks.spark.csv\")\n",
        "   .option(\"header\", True)\n",
        "   .option('multiLine', True)\n",
        "   .option('escape', '\"')\n",
        "   .save(\"listings_100k.csv\"))"
      ],
      "execution_count": null,
      "outputs": []
    },
    {
      "cell_type": "markdown",
      "metadata": {
        "id": "Ylq_QENduFHx"
      },
      "source": [
        "You can adapt the code above to create a sample for the `reviews` dataset. You may also want to subset the data in different ways: choosing certain columns, filtering, etc.\n",
        "\n"
      ]
    }
  ]
}