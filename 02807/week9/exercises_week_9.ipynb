{
  "nbformat": 4,
  "nbformat_minor": 0,
  "metadata": {
    "kernelspec": {
      "display_name": "Python 3",
      "language": "python",
      "name": "python3"
    },
    "language_info": {
      "codemirror_mode": {
        "name": "ipython",
        "version": 3
      },
      "file_extension": ".py",
      "mimetype": "text/x-python",
      "name": "python",
      "nbconvert_exporter": "python",
      "pygments_lexer": "ipython3",
      "version": "3.7.3"
    },
    "colab": {
      "name": "exercises_week_9.ipynb",
      "provenance": [],
      "collapsed_sections": [],
      "toc_visible": true,
      "machine_shape": "hm"
    }
  },
  "cells": [
    {
      "cell_type": "markdown",
      "metadata": {
        "id": "vlMcbNUbMqnF"
      },
      "source": [
        "# 02807 - Week 9 Exercises:  More practice with Spark\n",
        "\n",
        "In this exercise session you will continue practicing with PySpark in local mode on a Colab enviroment. \n",
        "\n",
        "Credits to [Tiziano Piccardi](http://piccardi.me/) for this notebook. You can find a link  with solutions to the exercises at the end of the notebook."
      ]
    },
    {
      "cell_type": "markdown",
      "metadata": {
        "id": "asspwlX7zDcT"
      },
      "source": [
        "# Learning objectives:\n",
        "\n",
        "* Getting more practice with PySpark\n",
        "* Caching data\n"
      ]
    },
    {
      "cell_type": "markdown",
      "metadata": {
        "id": "eXQzA01OS_yQ"
      },
      "source": [
        "### Setup"
      ]
    },
    {
      "cell_type": "markdown",
      "metadata": {
        "id": "AbYZoVVWOZA5"
      },
      "source": [
        "Let's setup Spark on your Colab environment.  Run the cell below!"
      ]
    },
    {
      "cell_type": "code",
      "metadata": {
        "id": "dhzk3GE6S9RC",
        "outputId": "e426c1b5-b93f-45cf-edc5-1d051d4babe7",
        "colab": {
          "base_uri": "https://localhost:8080/"
        }
      },
      "source": [
        "!pip install pyspark\n",
        "!pip install -U -q PyDrive\n",
        "!apt install openjdk-8-jdk-headless -qq\n",
        "import os\n",
        "os.environ[\"JAVA_HOME\"] = \"/usr/lib/jvm/java-8-openjdk-amd64\""
      ],
      "execution_count": 24,
      "outputs": [
        {
          "output_type": "stream",
          "text": [
            "Requirement already satisfied: pyspark in /usr/local/lib/python3.6/dist-packages (3.0.1)\n",
            "Requirement already satisfied: py4j==0.10.9 in /usr/local/lib/python3.6/dist-packages (from pyspark) (0.10.9)\n",
            "openjdk-8-jdk-headless is already the newest version (8u272-b10-0ubuntu1~18.04).\n",
            "0 upgraded, 0 newly installed, 0 to remove and 11 not upgraded.\n"
          ],
          "name": "stdout"
        }
      ]
    },
    {
      "cell_type": "markdown",
      "metadata": {
        "id": "ctU1dYjfOif7"
      },
      "source": [
        "Now we authenticate a Google Drive client to download the file we will be processing in our Spark job.\n",
        "\n",
        "**Make sure to follow the interactive instructions.**"
      ]
    },
    {
      "cell_type": "code",
      "metadata": {
        "id": "1dfnX7IAOkvH"
      },
      "source": [
        "from pydrive.auth import GoogleAuth\n",
        "from pydrive.drive import GoogleDrive\n",
        "from google.colab import auth\n",
        "from oauth2client.client import GoogleCredentials\n",
        "\n",
        "# Authenticate and create the PyDrive client\n",
        "auth.authenticate_user()\n",
        "gauth = GoogleAuth()\n",
        "gauth.credentials = GoogleCredentials.get_application_default()\n",
        "drive = GoogleDrive(gauth)"
      ],
      "execution_count": 25,
      "outputs": []
    },
    {
      "cell_type": "code",
      "metadata": {
        "id": "UF5nuSdyTJpc"
      },
      "source": [
        "id='1L6pCQkldvdBoaEhRFzL0VnrggEFvqON4'\n",
        "downloaded = drive.CreateFile({'id': id}) \n",
        "downloaded.GetContentFile('Bombing_Operations.json.gz')\n",
        "\n",
        "id='14dyBmcTBA32uXPxDbqr0bFDIzGxMTWwl'\n",
        "downloaded = drive.CreateFile({'id': id}) \n",
        "downloaded.GetContentFile('Aircraft_Glossary.json.gz')  "
      ],
      "execution_count": 26,
      "outputs": []
    },
    {
      "cell_type": "markdown",
      "metadata": {
        "id": "wA49WWqmO5rR"
      },
      "source": [
        "If you executed the cells above, you should be able to see the files *Bombing_Operations.json.gz* and *Aircraft_Glossary.json.gz* under the \"Files\" tab on the left panel."
      ]
    },
    {
      "cell_type": "code",
      "metadata": {
        "id": "xgQaRx6rSaf9"
      },
      "source": [
        "# Let's import the libraries we will need\n",
        "import pandas as pd\n",
        "import numpy as np\n",
        "import matplotlib.pyplot as plt\n",
        "%matplotlib inline\n",
        "\n",
        "import pyspark\n",
        "from pyspark.sql import *\n",
        "from pyspark.sql.functions import *\n",
        "from pyspark import SparkContext, SparkConf"
      ],
      "execution_count": 27,
      "outputs": []
    },
    {
      "cell_type": "markdown",
      "metadata": {
        "id": "uUD5XpD_SagA"
      },
      "source": [
        "Let's initialize the Spark context.\n"
      ]
    },
    {
      "cell_type": "code",
      "metadata": {
        "id": "7ft3VivrSagB",
        "outputId": "3a6126d4-034b-41cc-d6ef-a403c43a1ec4",
        "colab": {
          "base_uri": "https://localhost:8080/",
          "height": 269
        }
      },
      "source": [
        "# create the session\n",
        "conf = SparkConf().set(\"spark.ui.port\", \"4050\")\n",
        "\n",
        "# create the context\n",
        "sc = pyspark.SparkContext(conf=conf)\n",
        "spark = SparkSession.builder.getOrCreate()"
      ],
      "execution_count": 28,
      "outputs": [
        {
          "output_type": "error",
          "ename": "ValueError",
          "evalue": "ignored",
          "traceback": [
            "\u001b[0;31m---------------------------------------------------------------------------\u001b[0m",
            "\u001b[0;31mValueError\u001b[0m                                Traceback (most recent call last)",
            "\u001b[0;32m<ipython-input-28-03ad07eeace4>\u001b[0m in \u001b[0;36m<module>\u001b[0;34m()\u001b[0m\n\u001b[1;32m      3\u001b[0m \u001b[0;34m\u001b[0m\u001b[0m\n\u001b[1;32m      4\u001b[0m \u001b[0;31m# create the context\u001b[0m\u001b[0;34m\u001b[0m\u001b[0;34m\u001b[0m\u001b[0;34m\u001b[0m\u001b[0m\n\u001b[0;32m----> 5\u001b[0;31m \u001b[0msc\u001b[0m \u001b[0;34m=\u001b[0m \u001b[0mpyspark\u001b[0m\u001b[0;34m.\u001b[0m\u001b[0mSparkContext\u001b[0m\u001b[0;34m(\u001b[0m\u001b[0mconf\u001b[0m\u001b[0;34m=\u001b[0m\u001b[0mconf\u001b[0m\u001b[0;34m)\u001b[0m\u001b[0;34m\u001b[0m\u001b[0;34m\u001b[0m\u001b[0m\n\u001b[0m\u001b[1;32m      6\u001b[0m \u001b[0mspark\u001b[0m \u001b[0;34m=\u001b[0m \u001b[0mSparkSession\u001b[0m\u001b[0;34m.\u001b[0m\u001b[0mbuilder\u001b[0m\u001b[0;34m.\u001b[0m\u001b[0mgetOrCreate\u001b[0m\u001b[0;34m(\u001b[0m\u001b[0;34m)\u001b[0m\u001b[0;34m\u001b[0m\u001b[0;34m\u001b[0m\u001b[0m\n",
            "\u001b[0;32m/usr/local/lib/python3.6/dist-packages/pyspark/context.py\u001b[0m in \u001b[0;36m__init__\u001b[0;34m(self, master, appName, sparkHome, pyFiles, environment, batchSize, serializer, conf, gateway, jsc, profiler_cls)\u001b[0m\n\u001b[1;32m    131\u001b[0m                 \" is not allowed as it is a security risk.\")\n\u001b[1;32m    132\u001b[0m \u001b[0;34m\u001b[0m\u001b[0m\n\u001b[0;32m--> 133\u001b[0;31m         \u001b[0mSparkContext\u001b[0m\u001b[0;34m.\u001b[0m\u001b[0m_ensure_initialized\u001b[0m\u001b[0;34m(\u001b[0m\u001b[0mself\u001b[0m\u001b[0;34m,\u001b[0m \u001b[0mgateway\u001b[0m\u001b[0;34m=\u001b[0m\u001b[0mgateway\u001b[0m\u001b[0;34m,\u001b[0m \u001b[0mconf\u001b[0m\u001b[0;34m=\u001b[0m\u001b[0mconf\u001b[0m\u001b[0;34m)\u001b[0m\u001b[0;34m\u001b[0m\u001b[0;34m\u001b[0m\u001b[0m\n\u001b[0m\u001b[1;32m    134\u001b[0m         \u001b[0;32mtry\u001b[0m\u001b[0;34m:\u001b[0m\u001b[0;34m\u001b[0m\u001b[0;34m\u001b[0m\u001b[0m\n\u001b[1;32m    135\u001b[0m             self._do_init(master, appName, sparkHome, pyFiles, environment, batchSize, serializer,\n",
            "\u001b[0;32m/usr/local/lib/python3.6/dist-packages/pyspark/context.py\u001b[0m in \u001b[0;36m_ensure_initialized\u001b[0;34m(cls, instance, gateway, conf)\u001b[0m\n\u001b[1;32m    339\u001b[0m                         \u001b[0;34m\" created by %s at %s:%s \"\u001b[0m\u001b[0;34m\u001b[0m\u001b[0;34m\u001b[0m\u001b[0m\n\u001b[1;32m    340\u001b[0m                         % (currentAppName, currentMaster,\n\u001b[0;32m--> 341\u001b[0;31m                             callsite.function, callsite.file, callsite.linenum))\n\u001b[0m\u001b[1;32m    342\u001b[0m                 \u001b[0;32melse\u001b[0m\u001b[0;34m:\u001b[0m\u001b[0;34m\u001b[0m\u001b[0;34m\u001b[0m\u001b[0m\n\u001b[1;32m    343\u001b[0m                     \u001b[0mSparkContext\u001b[0m\u001b[0;34m.\u001b[0m\u001b[0m_active_spark_context\u001b[0m \u001b[0;34m=\u001b[0m \u001b[0minstance\u001b[0m\u001b[0;34m\u001b[0m\u001b[0;34m\u001b[0m\u001b[0m\n",
            "\u001b[0;31mValueError\u001b[0m: Cannot run multiple SparkContexts at once; existing SparkContext(app=pyspark-shell, master=local[*]) created by __init__ at <ipython-input-4-03ad07eeace4>:5 "
          ]
        }
      ]
    },
    {
      "cell_type": "markdown",
      "metadata": {
        "id": "-n20ixkgSagD"
      },
      "source": [
        "You can easily check the current version and get the link of the web interface. In the Spark UI, you can monitor the progress of your job and debug the performance bottlenecks (if your Colab is running with a **local runtime**)."
      ]
    },
    {
      "cell_type": "code",
      "metadata": {
        "id": "Fl4RHbqFSagE",
        "outputId": "c5a2d215-2861-4ea8-c353-1161e89b9cf3",
        "colab": {
          "base_uri": "https://localhost:8080/",
          "height": 221
        }
      },
      "source": [
        "spark"
      ],
      "execution_count": 29,
      "outputs": [
        {
          "output_type": "execute_result",
          "data": {
            "text/html": [
              "\n",
              "            <div>\n",
              "                <p><b>SparkSession - in-memory</b></p>\n",
              "                \n",
              "        <div>\n",
              "            <p><b>SparkContext</b></p>\n",
              "\n",
              "            <p><a href=\"http://1466b0c92b9d:4050\">Spark UI</a></p>\n",
              "\n",
              "            <dl>\n",
              "              <dt>Version</dt>\n",
              "                <dd><code>v3.0.1</code></dd>\n",
              "              <dt>Master</dt>\n",
              "                <dd><code>local[*]</code></dd>\n",
              "              <dt>AppName</dt>\n",
              "                <dd><code>pyspark-shell</code></dd>\n",
              "            </dl>\n",
              "        </div>\n",
              "        \n",
              "            </div>\n",
              "        "
            ],
            "text/plain": [
              "<pyspark.sql.session.SparkSession at 0x7fb7243892b0>"
            ]
          },
          "metadata": {
            "tags": []
          },
          "execution_count": 29
        }
      ]
    },
    {
      "cell_type": "markdown",
      "metadata": {
        "id": "xlw1Mgx0T9-l"
      },
      "source": [
        "If you are running this Colab on the Google hosted runtime, the cell below will create a *ngrok* tunnel which will allow you to still check the Spark UI."
      ]
    },
    {
      "cell_type": "code",
      "metadata": {
        "id": "cYYlUTWYQMjb",
        "outputId": "0d317649-d217-4f4b-b350-ecf5e39b70d2",
        "colab": {
          "base_uri": "https://localhost:8080/"
        }
      },
      "source": [
        "!wget https://bin.equinox.io/c/4VmDzA7iaHb/ngrok-stable-linux-amd64.zip\n",
        "!unzip ngrok-stable-linux-amd64.zip\n",
        "get_ipython().system_raw('./ngrok http 4050 &')\n",
        "!curl -s http://localhost:4040/api/tunnels | python3 -c \\\n",
        "    \"import sys, json; print(json.load(sys.stdin)['tunnels'][0]['public_url'])\""
      ],
      "execution_count": 32,
      "outputs": [
        {
          "output_type": "stream",
          "text": [
            "--2020-10-30 15:28:18--  https://bin.equinox.io/c/4VmDzA7iaHb/ngrok-stable-linux-amd64.zip\n",
            "Resolving bin.equinox.io (bin.equinox.io)... 3.215.242.209, 3.214.245.1, 52.71.209.190, ...\n",
            "Connecting to bin.equinox.io (bin.equinox.io)|3.215.242.209|:443... connected.\n",
            "HTTP request sent, awaiting response... 200 OK\n",
            "Length: 13773305 (13M) [application/octet-stream]\n",
            "Saving to: ‘ngrok-stable-linux-amd64.zip.1’\n",
            "\n",
            "ngrok-stable-linux- 100%[===================>]  13.13M  39.3MB/s    in 0.3s    \n",
            "\n",
            "2020-10-30 15:28:18 (39.3 MB/s) - ‘ngrok-stable-linux-amd64.zip.1’ saved [13773305/13773305]\n",
            "\n",
            "Archive:  ngrok-stable-linux-amd64.zip\n",
            "replace ngrok? [y]es, [n]o, [A]ll, [N]one, [r]ename: A\n",
            "  inflating: ngrok                   \n",
            "https://ccdc9cb58fa9.ngrok.io\n"
          ],
          "name": "stdout"
        }
      ]
    },
    {
      "cell_type": "markdown",
      "metadata": {
        "id": "gewv-lKMSagI"
      },
      "source": [
        "# Vietnam War\n",
        "\n",
        "**Pres. Johnson**: _What do you think about this Vietnam thing? I’d like to hear you talk a little bit._\n",
        "\n",
        "**Sen. Russell**: _Well, frankly, Mr. President, it’s the damn worse mess that I ever saw, and I don’t like to brag and I never have been right many times in my life, but I knew that we were going to get into this sort of mess when we went in there._\n",
        "\n",
        "May 27, 1964\n",
        "\n",
        "![banner](https://raw.githubusercontent.com/epfl-ada/2019/c17af0d3c73f11cb083717b7408fedd86245dc4d/Tutorials/04%20-%20Scaling%20Up/img/banner.jpg)"
      ]
    },
    {
      "cell_type": "markdown",
      "metadata": {
        "id": "skjUv84VSagJ"
      },
      "source": [
        "----\n",
        "\n",
        "The Vietnam War, also known as the Second Indochina War, and in Vietnam as the Resistance War Against America or simply the American War, was a conflict that occurred in Vietnam, Laos, and Cambodia from 1 November 1955 to the fall of Saigon on 30 April 1975. It was the second of the Indochina Wars and was officially fought between North Vietnam and the government of South Vietnam.\n",
        "\n",
        "**The dataset describes all the air force operation in during the Vietnam War.**\n",
        "\n",
        "**Bombing_Operations** [Get the dataset here](https://drive.google.com/a/epfl.ch/file/d/1L6pCQkldvdBoaEhRFzL0VnrggEFvqON4/view?usp=sharing)\n",
        "\n",
        "- AirCraft: _Aircraft model (example: EC-47)_\n",
        "- ContryFlyingMission: _Country_\n",
        "- MissionDate: _Date of the mission_\n",
        "- OperationSupported: _Supported War operation_ (example: [Operation Rolling Thunder](https://en.wikipedia.org/wiki/Operation_Rolling_Thunder))\n",
        "- PeriodOfDay: _Day or night_\n",
        "- TakeoffLocation: _Take off airport_\n",
        "- TimeOnTarget\n",
        "- WeaponType\n",
        "- WeaponsLoadedWeight\n",
        "\n",
        "**Aircraft_Glossary** [Get the dataset here](https://drive.google.com/a/epfl.ch/file/d/14dyBmcTBA32uXPxDbqr0bFDIzGxMTWwl/view?usp=sharing)\n",
        "\n",
        "- AirCraft: _Aircraft model (example: EC-47)_\n",
        "- AirCraftName\n",
        "- AirCraftType\n",
        "\n",
        "**Dataset Information:**\n",
        "\n",
        "THOR is a painstakingly cultivated database of historic aerial bombings from World War I through Vietnam. THOR has already proven useful in finding unexploded ordnance in Southeast Asia and improving Air Force combat tactics:\n",
        "https://www.kaggle.com/usaf/vietnam-war-bombing-operations"
      ]
    },
    {
      "cell_type": "markdown",
      "metadata": {
        "id": "VSWoULeWSagJ"
      },
      "source": [
        "Load the datasets:"
      ]
    },
    {
      "cell_type": "code",
      "metadata": {
        "id": "XLyVPuLXSagK",
        "outputId": "5089e383-592b-4427-f973-57df413f44f6",
        "colab": {
          "base_uri": "https://localhost:8080/"
        }
      },
      "source": [
        "# your code goes here\n",
        "# unzip\n",
        "!gunzip Aircraft_Glossary.json.gz\n",
        "!gunzip Bombing_Operations.json.gz"
      ],
      "execution_count": 33,
      "outputs": [
        {
          "output_type": "stream",
          "text": [
            "gzip: Aircraft_Glossary.json already exists; do you wish to overwrite (y or n)? y\n",
            "gzip: Bombing_Operations.json already exists; do you wish to overwrite (y or n)? y\n"
          ],
          "name": "stdout"
        }
      ]
    },
    {
      "cell_type": "code",
      "metadata": {
        "id": "TGP66oZcDBdS"
      },
      "source": [
        "# load json\n",
        "Aircraft_Glossary = spark.read.json('Aircraft_Glossary.json')\n",
        "Bombing_Operations = spark.read.json('Bombing_Operations.json')"
      ],
      "execution_count": 34,
      "outputs": []
    },
    {
      "cell_type": "markdown",
      "metadata": {
        "id": "MP2JmCeoSagM"
      },
      "source": [
        "Check the schema:"
      ]
    },
    {
      "cell_type": "code",
      "metadata": {
        "id": "KpUT8viNSagM",
        "outputId": "467999ef-c3e8-4a04-d264-55d0cd2f5426",
        "colab": {
          "base_uri": "https://localhost:8080/"
        }
      },
      "source": [
        "# your code goes here\n",
        "Aircraft_Glossary.printSchema()"
      ],
      "execution_count": 35,
      "outputs": [
        {
          "output_type": "stream",
          "text": [
            "root\n",
            " |-- AirCraft: string (nullable = true)\n",
            " |-- AirCraftName: string (nullable = true)\n",
            " |-- AirCraftType: string (nullable = true)\n",
            "\n"
          ],
          "name": "stdout"
        }
      ]
    },
    {
      "cell_type": "code",
      "metadata": {
        "id": "6LJsbmlxSagO",
        "outputId": "681b86d1-dd0c-4ce0-a01b-8022e75d511e",
        "colab": {
          "base_uri": "https://localhost:8080/"
        }
      },
      "source": [
        "# your code goes here\n",
        "Bombing_Operations.printSchema()"
      ],
      "execution_count": 36,
      "outputs": [
        {
          "output_type": "stream",
          "text": [
            "root\n",
            " |-- AirCraft: string (nullable = true)\n",
            " |-- ContryFlyingMission: string (nullable = true)\n",
            " |-- MissionDate: string (nullable = true)\n",
            " |-- OperationSupported: string (nullable = true)\n",
            " |-- PeriodOfDay: string (nullable = true)\n",
            " |-- TakeoffLocation: string (nullable = true)\n",
            " |-- TargetCountry: string (nullable = true)\n",
            " |-- TimeOnTarget: double (nullable = true)\n",
            " |-- WeaponType: string (nullable = true)\n",
            " |-- WeaponsLoadedWeight: long (nullable = true)\n",
            "\n"
          ],
          "name": "stdout"
        }
      ]
    },
    {
      "cell_type": "markdown",
      "metadata": {
        "id": "1jP5IBezSagQ"
      },
      "source": [
        "Get a sample with `take()`:"
      ]
    },
    {
      "cell_type": "code",
      "metadata": {
        "id": "jrJpiG5ISagQ",
        "outputId": "22b84f48-b8a3-4351-a034-d87e15089274",
        "colab": {
          "base_uri": "https://localhost:8080/"
        }
      },
      "source": [
        "# your code goes here\n",
        "Aircraft_Glossary.take(10)"
      ],
      "execution_count": 37,
      "outputs": [
        {
          "output_type": "execute_result",
          "data": {
            "text/plain": [
              "[Row(AirCraft='A-1', AirCraftName='Douglas A-1 Skyraider', AirCraftType='Fighter Jet'),\n",
              " Row(AirCraft='A-26', AirCraftName='Douglas A-26 Invader', AirCraftType='Light Bomber'),\n",
              " Row(AirCraft='A-37', AirCraftName='Cessna A-37 Dragonfly', AirCraftType='Light ground-attack aircraft'),\n",
              " Row(AirCraft='A-4', AirCraftName='McDonnell Douglas A-4 Skyhawk', AirCraftType='Fighter Jet'),\n",
              " Row(AirCraft='A-5', AirCraftName='North American A-5 Vigilante', AirCraftType='Bomber Jet'),\n",
              " Row(AirCraft='A-6', AirCraftName='Grumman A-6 Intruder', AirCraftType='Attack Aircraft'),\n",
              " Row(AirCraft='A-7', AirCraftName='LTV A-7 Corsair II', AirCraftType='Attack Aircraft'),\n",
              " Row(AirCraft='AC-119', AirCraftName='Fairchild AC-119 Shadow or Stinger', AirCraftType='Military Transport aircraft'),\n",
              " Row(AirCraft='AC-123', AirCraftName='Fairchild C-123 Provider ', AirCraftType='Military Transport aircraft'),\n",
              " Row(AirCraft='AC-130', AirCraftName='Lockheed AC-130 Spectre', AirCraftType='Fixed wing ground attack gunship')]"
            ]
          },
          "metadata": {
            "tags": []
          },
          "execution_count": 37
        }
      ]
    },
    {
      "cell_type": "markdown",
      "metadata": {
        "id": "iu7n8KKjSagS"
      },
      "source": [
        "Get a formatted sample with `show()`:"
      ]
    },
    {
      "cell_type": "code",
      "metadata": {
        "id": "nwYZrwanSagT",
        "outputId": "2db3bfbb-97c6-4a3d-993c-48a4e5992935",
        "colab": {
          "base_uri": "https://localhost:8080/"
        }
      },
      "source": [
        "Aircraft_Glossary.show()"
      ],
      "execution_count": 38,
      "outputs": [
        {
          "output_type": "stream",
          "text": [
            "+--------+--------------------+--------------------+\n",
            "|AirCraft|        AirCraftName|        AirCraftType|\n",
            "+--------+--------------------+--------------------+\n",
            "|     A-1|Douglas A-1 Skyra...|         Fighter Jet|\n",
            "|    A-26|Douglas A-26 Invader|        Light Bomber|\n",
            "|    A-37|Cessna A-37 Drago...|Light ground-atta...|\n",
            "|     A-4|McDonnell Douglas...|         Fighter Jet|\n",
            "|     A-5|North American A-...|          Bomber Jet|\n",
            "|     A-6|Grumman A-6 Intruder|     Attack Aircraft|\n",
            "|     A-7|  LTV A-7 Corsair II|     Attack Aircraft|\n",
            "|  AC-119|Fairchild AC-119 ...|Military Transpor...|\n",
            "|  AC-123|Fairchild C-123 P...|Military Transpor...|\n",
            "|  AC-130|Lockheed AC-130 S...|Fixed wing ground...|\n",
            "|   AC-47|Douglas AC-47 Spooky|Ground attack air...|\n",
            "|    AH-1| Bell AH-1 HueyCobra|          Helicopter|\n",
            "|     B-1| Rockwell B-1 Lancer|Heavy strategic b...|\n",
            "|    B-52| B-52 Stratofortress|    Strategic bomber|\n",
            "|    B-57|Martin B-57 Canberra|     Tactical Bomber|\n",
            "|    B-66|Douglas B-66 Dest...|        Light Bomber|\n",
            "|     C-1| Grumman C-1A Trader|           Transport|\n",
            "|   C-117|     C-117D Skytrain|           Transport|\n",
            "|   C-119|Fairchild C-119 F...|Military Transpor...|\n",
            "|   C-123|Fairchild C-123 P...|Military Transpor...|\n",
            "+--------+--------------------+--------------------+\n",
            "only showing top 20 rows\n",
            "\n"
          ],
          "name": "stdout"
        }
      ]
    },
    {
      "cell_type": "code",
      "metadata": {
        "id": "hMAab2rJSagU",
        "outputId": "7d4785ae-1a04-4f20-f984-183e023aca44",
        "colab": {
          "base_uri": "https://localhost:8080/"
        }
      },
      "source": [
        "print(\"In total there are {0} operations\".format(Bombing_Operations.count()))"
      ],
      "execution_count": 39,
      "outputs": [
        {
          "output_type": "stream",
          "text": [
            "In total there are 4400775 operations\n"
          ],
          "name": "stdout"
        }
      ]
    },
    {
      "cell_type": "markdown",
      "metadata": {
        "id": "hkKWEEcLSagW"
      },
      "source": [
        "## Question 1: Which countries are involved and in how many missions? \n",
        "\n",
        "Keywords: `Dataframe API`, `SQL`, `group by`, `sort`"
      ]
    },
    {
      "cell_type": "markdown",
      "metadata": {
        "id": "MwPL1-P5SagW"
      },
      "source": [
        "Let's group the missions by `ContryFlyingMission` and count how many records exist:"
      ]
    },
    {
      "cell_type": "code",
      "metadata": {
        "scrolled": true,
        "id": "BWcMVcgwSagX",
        "outputId": "78f2ff53-da02-4a70-fbfa-91591c7593ce",
        "colab": {
          "base_uri": "https://localhost:8080/"
        }
      },
      "source": [
        "# your code goes here\n",
        "mission_record = Bombing_Operations.groupBy('ContryFlyingMission')\\\n",
        "        .agg(count(\"*\").alias(\"MissionsCount\"))\\\n",
        "             .sort(desc(\"MissionsCount\"))\n",
        "mission_record.show()"
      ],
      "execution_count": 40,
      "outputs": [
        {
          "output_type": "stream",
          "text": [
            "+--------------------+-------------+\n",
            "| ContryFlyingMission|MissionsCount|\n",
            "+--------------------+-------------+\n",
            "|UNITED STATES OF ...|      3708997|\n",
            "|     VIETNAM (SOUTH)|       622013|\n",
            "|                LAOS|        32777|\n",
            "|       KOREA (SOUTH)|        24469|\n",
            "|           AUSTRALIA|        12519|\n",
            "+--------------------+-------------+\n",
            "\n"
          ],
          "name": "stdout"
        }
      ]
    },
    {
      "cell_type": "markdown",
      "metadata": {
        "id": "5wQNXQnOSaga"
      },
      "source": [
        "The Dataframe is small enough to be moved to Pandas. Use `toPandas()` to do so."
      ]
    },
    {
      "cell_type": "code",
      "metadata": {
        "id": "4nVJdPLDSagb",
        "outputId": "f4f0dea1-218e-4dce-8e38-8ee70294409d",
        "colab": {
          "base_uri": "https://localhost:8080/",
          "height": 202
        }
      },
      "source": [
        "# your code goes here\n",
        "# 更美观了\n",
        "mission_record_pd = mission_record.toPandas()\n",
        "display(mission_record_pd)"
      ],
      "execution_count": 41,
      "outputs": [
        {
          "output_type": "display_data",
          "data": {
            "text/html": [
              "<div>\n",
              "<style scoped>\n",
              "    .dataframe tbody tr th:only-of-type {\n",
              "        vertical-align: middle;\n",
              "    }\n",
              "\n",
              "    .dataframe tbody tr th {\n",
              "        vertical-align: top;\n",
              "    }\n",
              "\n",
              "    .dataframe thead th {\n",
              "        text-align: right;\n",
              "    }\n",
              "</style>\n",
              "<table border=\"1\" class=\"dataframe\">\n",
              "  <thead>\n",
              "    <tr style=\"text-align: right;\">\n",
              "      <th></th>\n",
              "      <th>ContryFlyingMission</th>\n",
              "      <th>MissionsCount</th>\n",
              "    </tr>\n",
              "  </thead>\n",
              "  <tbody>\n",
              "    <tr>\n",
              "      <th>0</th>\n",
              "      <td>UNITED STATES OF AMERICA</td>\n",
              "      <td>3708997</td>\n",
              "    </tr>\n",
              "    <tr>\n",
              "      <th>1</th>\n",
              "      <td>VIETNAM (SOUTH)</td>\n",
              "      <td>622013</td>\n",
              "    </tr>\n",
              "    <tr>\n",
              "      <th>2</th>\n",
              "      <td>LAOS</td>\n",
              "      <td>32777</td>\n",
              "    </tr>\n",
              "    <tr>\n",
              "      <th>3</th>\n",
              "      <td>KOREA (SOUTH)</td>\n",
              "      <td>24469</td>\n",
              "    </tr>\n",
              "    <tr>\n",
              "      <th>4</th>\n",
              "      <td>AUSTRALIA</td>\n",
              "      <td>12519</td>\n",
              "    </tr>\n",
              "  </tbody>\n",
              "</table>\n",
              "</div>"
            ],
            "text/plain": [
              "        ContryFlyingMission  MissionsCount\n",
              "0  UNITED STATES OF AMERICA        3708997\n",
              "1           VIETNAM (SOUTH)         622013\n",
              "2                      LAOS          32777\n",
              "3             KOREA (SOUTH)          24469\n",
              "4                 AUSTRALIA          12519"
            ]
          },
          "metadata": {
            "tags": []
          }
        }
      ]
    },
    {
      "cell_type": "markdown",
      "metadata": {
        "id": "VQedtuQZSagc"
      },
      "source": [
        "Let's plot a barchart with the number of missions by country:"
      ]
    },
    {
      "cell_type": "code",
      "metadata": {
        "id": "tgbceprDSagd",
        "outputId": "1309c6ec-a7cf-4cf5-9b39-0e1c8de01b88",
        "colab": {
          "base_uri": "https://localhost:8080/",
          "height": 608
        }
      },
      "source": [
        "# your code goes here\n",
        "\n",
        "pl = mission_record_pd.plot(kind=\"bar\",x=\"ContryFlyingMission\", y=\"MissionsCount\", \n",
        "              figsize=(10, 7), log=True, alpha=0.5, color=\"olive\")\n",
        "pl.set_xlabel(\"Country\")\n",
        "pl.set_ylabel(\"Number of Missions (Log scale)\")\n",
        "pl.set_title(\"Number of missions by contry\")"
      ],
      "execution_count": 43,
      "outputs": [
        {
          "output_type": "execute_result",
          "data": {
            "text/plain": [
              "Text(0.5, 1.0, 'Number of missions by contry')"
            ]
          },
          "metadata": {
            "tags": []
          },
          "execution_count": 43
        },
        {
          "output_type": "display_data",
          "data": {
            "image/png": "[encoded data removed]",
            "text/plain": [
              "<Figure size 720x504 with 1 Axes>"
            ]
          },
          "metadata": {
            "tags": [],
            "needs_background": "light"
          }
        }
      ]
    },
    {
      "cell_type": "markdown",
      "metadata": {
        "id": "1jCZfwK2Sage"
      },
      "source": [
        "----"
      ]
    },
    {
      "cell_type": "markdown",
      "metadata": {
        "id": "LLan66cXSagf"
      },
      "source": [
        "## Questions 2: Show the number of missions in time for each of the countries involved.\n",
        "\n",
        "Keywords: `group by`, `parse date`, `plot`\n",
        "\n",
        "Let's select the relevant columns:"
      ]
    },
    {
      "cell_type": "code",
      "metadata": {
        "id": "BXNKt5PHSagf",
        "outputId": "21319b6e-5bc1-4604-ab59-ff277ba1f1a5",
        "colab": {
          "base_uri": "https://localhost:8080/"
        }
      },
      "source": [
        "# your code goes here\n",
        "mission_country = Bombing_Operations.selectExpr([\"to_date(MissionDate) as MissionDate\", \"ContryFlyingMission\"])\n",
        "mission_country.show()"
      ],
      "execution_count": 23,
      "outputs": [
        {
          "output_type": "stream",
          "text": [
            "+-----------+--------------------+\n",
            "|MissionDate| ContryFlyingMission|\n",
            "+-----------+--------------------+\n",
            "| 1971-06-05|UNITED STATES OF ...|\n",
            "| 1972-12-26|UNITED STATES OF ...|\n",
            "| 1973-07-28|UNITED STATES OF ...|\n",
            "| 1970-02-02|UNITED STATES OF ...|\n",
            "| 1970-10-08|     VIETNAM (SOUTH)|\n",
            "| 1970-11-25|UNITED STATES OF ...|\n",
            "| 1972-03-08|UNITED STATES OF ...|\n",
            "| 1971-12-27|UNITED STATES OF ...|\n",
            "| 1972-05-24|UNITED STATES OF ...|\n",
            "| 1972-09-12|UNITED STATES OF ...|\n",
            "| 1974-06-13|UNITED STATES OF ...|\n",
            "| 1974-12-19|UNITED STATES OF ...|\n",
            "| 1973-10-24|     VIETNAM (SOUTH)|\n",
            "| 1974-03-19|     VIETNAM (SOUTH)|\n",
            "| 1970-05-08|UNITED STATES OF ...|\n",
            "| 1971-05-12|UNITED STATES OF ...|\n",
            "| 1971-12-03|UNITED STATES OF ...|\n",
            "| 1971-12-19|                LAOS|\n",
            "| 1972-08-18|UNITED STATES OF ...|\n",
            "| 1972-10-15|UNITED STATES OF ...|\n",
            "+-----------+--------------------+\n",
            "only showing top 20 rows\n",
            "\n"
          ],
          "name": "stdout"
        }
      ]
    },
    {
      "cell_type": "markdown",
      "metadata": {
        "id": "da9IeKntSagh"
      },
      "source": [
        "The filed MissionDate is converted to a Python `date` object.\n",
        "\n",
        "Now we can group by `MissionDate` and `ContryFlyingMission` to get the count:"
      ]
    },
    {
      "cell_type": "code",
      "metadata": {
        "id": "TLza0bF9Sagh",
        "outputId": "eaa72724-78f7-463d-aa0a-6bf47e0ec2fa",
        "colab": {
          "base_uri": "https://localhost:8080/"
        }
      },
      "source": [
        "# your code goes here\n",
        "mission_count = mission_country.groupBy(['MissionDate', 'ContryFlyingMission'])\\\n",
        "                    .agg(count('*').alias('MissionCount'))\\\n",
        "                    .sort(desc('MissionCount'))\n",
        "mission_count.show()"
      ],
      "execution_count": 45,
      "outputs": [
        {
          "output_type": "stream",
          "text": [
            "+-----------+--------------------+------------+\n",
            "|MissionDate| ContryFlyingMission|MissionCount|\n",
            "+-----------+--------------------+------------+\n",
            "| 1968-06-07|UNITED STATES OF ...|        3832|\n",
            "| 1968-09-16|UNITED STATES OF ...|        3755|\n",
            "| 1968-09-18|UNITED STATES OF ...|        3752|\n",
            "| 1968-09-17|UNITED STATES OF ...|        3706|\n",
            "| 1968-05-11|UNITED STATES OF ...|        3692|\n",
            "| 1968-09-14|UNITED STATES OF ...|        3646|\n",
            "| 1968-06-16|UNITED STATES OF ...|        3639|\n",
            "| 1968-06-23|UNITED STATES OF ...|        3630|\n",
            "| 1968-06-11|UNITED STATES OF ...|        3628|\n",
            "| 1968-09-19|UNITED STATES OF ...|        3614|\n",
            "| 1968-05-25|UNITED STATES OF ...|        3605|\n",
            "| 1968-05-22|UNITED STATES OF ...|        3590|\n",
            "| 1968-06-19|UNITED STATES OF ...|        3582|\n",
            "| 1968-09-15|UNITED STATES OF ...|        3568|\n",
            "| 1968-05-13|UNITED STATES OF ...|        3531|\n",
            "| 1968-05-26|UNITED STATES OF ...|        3530|\n",
            "| 1968-09-28|UNITED STATES OF ...|        3517|\n",
            "| 1968-09-08|UNITED STATES OF ...|        3511|\n",
            "| 1968-05-19|UNITED STATES OF ...|        3502|\n",
            "| 1968-06-24|UNITED STATES OF ...|        3501|\n",
            "+-----------+--------------------+------------+\n",
            "only showing top 20 rows\n",
            "\n"
          ],
          "name": "stdout"
        }
      ]
    },
    {
      "cell_type": "markdown",
      "metadata": {
        "id": "IAhOE55wSagj"
      },
      "source": [
        "Now we can plot the content with a different series for each country:"
      ]
    },
    {
      "cell_type": "code",
      "metadata": {
        "id": "wLq6ulAySagl"
      },
      "source": [
        "# your code goes here\n",
        "mission_count_pd = mission_count.toPandas()"
      ],
      "execution_count": 48,
      "outputs": []
    },
    {
      "cell_type": "code",
      "metadata": {
        "id": "AdsWiGCmY5yc",
        "outputId": "7c90b1d7-6bc4-466c-b2a0-4895f4ac7a13",
        "colab": {
          "base_uri": "https://localhost:8080/",
          "height": 394
        }
      },
      "source": [
        "fig = plt.figure(figsize=(10, 6))\n",
        "\n",
        "# iterate the different groups to create a different series\n",
        "for country, missions in mission_count_pd.groupby(\"ContryFlyingMission\"): \n",
        "    plt.plot(missions[\"MissionDate\"], missions[\"MissionCount\"], label=country)\n",
        "\n",
        "plt.legend(loc='best')"
      ],
      "execution_count": 51,
      "outputs": [
        {
          "output_type": "execute_result",
          "data": {
            "text/plain": [
              "<matplotlib.legend.Legend at 0x7fb71b2ac780>"
            ]
          },
          "metadata": {
            "tags": []
          },
          "execution_count": 51
        },
        {
          "output_type": "display_data",
          "data": {
            "image/png": "[encoded data removed]",
            "text/plain": [
              "<Figure size 720x432 with 1 Axes>"
            ]
          },
          "metadata": {
            "tags": [],
            "needs_background": "light"
          }
        }
      ]
    },
    {
      "cell_type": "markdown",
      "metadata": {
        "id": "GEMzTwxGSagp"
      },
      "source": [
        "We can observe how South Vietnam increased its missions starting from 1970. The drop in 1973 is motivated by the [Paris Peace Accords](https://en.wikipedia.org/wiki/Paris_Peace_Accords) that took place on January 27th, 1973, to establish peace in Vietnam and end the war."
      ]
    },
    {
      "cell_type": "markdown",
      "metadata": {
        "id": "dl6m0B6iSagp"
      },
      "source": [
        "----"
      ]
    },
    {
      "cell_type": "markdown",
      "metadata": {
        "id": "uEwBspLySagp"
      },
      "source": [
        "## Question 3: Who bombed this location?\n",
        "\n",
        "Keywords: `RDD map reduce` `cache` `save results`\n",
        "\n",
        "<img style=\"float: right;\" src=\"https://raw.githubusercontent.com/epfl-ada/2019/c17af0d3c73f11cb083717b7408fedd86245dc4d/Tutorials/04%20-%20Scaling%20Up/img/Hanoi_POL1966.jpg\">\n",
        "\n",
        "This picture is the Hanoi POL facility (North Vietnam) burning after it was attacked by the U.S. Air Force on 29 June 1966 in the context of the Rolling Thunder operation. \n",
        "\n",
        "We are interested in discovering what was the most common take-off location during that day."
      ]
    },
    {
      "cell_type": "code",
      "metadata": {
        "id": "uq6jqsgBSagq"
      },
      "source": [
        "jun_29_operations = Bombing_Operations.where(\"MissionDate = '1966-06-29' AND TargetCountry='NORTH VIETNAM'\")"
      ],
      "execution_count": 52,
      "outputs": []
    },
    {
      "cell_type": "markdown",
      "metadata": {
        "id": "Qurjwd0zSagr"
      },
      "source": [
        "Which coutries scheduled missions that day?"
      ]
    },
    {
      "cell_type": "code",
      "metadata": {
        "id": "uoiVSE7NSags",
        "outputId": "b48c7373-0fc4-4609-a6d4-8bd3d18e9060",
        "colab": {
          "base_uri": "https://localhost:8080/",
          "height": 110
        }
      },
      "source": [
        "# your code goes here\n",
        "mission_count_pd = jun_29_operations.groupBy(\"ContryFlyingMission\").agg(count(\"*\").alias(\"MissionsCount\")).toPandas()\n",
        "mission_count_pd"
      ],
      "execution_count": 55,
      "outputs": [
        {
          "output_type": "execute_result",
          "data": {
            "text/html": [
              "<div>\n",
              "<style scoped>\n",
              "    .dataframe tbody tr th:only-of-type {\n",
              "        vertical-align: middle;\n",
              "    }\n",
              "\n",
              "    .dataframe tbody tr th {\n",
              "        vertical-align: top;\n",
              "    }\n",
              "\n",
              "    .dataframe thead th {\n",
              "        text-align: right;\n",
              "    }\n",
              "</style>\n",
              "<table border=\"1\" class=\"dataframe\">\n",
              "  <thead>\n",
              "    <tr style=\"text-align: right;\">\n",
              "      <th></th>\n",
              "      <th>ContryFlyingMission</th>\n",
              "      <th>MissionsCount</th>\n",
              "    </tr>\n",
              "  </thead>\n",
              "  <tbody>\n",
              "    <tr>\n",
              "      <th>0</th>\n",
              "      <td>VIETNAM (SOUTH)</td>\n",
              "      <td>6</td>\n",
              "    </tr>\n",
              "    <tr>\n",
              "      <th>1</th>\n",
              "      <td>UNITED STATES OF AMERICA</td>\n",
              "      <td>389</td>\n",
              "    </tr>\n",
              "  </tbody>\n",
              "</table>\n",
              "</div>"
            ],
            "text/plain": [
              "        ContryFlyingMission  MissionsCount\n",
              "0           VIETNAM (SOUTH)              6\n",
              "1  UNITED STATES OF AMERICA            389"
            ]
          },
          "metadata": {
            "tags": []
          },
          "execution_count": 55
        }
      ]
    },
    {
      "cell_type": "markdown",
      "metadata": {
        "id": "-0Q2bS4KSagt"
      },
      "source": [
        "Most of the operation that day were performed by USA airplanes."
      ]
    },
    {
      "cell_type": "code",
      "metadata": {
        "id": "cLec-CkmSagu",
        "outputId": "d18a67e6-9686-4bcc-9e4f-1d03042e1b4a",
        "colab": {
          "base_uri": "https://localhost:8080/"
        }
      },
      "source": [
        "# your code goes here\n",
        "mission_count_pd.iloc[1]"
      ],
      "execution_count": 58,
      "outputs": [
        {
          "output_type": "execute_result",
          "data": {
            "text/plain": [
              "ContryFlyingMission    UNITED STATES OF AMERICA\n",
              "MissionsCount                               389\n",
              "Name: 1, dtype: object"
            ]
          },
          "metadata": {
            "tags": []
          },
          "execution_count": 58
        }
      ]
    },
    {
      "cell_type": "markdown",
      "metadata": {
        "id": "77XdZuNDSagv"
      },
      "source": [
        "You can specify to cache the content in memory. Use `cache()` to do so."
      ]
    },
    {
      "cell_type": "code",
      "metadata": {
        "id": "q45a-OYwSagw",
        "outputId": "d6da18af-ffe0-446a-80ee-4f0f7113e788",
        "colab": {
          "base_uri": "https://localhost:8080/"
        }
      },
      "source": [
        "# your code goes here\n",
        "jun_29_operations.cache()"
      ],
      "execution_count": 59,
      "outputs": [
        {
          "output_type": "execute_result",
          "data": {
            "text/plain": [
              "DataFrame[AirCraft: string, ContryFlyingMission: string, MissionDate: string, OperationSupported: string, PeriodOfDay: string, TakeoffLocation: string, TargetCountry: string, TimeOnTarget: double, WeaponType: string, WeaponsLoadedWeight: bigint]"
            ]
          },
          "metadata": {
            "tags": []
          },
          "execution_count": 59
        }
      ]
    },
    {
      "cell_type": "markdown",
      "metadata": {
        "id": "feWOqgKISagx"
      },
      "source": [
        "Now you can count the number of rows and move the content to the cache:"
      ]
    },
    {
      "cell_type": "code",
      "metadata": {
        "id": "vIpLEQrlSagx",
        "outputId": "4c36c5cc-d6d4-4032-eb8a-5a66cec06a4f",
        "colab": {
          "base_uri": "https://localhost:8080/"
        }
      },
      "source": [
        "# your code goes here\n",
        "%time jun_29_operations.count()"
      ],
      "execution_count": 60,
      "outputs": [
        {
          "output_type": "stream",
          "text": [
            "CPU times: user 1.87 ms, sys: 920 µs, total: 2.79 ms\n",
            "Wall time: 8.5 s\n"
          ],
          "name": "stdout"
        },
        {
          "output_type": "execute_result",
          "data": {
            "text/plain": [
              "395"
            ]
          },
          "metadata": {
            "tags": []
          },
          "execution_count": 60
        }
      ]
    },
    {
      "cell_type": "markdown",
      "metadata": {
        "id": "uCTEq5LZSagz"
      },
      "source": [
        "The second time the content is cached and the operation is much faster. Use `%timeit` to see how much improvement we get."
      ]
    },
    {
      "cell_type": "code",
      "metadata": {
        "id": "6oZtHYspSagz",
        "outputId": "f1461e91-d931-435d-d778-1591c1d7e4bf",
        "colab": {
          "base_uri": "https://localhost:8080/"
        }
      },
      "source": [
        "# your code goes here\n",
        "# 快多了\n",
        "%time jun_29_operations.count()"
      ],
      "execution_count": 61,
      "outputs": [
        {
          "output_type": "stream",
          "text": [
            "CPU times: user 765 µs, sys: 93 µs, total: 858 µs\n",
            "Wall time: 91.2 ms\n"
          ],
          "name": "stdout"
        },
        {
          "output_type": "execute_result",
          "data": {
            "text/plain": [
              "395"
            ]
          },
          "metadata": {
            "tags": []
          },
          "execution_count": 61
        }
      ]
    },
    {
      "cell_type": "markdown",
      "metadata": {
        "id": "_4Hzke2kSag1"
      },
      "source": [
        "You can also save the results on a file... Use `write`."
      ]
    },
    {
      "cell_type": "code",
      "metadata": {
        "id": "4_2p0Ha9Sag1"
      },
      "source": [
        "# your code goes here\n",
        "jun_29_operations.write.mode('overwrite').json(\"jun_29_operations.json\")"
      ],
      "execution_count": 62,
      "outputs": []
    },
    {
      "cell_type": "markdown",
      "metadata": {
        "id": "OJwG61TNSag3"
      },
      "source": [
        "... and read from the file:"
      ]
    },
    {
      "cell_type": "code",
      "metadata": {
        "id": "JTe1l78_Sag4",
        "outputId": "05c66e48-6dd2-468c-9e1a-4a8c92e24497",
        "colab": {
          "base_uri": "https://localhost:8080/"
        }
      },
      "source": [
        "# your code goes here\n",
        "df = spark.read.json('jun_29_operations.json')\n",
        "df.show()"
      ],
      "execution_count": 64,
      "outputs": [
        {
          "output_type": "stream",
          "text": [
            "+--------+--------------------+-----------+------------------+-----------+----------------+-------------+------------+--------------+-------------------+\n",
            "|AirCraft| ContryFlyingMission|MissionDate|OperationSupported|PeriodOfDay| TakeoffLocation|TargetCountry|TimeOnTarget|    WeaponType|WeaponsLoadedWeight|\n",
            "+--------+--------------------+-----------+------------------+-----------+----------------+-------------+------------+--------------+-------------------+\n",
            "|    RF-4|UNITED STATES OF ...| 1966-06-29|              null|          N|    TAN SON NHUT|NORTH VIETNAM|      1303.0|   PHOTO EQUIP|                 -1|\n",
            "|     A-4|UNITED STATES OF ...| 1966-06-29|      ROLLING THUN|          D|          RANGER|NORTH VIETNAM|       450.0|   250LB MK-81|                 -1|\n",
            "|     A-4|UNITED STATES OF ...| 1966-06-29|      ROLLING THUN|          D|   CONSTELLATION|NORTH VIETNAM|       450.0|5.0IN HEAT RKT|                 -1|\n",
            "|   F-105|UNITED STATES OF ...| 1966-06-29|      ROLLING THUN|          D|          TAKHLI|NORTH VIETNAM|         0.0|          null|                 -1|\n",
            "|     F-4|UNITED STATES OF ...| 1966-06-29|      ROLLING THUN|          D|          RANGER|NORTH VIETNAM|       457.0|  1000LB MK-83|                 -1|\n",
            "|     A-4|UNITED STATES OF ...| 1966-06-29|      ROLLING THUN|          D|   CONSTELLATION|NORTH VIETNAM|      1135.0|   250LB MK-81|                 -1|\n",
            "|     A-1|UNITED STATES OF ...| 1966-06-29|      ROLLING THUN|          D|        UDORN AB|NORTH VIETNAM|        20.0|500BLU11/23/32|                 -1|\n",
            "|     A-4|UNITED STATES OF ...| 1966-06-29|      ROLLING THUN|          D|   CONSTELLATION|NORTH VIETNAM|       450.0|   250LB MK-81|                 -1|\n",
            "|     A-4|UNITED STATES OF ...| 1966-06-29|      ROLLING THUN|          N|HANCOCK (CVA-19)|NORTH VIETNAM|      2120.0|   250LB MK-81|                 -1|\n",
            "|     A-4|UNITED STATES OF ...| 1966-06-29|      ROLLING THUN|          D|   CONSTELLATION|NORTH VIETNAM|       335.0|   250LB MK-81|                 -1|\n",
            "|   F-105|UNITED STATES OF ...| 1966-06-29|      ROLLING THUN|          D|          TAKHLI|NORTH VIETNAM|        15.0|  1000LB MK-83|                 -1|\n",
            "|   F-105|UNITED STATES OF ...| 1966-06-29|         IRON HAND|          D|           KORAT|NORTH VIETNAM|       510.0| 2.75IN HE RKT|                 -1|\n",
            "|  RF-101|UNITED STATES OF ...| 1966-06-29|              null|          D|        UDORN AB|NORTH VIETNAM|       226.0|   PHOTO EQUIP|                 -1|\n",
            "|     A-4|UNITED STATES OF ...| 1966-06-29|      ROLLING THUN|          N|HANCOCK (CVA-19)|NORTH VIETNAM|         0.0|          null|                 -1|\n",
            "|    B-57|UNITED STATES OF ...| 1966-06-29|      ROLLING THUN|          N|          DANANG|NORTH VIETNAM|      1425.0|          null|                 -1|\n",
            "|  RF-101|UNITED STATES OF ...| 1966-06-29|              null|          D|        UDORN AB|NORTH VIETNAM|       740.0|   PHOTO EQUIP|                 -1|\n",
            "|   F-105|UNITED STATES OF ...| 1966-06-29|      ROLLING THUN|          D|           KORAT|NORTH VIETNAM|      1045.0|  3000LB M-118|                 -1|\n",
            "|     A-4|UNITED STATES OF ...| 1966-06-29|      ROLLING THUN|          D|   CONSTELLATION|NORTH VIETNAM|       223.0|   250LB MK-81|                 -1|\n",
            "|   F-105|UNITED STATES OF ...| 1966-06-29|      ROLLING THUN|       null|          TAKHLI|NORTH VIETNAM|       320.0|          null|                 -1|\n",
            "|     A-3|UNITED STATES OF ...| 1966-06-29|      ROLLING THUN|          N|   CONSTELLATION|NORTH VIETNAM|         0.0|          null|                 -1|\n",
            "+--------+--------------------+-----------+------------------+-----------+----------------+-------------+------------+--------------+-------------------+\n",
            "only showing top 20 rows\n",
            "\n"
          ],
          "name": "stdout"
        }
      ]
    },
    {
      "cell_type": "markdown",
      "metadata": {
        "id": "DEW08u3_Sag6"
      },
      "source": [
        "Finally, group the records by take-off location, and show the mission counts for each location, in descending order."
      ]
    },
    {
      "cell_type": "code",
      "metadata": {
        "id": "UYO-CuHISag8",
        "outputId": "57f1b061-42da-4405-85a6-4936e3486831",
        "colab": {
          "base_uri": "https://localhost:8080/"
        }
      },
      "source": [
        "# your code goes here\n",
        "tmp = df.groupBy('TakeoffLocation').agg(count('*').alias('counts')).sort(desc('counts'))\n",
        "tmp.show()"
      ],
      "execution_count": 66,
      "outputs": [
        {
          "output_type": "stream",
          "text": [
            "+----------------+------+\n",
            "| TakeoffLocation|counts|\n",
            "+----------------+------+\n",
            "|   CONSTELLATION|    87|\n",
            "|          TAKHLI|    56|\n",
            "|           KORAT|    55|\n",
            "|        UDORN AB|    44|\n",
            "|         UBON AB|    44|\n",
            "|          DANANG|    35|\n",
            "|          RANGER|    35|\n",
            "|    TAN SON NHUT|    26|\n",
            "|HANCOCK (CVA-19)|    10|\n",
            "|    CAM RANH BAY|     2|\n",
            "|         CUBI PT|     1|\n",
            "+----------------+------+\n",
            "\n"
          ],
          "name": "stdout"
        }
      ]
    },
    {
      "cell_type": "markdown",
      "metadata": {
        "id": "cE8asfBPSahD"
      },
      "source": [
        "<img style=\"float: right;\" src=\"https://raw.githubusercontent.com/epfl-ada/2019/c17af0d3c73f11cb083717b7408fedd86245dc4d/Tutorials/04%20-%20Scaling%20Up/img/USS_Constellation.jpg\">\n",
        "\n",
        "\n",
        "That day the most common take-off location was the ship USS Constellation (CV-64). We cannot univocally identify one take off location, but we can reduce the possible candidates. Next steps: explore TimeOnTarget feature.\n",
        "\n",
        "_USS Constellation (CV-64), a Kitty Hawk-class supercarrier, was the third ship of the United States Navy to be named in honor of the \"new constellation of stars\" on the flag of the United States. One of the fastest ships in the Navy, as proven by her victory during a battlegroup race held in 1985, she was nicknamed \"Connie\" by her crew and officially as \"America's Flagship\"._"
      ]
    },
    {
      "cell_type": "markdown",
      "metadata": {
        "id": "lKKM6VS8SahD"
      },
      "source": [
        "----"
      ]
    },
    {
      "cell_type": "markdown",
      "metadata": {
        "id": "aaiVcdF8SahD"
      },
      "source": [
        "## Questions 4: What is the most used aircraft type during the Vietnam war (number of missions)?\n",
        "\n",
        "Keywords: `join` `group by`"
      ]
    },
    {
      "cell_type": "markdown",
      "metadata": {
        "id": "xnV48FZlSahG"
      },
      "source": [
        "Let's check the content of `Aircraft_Glossary`. Have a look at it using `show`."
      ]
    },
    {
      "cell_type": "code",
      "metadata": {
        "id": "yovhBV5sSahI",
        "outputId": "af0f0883-e713-4e14-ac88-44f815d5c685",
        "colab": {
          "base_uri": "https://localhost:8080/"
        }
      },
      "source": [
        "# your code goes here\n",
        "Aircraft_Glossary.show()"
      ],
      "execution_count": 68,
      "outputs": [
        {
          "output_type": "stream",
          "text": [
            "+--------+--------------------+--------------------+\n",
            "|AirCraft|        AirCraftName|        AirCraftType|\n",
            "+--------+--------------------+--------------------+\n",
            "|     A-1|Douglas A-1 Skyra...|         Fighter Jet|\n",
            "|    A-26|Douglas A-26 Invader|        Light Bomber|\n",
            "|    A-37|Cessna A-37 Drago...|Light ground-atta...|\n",
            "|     A-4|McDonnell Douglas...|         Fighter Jet|\n",
            "|     A-5|North American A-...|          Bomber Jet|\n",
            "|     A-6|Grumman A-6 Intruder|     Attack Aircraft|\n",
            "|     A-7|  LTV A-7 Corsair II|     Attack Aircraft|\n",
            "|  AC-119|Fairchild AC-119 ...|Military Transpor...|\n",
            "|  AC-123|Fairchild C-123 P...|Military Transpor...|\n",
            "|  AC-130|Lockheed AC-130 S...|Fixed wing ground...|\n",
            "|   AC-47|Douglas AC-47 Spooky|Ground attack air...|\n",
            "|    AH-1| Bell AH-1 HueyCobra|          Helicopter|\n",
            "|     B-1| Rockwell B-1 Lancer|Heavy strategic b...|\n",
            "|    B-52| B-52 Stratofortress|    Strategic bomber|\n",
            "|    B-57|Martin B-57 Canberra|     Tactical Bomber|\n",
            "|    B-66|Douglas B-66 Dest...|        Light Bomber|\n",
            "|     C-1| Grumman C-1A Trader|           Transport|\n",
            "|   C-117|     C-117D Skytrain|           Transport|\n",
            "|   C-119|Fairchild C-119 F...|Military Transpor...|\n",
            "|   C-123|Fairchild C-123 P...|Military Transpor...|\n",
            "+--------+--------------------+--------------------+\n",
            "only showing top 20 rows\n",
            "\n"
          ],
          "name": "stdout"
        }
      ]
    },
    {
      "cell_type": "markdown",
      "metadata": {
        "id": "yO0ExxRoSahJ"
      },
      "source": [
        "We are interested in the filed `AirCraftType`. Have a look at it using `show`."
      ]
    },
    {
      "cell_type": "code",
      "metadata": {
        "id": "Z4DnpCTmSahJ",
        "outputId": "5c115554-ea7e-49de-91dd-46fe5a6278c7",
        "colab": {
          "base_uri": "https://localhost:8080/"
        }
      },
      "source": [
        "# your code goes here\n",
        "Aircraft_Glossary.select('AirCraftType').show()"
      ],
      "execution_count": 69,
      "outputs": [
        {
          "output_type": "stream",
          "text": [
            "+--------------------+\n",
            "|        AirCraftType|\n",
            "+--------------------+\n",
            "|         Fighter Jet|\n",
            "|        Light Bomber|\n",
            "|Light ground-atta...|\n",
            "|         Fighter Jet|\n",
            "|          Bomber Jet|\n",
            "|     Attack Aircraft|\n",
            "|     Attack Aircraft|\n",
            "|Military Transpor...|\n",
            "|Military Transpor...|\n",
            "|Fixed wing ground...|\n",
            "|Ground attack air...|\n",
            "|          Helicopter|\n",
            "|Heavy strategic b...|\n",
            "|    Strategic bomber|\n",
            "|     Tactical Bomber|\n",
            "|        Light Bomber|\n",
            "|           Transport|\n",
            "|           Transport|\n",
            "|Military Transpor...|\n",
            "|Military Transpor...|\n",
            "+--------------------+\n",
            "only showing top 20 rows\n",
            "\n"
          ],
          "name": "stdout"
        }
      ]
    },
    {
      "cell_type": "markdown",
      "metadata": {
        "id": "Z97Y9DuUSahK"
      },
      "source": [
        "Join the two dataframes on the column `AirCraft` of both dataframes. Use `join` to create a dataframe `missions_joines`:"
      ]
    },
    {
      "cell_type": "code",
      "metadata": {
        "id": "s3j3Fu8kSahL",
        "outputId": "a9e3b9c0-77ad-42e1-b997-028ebe380cd8",
        "colab": {
          "base_uri": "https://localhost:8080/"
        }
      },
      "source": [
        "# your code goes here\n",
        "missions_joined = Bombing_Operations.join(Aircraft_Glossary, Bombing_Operations.AirCraft == Aircraft_Glossary.AirCraft)\n",
        "missions_joined.show()"
      ],
      "execution_count": 71,
      "outputs": [
        {
          "output_type": "stream",
          "text": [
            "+--------+--------------------+-----------+------------------+-----------+---------------+-------------+------------+--------------------+-------------------+--------+--------------------+--------------------+\n",
            "|AirCraft| ContryFlyingMission|MissionDate|OperationSupported|PeriodOfDay|TakeoffLocation|TargetCountry|TimeOnTarget|          WeaponType|WeaponsLoadedWeight|AirCraft|        AirCraftName|        AirCraftType|\n",
            "+--------+--------------------+-----------+------------------+-----------+---------------+-------------+------------+--------------------+-------------------+--------+--------------------+--------------------+\n",
            "|   EC-47|UNITED STATES OF ...| 1971-06-05|              null|          D|   TAN SON NHUT|     CAMBODIA|      1005.0|                null|                  0|   EC-47|Douglas C-47 Skyt...|Military Transpor...|\n",
            "|   EC-47|UNITED STATES OF ...| 1972-12-26|              null|          D|  NAKHON PHANOM|SOUTH VIETNAM|       530.0|                null|                  0|   EC-47|Douglas C-47 Skyt...|Military Transpor...|\n",
            "|    RF-4|UNITED STATES OF ...| 1973-07-28|              null|          D|       UDORN AB|         LAOS|       730.0|                null|                  0|    RF-4|McDonnell F-4 Pha...|  Fighter bomber jet|\n",
            "|     A-1|UNITED STATES OF ...| 1970-02-02|              null|          N|  NAKHON PHANOM|         LAOS|      1415.0|BLU27 FIRE BOMB (...|              17400|     A-1|Douglas A-1 Skyra...|         Fighter Jet|\n",
            "|    A-37|     VIETNAM (SOUTH)| 1970-10-08|              null|          D|         DANANG|SOUTH VIETNAM|      1240.0|                null|                  0|    A-37|Cessna A-37 Drago...|Light ground-atta...|\n",
            "|     F-4|UNITED STATES OF ...| 1970-11-25|              null|          D|        UBON AB|         LAOS|       650.0|MK 82 GP BOMB (50...|              31860|     F-4|McDonnell Douglas...|  Fighter Jet Bomber|\n",
            "|     A-4|UNITED STATES OF ...| 1972-03-08|              null|          D|    TONKIN GULF|         LAOS|      1005.0|                null|                  0|     A-4|McDonnell Douglas...|         Fighter Jet|\n",
            "|     F-4|UNITED STATES OF ...| 1971-12-27|              null|       null|       UDORN AB|         LAOS|         0.0|                null|                  0|     F-4|McDonnell Douglas...|  Fighter Jet Bomber|\n",
            "|     A-7|UNITED STATES OF ...| 1972-05-24|              null|       null|    TONKIN GULF|NORTH VIETNAM|         0.0|                null|                  0|     A-7|  LTV A-7 Corsair II|     Attack Aircraft|\n",
            "|   EC-47|UNITED STATES OF ...| 1972-09-12|              null|          D|   TAN SON NHUT|SOUTH VIETNAM|       710.0|                null|                  0|   EC-47|Douglas C-47 Skyt...|Military Transpor...|\n",
            "|   CH-53|UNITED STATES OF ...| 1974-06-13|              null|          N|  NAKHON PHANOM|     THAILAND|      1800.0|                null|                  0|   CH-53|Sikorsky CH-53 Se...|Heavy-lift cargo ...|\n",
            "|   CH-53|UNITED STATES OF ...| 1974-12-19|              null|          D|  NAKHON PHANOM|     THAILAND|       800.0|                null|                  0|   CH-53|Sikorsky CH-53 Se...|Heavy-lift cargo ...|\n",
            "|     O-1|     VIETNAM (SOUTH)| 1973-10-24|              null|          D|      NHA TRANG|SOUTH VIETNAM|       800.0|                null|                  0|     O-1| Cessna O-1 Bird Dog|Observation Aircraft|\n",
            "|    UH-1|     VIETNAM (SOUTH)| 1974-03-19|              null|          D|        PHU CAT|SOUTH VIETNAM|       800.0|        CARGO (TONS)|                  0|    UH-1|  Bell UH-1 Iroquois|  Utility Helicopter|\n",
            "|     C-7|UNITED STATES OF ...| 1970-05-08|              null|          D|   TAN SON NHUT|SOUTH VIETNAM|       800.0|                null|                  0|     C-7|       C-7A Caribou |Military Transpor...|\n",
            "|     A-6|UNITED STATES OF ...| 1971-05-12|              null|          N|    TONKIN GULF|         LAOS|      1304.0|CBU24 AN PR/MT (B...|              33200|     A-6|Grumman A-6 Intruder|     Attack Aircraft|\n",
            "|   EB-66|UNITED STATES OF ...| 1971-12-03|              null|          N|          KORAT|         LAOS|      1445.0|                null|                  0|   EB-66|Douglas B-66 Dest...|Light Tactical Bo...|\n",
            "|    T-28|                LAOS| 1971-12-19|              null|          D|     SAVANAKHET|         LAOS|       230.0|                null|                  0|    T-28| T-28 Trojan Trainer|   Training Aircraft|\n",
            "|     A-6|UNITED STATES OF ...| 1972-08-18|              null|       null|    TONKIN GULF|NORTH VIETNAM|         0.0|                null|                  0|     A-6|Grumman A-6 Intruder|     Attack Aircraft|\n",
            "|     A-7|UNITED STATES OF ...| 1972-10-15|              null|          D|    TONKIN GULF|NORTH VIETNAM|       110.0|                null|                  0|     A-7|  LTV A-7 Corsair II|     Attack Aircraft|\n",
            "+--------+--------------------+-----------+------------------+-----------+---------------+-------------+------------+--------------------+-------------------+--------+--------------------+--------------------+\n",
            "only showing top 20 rows\n",
            "\n"
          ],
          "name": "stdout"
        }
      ]
    },
    {
      "cell_type": "markdown",
      "metadata": {
        "id": "QhQbN8AOSahN"
      },
      "source": [
        "We can select only the field we are interested in:"
      ]
    },
    {
      "cell_type": "code",
      "metadata": {
        "id": "s5KgFBXASahO",
        "outputId": "0b367e37-dd2d-4446-ba41-428da9ce35e9",
        "colab": {
          "base_uri": "https://localhost:8080/"
        }
      },
      "source": [
        "missions_aircrafts = missions_joined.select(\"AirCraftType\")\n",
        "missions_aircrafts.show(5)"
      ],
      "execution_count": 72,
      "outputs": [
        {
          "output_type": "stream",
          "text": [
            "+--------------------+\n",
            "|        AirCraftType|\n",
            "+--------------------+\n",
            "|Military Transpor...|\n",
            "|Military Transpor...|\n",
            "|  Fighter bomber jet|\n",
            "|         Fighter Jet|\n",
            "|Light ground-atta...|\n",
            "+--------------------+\n",
            "only showing top 5 rows\n",
            "\n"
          ],
          "name": "stdout"
        }
      ]
    },
    {
      "cell_type": "markdown",
      "metadata": {
        "id": "giUuCERTSahT"
      },
      "source": [
        "And finally we can group by `AirCraftType` and count:"
      ]
    },
    {
      "cell_type": "code",
      "metadata": {
        "id": "S0QytpygSahU",
        "outputId": "d2b6b097-0fe3-4760-800d-ac0e10d92add",
        "colab": {
          "base_uri": "https://localhost:8080/"
        }
      },
      "source": [
        "# your code goes here\n",
        "missions_aircrafts.groupBy(\"AirCraftType\").agg(count(\"*\").alias(\"MissionsCount\"))\\\n",
        "                  .sort(desc(\"MissionsCount\"))\\\n",
        "                  .show()"
      ],
      "execution_count": 73,
      "outputs": [
        {
          "output_type": "stream",
          "text": [
            "+--------------------+-------------+\n",
            "|        AirCraftType|MissionsCount|\n",
            "+--------------------+-------------+\n",
            "|  Fighter Jet Bomber|      1073126|\n",
            "|         Fighter Jet|       882594|\n",
            "|  Jet Fighter Bomber|       451385|\n",
            "|     Attack Aircraft|       315246|\n",
            "|Light ground-atta...|       267457|\n",
            "|  Fighter bomber jet|       242231|\n",
            "|Military Transpor...|       228426|\n",
            "|  Utility Helicopter|       146653|\n",
            "|    Strategic bomber|        99100|\n",
            "|     Tactical Bomber|        82219|\n",
            "|Observation Aircraft|        81820|\n",
            "|Fixed wing ground...|        75058|\n",
            "|Ground attack air...|        73843|\n",
            "|Carrier-based Fig...|        58691|\n",
            "|   Training Aircraft|        48435|\n",
            "|       Light fighter|        39999|\n",
            "|        Light Bomber|        39262|\n",
            "|Light Tactical Bo...|        34738|\n",
            "| Light Utility Plane|        28582|\n",
            "|Observation/ Ligh...|        24491|\n",
            "+--------------------+-------------+\n",
            "only showing top 20 rows\n",
            "\n"
          ],
          "name": "stdout"
        }
      ]
    },
    {
      "cell_type": "markdown",
      "metadata": {
        "id": "ffrW-oV2SahW"
      },
      "source": [
        "The aircrafts of type `Fighter Jet Bomber` participated in most of the missions in the Vietnam war.\n",
        "\n",
        "Note: This dataset would require further cleaning and normalization. See `Fighter Jet Bomber`, `Jet Fighter Bomber`, `Fighter bomber jet`"
      ]
    },
    {
      "cell_type": "markdown",
      "metadata": {
        "id": "jdLsVtcSE6F9"
      },
      "source": [
        "# Solutions\n",
        "\n",
        "You can find the solutions here:\n",
        "\n",
        "[Solutions](https://github.com/epfl-ada/2019/blob/master/Tutorials/04%20-%20Scaling%20Up/PySpark.ipynb)"
      ]
    }
  ]
}